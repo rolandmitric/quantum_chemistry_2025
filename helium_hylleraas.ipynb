{
 "cells": [
  {
   "cell_type": "markdown",
   "id": "2126945d",
   "metadata": {},
   "source": [
    "Im ersten Quantenmechanik-Kurs, den Sie alle im Sommersemester besucht haben, haben Sie die **Schrödingergleichung** für **wasserstoffartige** Atome gelöst (also Systeme mit genau einem Elektron, das mit einem Kern der Ladung $+Z$ wechselwirkt). Die analytische Lösung lieferte exakte, nichtrelativistische **Eigenzustände** (Atomorbitale) und **Energien**, die hervorragend mit dem experimentellen Spektrum des Wasserstoffs übereinstimmen. \n",
    "\n",
    "Leider ist das **Wasserstoffatom**—im Rahmen der nichtrelativistischen Quantenmechanik das einzige für Chemiker wirklich relevante System, das sich **vollständig analytisch** behandeln lässt. Möchten wir die elektronische Struktur **allgemeiner Atome und Moleküle** verstehen, müssen wir daher im Allgemeinen auf numerische **Näherungsmethoden** zurückgreifen. Die Entwicklung und Anwendung solcher Methoden ist das zentrale Ziel der **Quantenchemie**: ein Fachgebiet, das beinahe so alt ist wie die Quantenmechanik selbst, aber bis heute äußerst aktiv beforscht wird (z. B. Variationsverfahren, Störungsrechnung, Hartree-Fock, Dichtefunktionaltheorie, Konfigurationswechselwirkung, Coupled Cluster u. a.). Die aktuellsten Entwicklungen auf dem Gebiet der Quantenchemie werden stark durch Fortschritte auf dem Gebiet der künstlichen Intelligenz und der Entwicklung der Quantenrechner- und Algorithmen vorangetrieben.Die neuesten Entwicklungen der Quantenchemie werden wesentlich von Fortschritten in der KI sowie bei Quantencomputern und -algorithmen getragen. \n"
   ]
  },
  {
   "cell_type": "markdown",
   "id": "3bb4f8a3",
   "metadata": {},
   "source": [
    "## Das Helium-Atom"
   ]
  },
  {
   "cell_type": "markdown",
   "id": "89ba891e",
   "metadata": {},
   "source": [
    "Wir beginnen unsere Abenteuer in der Quantenchemie mit dem Heliumatom, das „nur“ zwei Elektronen enthält und doch ungleich schwieriger zu lösen ist als das Wasserstoffatom. Dieses Beispiel soll uns vor allem dazu dienen, einige zentrale Konzepte und Ideen zu motivieren, die die gesamte Quantenchemie durchziehen – und zwar an einem vergleichsweise handhabbaren System, bei dem sich ein Teil der Rechnungen noch „von Hand“ durchführen lässt. Viele der für Helium entwickelten Konzepte werden wir anschließend auf größere Mehrelektronen-Atome ebenso wie auf molekulare Systeme übertragen."
   ]
  },
  {
   "cell_type": "markdown",
   "id": "00662a77",
   "metadata": {},
   "source": [
    "# Helium im einfachsten Modell: Produktansatz ohne Elektron-Elektron-Abstoßung\n",
    "\n",
    "\n",
    "Das Heliumatom besteht aus einem Kern mit Ladungszahl $Z=2$ und zwei Elektronen. Im **nichtrelativistischen** Fall lautet der Hamiltonoperator in Atomaren Einheiten (a.u., also $\\hbar = m_e = e = 4\\pi\\varepsilon_0 = 1$):\n",
    "\n",
    "$$\n",
    "H \\;=\\; \\sum_{i=1}^2 \\left(-\\tfrac12 \\nabla_i^2 - \\frac{Z}{r_i}\\right) \\;+\\; \\frac{1}{r_{12}},\n",
    "\\qquad r_i = |\\mathbf r_i|,\\quad r_{12}=|\\mathbf r_1-\\mathbf r_2|.\n",
    "$$\n",
    "\n",
    "Die **exakte** Lösung der Schrödingergleichung ist in diesem Fall nicht möglich, weil der Term $1/r_{12}$ die beiden Elektronen koppelt. \n",
    "\n",
    "Als Ausgangspunkt im ersten Schritt die Elektron-Elektron-Abstoßung vollständig **weg** und erhalten damit den folgenden vereinfachten Hamiltonian:\n",
    "\n",
    "$$\n",
    "H_0 \\;=\\; \\sum_{i=1}^2 \\left(-\\tfrac12 \\nabla_i^2 - \\frac{Z}{r_i}\\right).\n",
    "$$\n",
    "\n",
    "In diesem Hamiltonian sind beide Elektronen vollständig entkoppelt und der Hamiltonian kann als Summer zweier Terme geschrieben werden, die jeweils nur von den Koordinaten des einen oder des anderen Elektrons abhängen. Solche Terme bezeichnet man in der Quantenchemie als Ein-Elektron Terme. Es gilt also\n",
    "\n",
    "$$H_0 = h(1)+h(2)$$\n",
    "\n",
    "mit dem bekannten „Wasserstoff“-Hamiltonian\n",
    "\n",
    "$$\n",
    "h = -\\tfrac12 \\nabla^2 - \\frac{Z}{r}.\n",
    "$$"
   ]
  },
  {
   "cell_type": "markdown",
   "id": "998afcd6",
   "metadata": {},
   "source": [
    "## 2. Produktansatz (Hartree-Produkt)\n",
    "\n",
    "Für den Grundzustand wählen wir den **Produktansatz**\n",
    "\n",
    "$$\n",
    "\\Psi(\\mathbf r_1,\\mathbf r_2) \\;=\\; \\phi(\\mathbf r_1)\\,\\phi(\\mathbf r_2),\n",
    "$$\n",
    "\n",
    "wobei $\\phi$ ein 1s-ähnliches Orbital am Kern ist. Formal muss die **Gesamtwellenfunktion** (Raum $\\times$ Spin) antisymmetrisch sein (Pauli-Prinzip). Das erreichen wir, indem wir den **Spin-Singulett** wählen; dann darf der räumliche Teil **symmetrisch** (Produkt) bleiben. Im **s-Zustand** hängt $\\phi$ nur vom Radius $r$, nicht von den Winkeln: $\\phi(\\mathbf r)=\\phi(r)$.\n",
    "\n",
    "Für ein „Wasserstoff“-Problem mit Kernladung $Z$ ist die 1s-Lösung proportional zu $e^{-Zr}$ (die normierte Form wäre $\\phi_{1s}(r)=\\sqrt{Z^3/\\pi}\\,e^{-Zr}$). Für unsere Zwecke genügt eine **unnormierte** Form, weil sich die Norm in der Energie $\\langle \\Psi|H_0|\\Psi\\rangle/\\langle \\Psi|\\Psi\\rangle$ kürzt. Wir setzen daher\n",
    "\n",
    "$$\n",
    "\\Psi(\\mathbf r_1,\\mathbf r_2) \\;\\propto\\; e^{-Z(r_1+r_2)}.\n",
    "$$\n",
    "\n",
    "**Erwartungswert der Energie:** Da $H_0$ eine Summe identischer Ein-Elektronen-Operatoren ist und beide Elektronen im gleichen Zustand sind, gilt\n",
    "\n",
    "$$\n",
    "E \\;=\\; 2\\,E_{1s}(Z) \\;=\\; 2\\left(-\\frac{Z^2}{2}\\right) \\;=\\; -\\,Z^2.\n",
    "$$\n",
    "\n",
    "Für Helium ($Z=2$) ergibt das $E=-4$ Hartree. Das ist **zu niedrig** (zu stark gebunden), denn die Elektron-Elektron-Abstoßung wurde ignoriert."
   ]
  },
  {
   "cell_type": "markdown",
   "id": "ee35e3b5",
   "metadata": {},
   "source": [
    "## Radiales Maß und Laplace-Operator\n",
    "\n",
    "Da wir s-Zustände betrachten, sind die Winkeltrivialitäten schnell geklärt:\n",
    "\n",
    "* Das **Volumenelement** separiert zu\n",
    "\n",
    "  $$\n",
    "  \\mathrm d^3 r = r^2 \\sin\\theta\\, \\mathrm dr\\, \\mathrm d\\theta\\, \\mathrm d\\phi,\n",
    "  \\qquad \\int \\mathrm d\\Omega = \\int_0^\\pi\\!\\sin\\theta\\,\\mathrm d\\theta \\int_0^{2\\pi}\\!\\mathrm d\\phi = 4\\pi.\n",
    "  $$\n",
    "\n",
    "  Für **zwei** Elektronen sind die Winkelintegrale $(4\\pi)^2$, bleiben aber in der Energieratio ohne Einfluss (konstante Faktoren kürzen sich).\n",
    "\n",
    "* Der **radiale Laplace-Operator** für spherische (winkelunabhängige) Funktionen lautet\n",
    "\n",
    "  $$\n",
    "  \\nabla^2 f(r) \\;=\\; \\frac{\\mathrm d^2 f}{\\mathrm d r^2} \\;+\\; \\frac{2}{r}\\,\\frac{\\mathrm d f}{\\mathrm d r}.\n",
    "  $$\n",
    "\n",
    "  Im Hamiltonian wirkt $-\\tfrac12\\nabla^2$ – die zusätzliche $\\tfrac{2}{r}$-Struktur erklärt die späteren Ableitungen im Code.\n",
    "\n",
    "## 4. Was wir symbolisch integrieren\n",
    "\n",
    "Wir werten\n",
    "\n",
    "$$\n",
    "E \\;=\\; \\frac{\\langle \\Psi|H_0|\\Psi\\rangle}{\\langle \\Psi|\\Psi\\rangle}\n",
    "$$\n",
    "\n",
    "über den **ganzen 6D-Raum** aus. Nach Winkelintegration bleibt\n",
    "\n",
    "$$\n",
    "\\langle \\Psi|\\Psi\\rangle\n",
    "= (4\\pi)^2 \\int_0^\\infty\\!\\!\\int_0^\\infty r_1^2 r_2^2\\, \\Psi(r_1,r_2)^2\\,\\mathrm dr_1\\,\\mathrm dr_2,\n",
    "$$\n",
    "\n",
    "und analog $\\langle \\Psi|H_0|\\Psi\\rangle$. Die gemeinsamen Konstanten $(4\\pi)^2$ kürzen sich in $E$ heraus – wir können sie also mitrechnen (transparentes Maß) oder weglassen (kürzerer Code).\n",
    "\n"
   ]
  },
  {
   "cell_type": "code",
   "execution_count": 1,
   "id": "c283375f",
   "metadata": {},
   "outputs": [
    {
     "data": {
      "text/latex": [
       "$\\displaystyle - Z^{2}$"
      ],
      "text/plain": [
       "-Z**2"
      ]
     },
     "execution_count": 1,
     "metadata": {},
     "output_type": "execute_result"
    }
   ],
   "source": [
    "import sympy as sp\n",
    "from sympy import oo\n",
    "r1, r2, Z = sp.symbols('r1 r2 Z', positive=True, real=True)\n",
    "\n",
    "def laplacian_radial(psi, r):\n",
    "    return psi.diff(r, 2) + (2/r)*psi.diff(r)\n",
    "\n",
    "def T(psi):\n",
    "    return -sp.S.Half * (laplacian_radial(psi, r1) + laplacian_radial(psi, r2))\n",
    "\n",
    "def V_ne(psi):\n",
    "    return -(Z/r1 + Z/r2) * psi\n",
    "\n",
    "def H0(psi):\n",
    "    return T(psi) + V_ne(psi)\n",
    "\n",
    "psi0 = sp.exp(-Z*(r1 + r2))  \n",
    "\n",
    "def integrate_6d(f):\n",
    "    integrand = (4*sp.pi)**2 * r1**2 * r2**2 * f\n",
    "    I_r2 = sp.integrate(integrand, (r2, 0, sp.oo))\n",
    "    I_r1 = sp.integrate(I_r2, (r1, 0, sp.oo))\n",
    "    return sp.simplify(I_r1)\n",
    "\n",
    "def energy(psi, H):\n",
    "    num = integrate_6d(psi * H(psi))\n",
    "    den = integrate_6d(psi * psi)\n",
    "    return sp.simplify(num/den)\n",
    "\n",
    "E_Z = energy(psi0, H0)            \n",
    "E_Z"
   ]
  },
  {
   "cell_type": "code",
   "execution_count": 2,
   "id": "f464a832",
   "metadata": {},
   "outputs": [
    {
     "name": "stdout",
     "output_type": "stream",
     "text": [
      "Energie = -4\n"
     ]
    }
   ],
   "source": [
    "E_He = sp.simplify(E_Z.subs(Z, 2))  # Helium-Ergebnis\n",
    "\n",
    "print(f\"Energie = {E_He}\")"
   ]
  },
  {
   "cell_type": "markdown",
   "id": "0a56af40",
   "metadata": {},
   "source": [
    "## Wie groß ist die Elektron-Elektron Wechselwirkung ?"
   ]
  },
  {
   "cell_type": "markdown",
   "id": "f2e60396",
   "metadata": {},
   "source": [
    "In order to estimate the electron-electron interaction we calculate its expectation value using our product Ansatz for the wavefunction. The expectation value of the electron-electron interaction term is given by the following expression: "
   ]
  },
  {
   "cell_type": "code",
   "execution_count": 3,
   "id": "0dee8d36",
   "metadata": {},
   "outputs": [
    {
     "name": "stdout",
     "output_type": "stream",
     "text": [
      "5/4\n"
     ]
    }
   ],
   "source": [
    "r1, r2, r12 = sp.symbols('r1 r2 r12', positive=True, real=True)\n",
    "Z = sp.Integer(2)\n",
    "\n",
    "psi0 = sp.exp(-Z*(r1 + r2))\n",
    "\n",
    "dV = 8*sp.pi**2 * r1 * r2 * r12\n",
    "\n",
    "S = sp.integrate(\n",
    "        dV * psi0**2,\n",
    "        (r12, sp.Abs(r1 - r2), r1 + r2),\n",
    "        (r2, 0, sp.oo),\n",
    "        (r1, 0, sp.oo)\n",
    "    )\n",
    "\n",
    "\n",
    "Vee = sp.integrate(\n",
    "        dV * psi0**2 * (1/r12),\n",
    "        (r12, sp.Abs(r1 - r2), r1 + r2),\n",
    "        (r2, 0, sp.oo),\n",
    "        (r1, 0, sp.oo)\n",
    "    )\n",
    "print(Vee/S)"
   ]
  },
  {
   "cell_type": "markdown",
   "id": "291e6c5c",
   "metadata": {},
   "source": [
    "## Die Methode von Hylleraas"
   ]
  },
  {
   "cell_type": "markdown",
   "id": "fcc853a2",
   "metadata": {},
   "source": [
    "### Transforming Laplacian to Hylleraas coordinates"
   ]
  },
  {
   "cell_type": "code",
   "execution_count": 4,
   "id": "dcd7c53a",
   "metadata": {},
   "outputs": [
    {
     "name": "stdout",
     "output_type": "stream",
     "text": [
      "((r1*(x_0 - x_3)*Derivative(psi(s, t, u), u) + r12*x_0*(Derivative(psi(s, t, u), s) + Derivative(psi(s, t, u), t)))**2 + (r1*(x_1 - x_4)*Derivative(psi(s, t, u), u) + r12*x_1*(Derivative(psi(s, t, u), s) + Derivative(psi(s, t, u), t)))**2 + (r1*(x_2 - x_5)*Derivative(psi(s, t, u), u) + r12*x_2*(Derivative(psi(s, t, u), s) + Derivative(psi(s, t, u), t)))**2)/(r1**2*r12**2)\n"
     ]
    }
   ],
   "source": [
    "import sympy as sp\n",
    "x = sp.symarray('x',6, real = True)\n",
    "R1 = sp.Matrix(x[0:3])\n",
    "R2 = sp.Matrix(x[3:])\n",
    "r1 = R1.norm()\n",
    "r2 = R2.norm()\n",
    "r12 = (R2 - R1).norm() \n",
    "s_fun,t_fun,u_fun = r1+r2, r1-r2, r12\n",
    "s,t,u = sp.symbols('s t u', real = True)\n",
    "psi = sp.Function('psi')(s,t,u)\n",
    "\n",
    "grad_psi = [(psi.diff(s)*s_fun.diff(x[i])+\n",
    "            psi.diff(t)*t_fun.diff(x[i])+\n",
    "            psi.diff(u)*u_fun.diff(x[i]))**2 for i in range(3)]\n",
    "nabla = sum(grad_psi).simplify()\n",
    "subsdict = {r1:sp.symbols('r1'),\n",
    "            r2:sp.symbols('r1'),\n",
    "            r12: sp.symbols('r12'),\n",
    "           r1**2:sp.symbols('r1')**2,\n",
    "           r2**2:sp.symbols('r2')**2,\n",
    "           r12**2:sp.symbols('r12')**2}\n",
    "nabla = nabla.subs(subsdict)\n",
    "print(nabla)"
   ]
  },
  {
   "cell_type": "code",
   "execution_count": 5,
   "id": "4bcfed46",
   "metadata": {},
   "outputs": [
    {
     "data": {
      "text/latex": [
       "$\\displaystyle \\frac{\\left(r_{1} \\left(x_{0} - x_{3}\\right) \\frac{\\partial}{\\partial u} \\psi{\\left(s,t,u \\right)} + r_{12} x_{0} \\left(\\frac{\\partial}{\\partial s} \\psi{\\left(s,t,u \\right)} + \\frac{\\partial}{\\partial t} \\psi{\\left(s,t,u \\right)}\\right)\\right)^{2} + \\left(r_{1} \\left(x_{1} - x_{4}\\right) \\frac{\\partial}{\\partial u} \\psi{\\left(s,t,u \\right)} + r_{12} x_{1} \\left(\\frac{\\partial}{\\partial s} \\psi{\\left(s,t,u \\right)} + \\frac{\\partial}{\\partial t} \\psi{\\left(s,t,u \\right)}\\right)\\right)^{2} + \\left(r_{1} \\left(x_{2} - x_{5}\\right) \\frac{\\partial}{\\partial u} \\psi{\\left(s,t,u \\right)} + r_{12} x_{2} \\left(\\frac{\\partial}{\\partial s} \\psi{\\left(s,t,u \\right)} + \\frac{\\partial}{\\partial t} \\psi{\\left(s,t,u \\right)}\\right)\\right)^{2}}{r_{1}^{2} r_{12}^{2}}$"
      ],
      "text/plain": [
       "((r1*(x_0 - x_3)*Derivative(psi(s, t, u), u) + r12*x_0*(Derivative(psi(s, t, u), s) + Derivative(psi(s, t, u), t)))**2 + (r1*(x_1 - x_4)*Derivative(psi(s, t, u), u) + r12*x_1*(Derivative(psi(s, t, u), s) + Derivative(psi(s, t, u), t)))**2 + (r1*(x_2 - x_5)*Derivative(psi(s, t, u), u) + r12*x_2*(Derivative(psi(s, t, u), s) + Derivative(psi(s, t, u), t)))**2)/(r1**2*r12**2)"
      ]
     },
     "execution_count": 5,
     "metadata": {},
     "output_type": "execute_result"
    }
   ],
   "source": [
    "nabla.simplify()"
   ]
  },
  {
   "cell_type": "code",
   "execution_count": 6,
   "id": "902ff2ba",
   "metadata": {},
   "outputs": [
    {
     "data": {
      "text/latex": [
       "$\\displaystyle u$"
      ],
      "text/plain": [
       "u"
      ]
     },
     "execution_count": 6,
     "metadata": {},
     "output_type": "execute_result"
    }
   ],
   "source": [
    "x1,x2,x3,x4,x5,x6 = sp.symbols('x1 x2 x3 x4 x5 x6', real = True)\n",
    "r1v = sp.Matrix([x1,x2,x3])\n",
    "r2v = sp.Matrix([x4,x5,x6])\n",
    "r1 = r1v.norm()\n",
    "r2 = r2v.norm()\n",
    "r12 = (r2v-r1v).norm()\n",
    "\n",
    "psi = sp.Function('psi')(x1,x2,x3,x4,x5,x6)\n",
    "s = r1 + r2\n",
    "t = r1 - r2\n",
    "u "
   ]
  },
  {
   "cell_type": "code",
   "execution_count": 7,
   "id": "3a9098e1",
   "metadata": {},
   "outputs": [],
   "source": [
    "import sympy as sp\n",
    "from sympy import oo\n",
    "\n",
    "# symbols\n",
    "r1, theta1, phi1 = sp.symbols('r1 theta1 phi1', real=True, positive=True)\n",
    "r2, theta2, phi2 = sp.symbols('r2 theta2 phi2', real=True, positive=True)\n",
    "zeta = sp.symbols('zeta', real=True, positive=True)\n",
    "gamma = sp.symbols('gamma', real=True) \n",
    "s,t,u = sp.symbols('s t u', real=True, positive=True)\n",
    "k,l,m,n,o,p = sp.symbols('k l m n o p', integer = True, positive = True)\n",
    "\n",
    "# Hylleraas defs\n",
    "ss = r1 + r2\n",
    "tt = r1 - r2\n",
    "uu = sp.sqrt(r1**2 + r2**2 - 2*r1*r2*gamma)  # r12\n",
    "\n",
    "def laplace(f):\n",
    "    Dr  = f.diff(r1,2) + f.diff(r2,2) + (2/r1)*f.diff(r1) + (2/r2)*f.diff(r2)\n",
    "    DOm = (1-gamma**2)*f.diff(gamma,2) - 2*gamma*f.diff(gamma)\n",
    "    D   = Dr + (1/r1**2 + 1/r2**2)*DOm  # <-- FIXED coefficient\n",
    "    D = sp.simplify(D.subs({gamma:(r1**2 + r2**2 - u**2)/(2*r1*r2)}))\n",
    "    D = sp.simplify(D.subs({r1:(s+t)/2, r2:(s-t)/2}))\n",
    "    return D\n",
    "\n",
    "def integral(expr):\n",
    "    I1 = sp.integrate(expr * u*(s**2 - t**2), (t, -u, u)) \n",
    "    I2 = sp.integrate(I1, (u, 0, s))\n",
    "    I3 = sp.integrate(I2, (s, 0, oo))\n",
    "    return I3\n",
    "\n",
    "def grad_stu(psi):\n",
    "    A = psi.diff(u)\n",
    "    B = psi.diff(s) + psi.diff(t)\n",
    "    C = 2*(s*t + u**2)/((s+t)*u)   \n",
    "    D = A**2 + B**2 + C*A*B\n",
    "    D = D + D.subs(t,-t)\n",
    "    return sp.simplify(D)"
   ]
  },
  {
   "cell_type": "code",
   "execution_count": 8,
   "id": "046a72d2",
   "metadata": {},
   "outputs": [
    {
     "name": "stdout",
     "output_type": "stream",
     "text": [
      "E(zeta) = zeta*(8*zeta - 27)/8\n"
     ]
    },
    {
     "data": {
      "image/png": "[encoded data removed]",
      "text/plain": [
       "<Figure size 640x480 with 1 Axes>"
      ]
     },
     "metadata": {},
     "output_type": "display_data"
    },
    {
     "data": {
      "text/plain": [
       "<sympy.plotting.plot.Plot at 0x111880c10>"
      ]
     },
     "execution_count": 8,
     "metadata": {},
     "output_type": "execute_result"
    }
   ],
   "source": [
    "psi_stu = [sp.exp(-zeta*s), sp.exp(-zeta*s)*u]\n",
    "psi_rrg = [sp.exp(-zeta*ss), sp.exp(-zeta*ss)*uu]\n",
    "\n",
    "#D_psi = [sp.simplify(laplace(psi_i)) for psi_i in psi_rrg]\n",
    "D_psi= [sp.simplify(grad_stu(psi_i)) for psi_i in psi_stu]\n",
    "\n",
    "def V(expr):\n",
    "    return (1/u - 4/(s+t) - 4/(s-t)) * expr\n",
    "\n",
    "#num = sp.simplify(integral(psi_stu[0]*(-D_psi[0]/2 + V(psi_stu[0]))))\n",
    "num = sp.simplify(integral(((D_psi[0])/2 + psi_stu[0]*V(psi_stu[0]))))\n",
    "\n",
    "den = sp.simplify(integral(psi_stu[0]**2))\n",
    "E = sp.simplify(num/den)\n",
    "print(\"E(zeta) =\", E)\n",
    "\n",
    "sp.plot(E, xlim = (0,2),ylim = (-3,0), line_color=3.0)"
   ]
  },
  {
   "cell_type": "markdown",
   "id": "db3269e4",
   "metadata": {},
   "source": [
    "### Minimize energy\n"
   ]
  },
  {
   "cell_type": "code",
   "execution_count": 9,
   "id": "317c3b05",
   "metadata": {},
   "outputs": [],
   "source": [
    "zeta_min = sp.solve(sp.Eq(E.diff(zeta),0),zeta)\n",
    "E = E.subs(zeta,zeta_min[0])"
   ]
  },
  {
   "cell_type": "code",
   "execution_count": 10,
   "id": "21b2c56f",
   "metadata": {},
   "outputs": [
    {
     "name": "stdout",
     "output_type": "stream",
     "text": [
      "Minimal energy = -2.84765625 E_H\n"
     ]
    }
   ],
   "source": [
    "print(f\"Minimal energy = {float(E)} E_H\")"
   ]
  },
  {
   "cell_type": "code",
   "execution_count": 11,
   "id": "967ab110",
   "metadata": {},
   "outputs": [
    {
     "name": "stdout",
     "output_type": "stream",
     "text": [
      "Relative error: -1.91946862260466\n"
     ]
    }
   ],
   "source": [
    "E_exp = -2.90338583\n",
    "print(\"Relative error:\" ,100.*(E-E_exp)/E_exp)"
   ]
  },
  {
   "cell_type": "markdown",
   "id": "b04c78a8",
   "metadata": {},
   "source": [
    "## Fully general Hylleraas calculation"
   ]
  },
  {
   "cell_type": "code",
   "execution_count": 47,
   "id": "1ca59ac6",
   "metadata": {},
   "outputs": [],
   "source": [
    "s,t,u = sp.symbols('s t u', real = True)\n",
    "zeta = sp.symbols('zeta', real = True, positive = True)\n",
    "k,l,m,n,o,p = sp.symbols('k l m n o p', real = True, positive = True)"
   ]
  },
  {
   "cell_type": "code",
   "execution_count": 48,
   "id": "f206763b",
   "metadata": {},
   "outputs": [],
   "source": [
    "def grad_stu_ij(psi_i, psi_j):\n",
    "    Ai = sp.diff(psi_i, u)\n",
    "    Bi = sp.diff(psi_i, s) + sp.diff(psi_i, t)\n",
    "    Aj = sp.diff(psi_j, u)\n",
    "    Bj = sp.diff(psi_j, s) + sp.diff(psi_j, t)\n",
    "    C = 2*(s*t + u**2)/((s + t)*u)\n",
    "    G = Ai*Aj + Bi*Bj + sp.Rational(1,2)*C*(Ai*Bj + Aj*Bi)\n",
    "    Gsym = sp.simplify(G + G.subs(t, -t))\n",
    "    return Gsym\n",
    "\n",
    "def integral(expr):\n",
    "    I1 = sp.integrate(expr * u*(s**2 - t**2), (t, -u, u)) \n",
    "    I2 = sp.integrate(I1, (u, 0, s))\n",
    "    I3 = sp.integrate(I2, (s, 0, oo))\n",
    "    return I3\n",
    "\n",
    "def V(psi):\n",
    "    return (1/u - 4/(s+t) - 4/(s-t)) * psi"
   ]
  },
  {
   "cell_type": "code",
   "execution_count": 49,
   "id": "c59210d7",
   "metadata": {},
   "outputs": [],
   "source": [
    "psi0 = sp.exp(-zeta*s)\n",
    "#psi = [psi0, psi0*u, psi0*t**2, \n",
    "#       psi0*s, psi0*s**2, psi0*u**2, \n",
    "#       psi0*u*s, psi0*t**2*u, psi0*u**3, psi0*t**2*u**2 ]\n",
    "psi = [psi0, psi0*u]"
   ]
  },
  {
   "cell_type": "code",
   "execution_count": 50,
   "id": "92f0e188",
   "metadata": {},
   "outputs": [],
   "source": [
    "def V(expr):\n",
    "    return (1/u - 4/(s+t) - 4/(s-t)) * expr"
   ]
  },
  {
   "cell_type": "code",
   "execution_count": 51,
   "id": "3ecb01c4",
   "metadata": {},
   "outputs": [
    {
     "data": {
      "text/latex": [
       "$\\displaystyle \\frac{311 E^{2} - 810 E \\zeta^{2} + 1952 E \\zeta + 399 \\zeta^{4} - 2304 \\zeta^{3} + 2846 \\zeta^{2}}{256 \\zeta^{14}}$"
      ],
      "text/plain": [
       "(311*E**2 - 810*E*zeta**2 + 1952*E*zeta + 399*zeta**4 - 2304*zeta**3 + 2846*zeta**2)/(256*zeta**14)"
      ]
     },
     "execution_count": 51,
     "metadata": {},
     "output_type": "execute_result"
    }
   ],
   "source": [
    "N = len(psi)\n",
    "H = sp.zeros(N,N)\n",
    "S = sp.zeros(N,N)\n",
    "\n",
    "for i in range(N):\n",
    "    for j in range(N):\n",
    "        S[i, j] = integral(psi[i] * psi[j])\n",
    "        Tij = integral(grad_stu_ij(psi[i],psi[j])/2)\n",
    "        Vij = integral(psi[i]*V(psi[j]))\n",
    "        H[i, j] = Tij + Vij\n",
    "\n",
    "E = sp.symbols('E', real = True)\n",
    "detH = (H-E*S).det()\n",
    "detH"
   ]
  },
  {
   "cell_type": "code",
   "execution_count": 52,
   "id": "be95cb5f",
   "metadata": {},
   "outputs": [],
   "source": [
    "eqn = sp.Eq(Hmat.det(),0)\n",
    "sol = sp.solve(eqn,E)"
   ]
  },
  {
   "cell_type": "code",
   "execution_count": 53,
   "id": "a31628ed",
   "metadata": {},
   "outputs": [],
   "source": [
    "zeta_min = sp.nsolve(sp.diff(sol[0], zeta), .5) \n",
    "E_Hylleraas_2 = sol[0].subs(zeta,zeta_min)"
   ]
  },
  {
   "cell_type": "code",
   "execution_count": 54,
   "id": "7c7bab56",
   "metadata": {},
   "outputs": [
    {
     "name": "stdout",
     "output_type": "stream",
     "text": [
      "Experimental Energy = -2.90372438 Hartree\n",
      "Theoretical (2-term Hylleraas) = -2.89112071679167 Hartree\n",
      "Relative error = 0.434051637102224 Percent\n"
     ]
    }
   ],
   "source": [
    "E_exp = -2.90372438\n",
    "Delta_E = E_Hylleraas_2 - E_exp\n",
    "rel_error = (abs(Delta_E)/abs(E_exp))*100.\n",
    "print(f\"Experimental Energy = {E_exp} Hartree\")\n",
    "print(f\"Theoretical (2-term Hylleraas) = {E_Hylleraas_2} Hartree\")\n",
    "print(f\"Relative error = {rel_error} Percent\")"
   ]
  },
  {
   "cell_type": "code",
   "execution_count": 56,
   "id": "a9b3a933",
   "metadata": {},
   "outputs": [
    {
     "name": "stdout",
     "output_type": "stream",
     "text": [
      "Matrix([[-E/zeta**6 + zeta**(-4) - 27/(8*zeta**5), -35*E/(16*zeta**7) + 25/(16*zeta**5) - 13/(2*zeta**6), -3*E/(2*zeta**8) + 3/(2*zeta**6) - 87/(16*zeta**7), -3*E/zeta**7 + 2/zeta**5 - 135/(16*zeta**6), -21*E/(2*zeta**8) + 9/(2*zeta**6) - 405/(16*zeta**7), -6*E/zeta**8 + 3/zeta**6 - 253/(16*zeta**7), -245*E/(32*zeta**8) + 115/(32*zeta**6) - 39/(2*zeta**7), -77*E/(16*zeta**9) + 63/(16*zeta**7) - 16/zeta**8, -315*E/(16*zeta**9) + 105/(16*zeta**7) - 93/(2*zeta**8), -18*E/zeta**10 + 12/zeta**8 - 883/(16*zeta**9)], [-35*E/(16*zeta**7) + 25/(16*zeta**5) - 13/(2*zeta**6), -6*E/zeta**8 + 4/zeta**6 - 253/(16*zeta**7), -77*E/(16*zeta**9) + 73/(16*zeta**7) - 16/zeta**8, -245*E/(32*zeta**8) + 135/(32*zeta**6) - 39/(2*zeta**7), -245*E/(8*zeta**9) + 25/(2*zeta**7) - 273/(4*zeta**8), -315*E/(16*zeta**9) + 175/(16*zeta**7) - 93/(2*zeta**8), -24*E/zeta**9 + 12/zeta**7 - 1771/(32*zeta**8), -18*E/zeta**10 + 15/zeta**8 - 883/(16*zeta**9), -75*E/zeta**10 + 33/zeta**8 - 2565/(16*zeta**9), -2457*E/(32*zeta**11) + 1771/(32*zeta**9) - 873/(4*zeta**10)], [-3*E/(2*zeta**8) + 3/(2*zeta**6) - 87/(16*zeta**7), -77*E/(16*zeta**9) + 73/(16*zeta**7) - 16/zeta**8, -9*E/zeta**10 + 15/zeta**8 - 537/(16*zeta**9), -6*E/zeta**9 + 9/(2*zeta**7) - 609/(32*zeta**8), -27*E/zeta**10 + 15/zeta**8 - 609/(8*zeta**9), -18*E/zeta**10 + 15/zeta**8 - 883/(16*zeta**9), -693*E/(32*zeta**10) + 497/(32*zeta**8) - 64/zeta**9, -1215*E/(32*zeta**11) + 1753/(32*zeta**9) - 531/(4*zeta**10), -2457*E/(32*zeta**11) + 1743/(32*zeta**9) - 873/(4*zeta**10), -180*E/zeta**12 + 225/zeta**10 - 18945/(32*zeta**11)], [-3*E/zeta**7 + 2/zeta**5 - 135/(16*zeta**6), -245*E/(32*zeta**8) + 135/(32*zeta**6) - 39/(2*zeta**7), -6*E/zeta**9 + 9/(2*zeta**7) - 609/(32*zeta**8), -21*E/(2*zeta**8) + 11/(2*zeta**6) - 405/(16*zeta**7), -42*E/zeta**9 + 33/(2*zeta**7) - 2835/(32*zeta**8), -24*E/zeta**9 + 21/(2*zeta**7) - 1771/(32*zeta**8), -245*E/(8*zeta**9) + 205/(16*zeta**7) - 273/(4*zeta**8), -693*E/(32*zeta**10) + 455/(32*zeta**8) - 64/zeta**9, -2835*E/(32*zeta**10) + 945/(32*zeta**8) - 186/zeta**9, -90*E/zeta**11 + 51/zeta**9 - 7947/(32*zeta**10)], [-21*E/(2*zeta**8) + 9/(2*zeta**6) - 405/(16*zeta**7), -245*E/(8*zeta**9) + 25/(2*zeta**7) - 273/(4*zeta**8), -27*E/zeta**10 + 15/zeta**8 - 609/(8*zeta**9), -42*E/zeta**9 + 33/(2*zeta**7) - 2835/(32*zeta**8), -189*E/zeta**10 + 63/zeta**8 - 2835/(8*zeta**9), -108*E/zeta**10 + 39/zeta**8 - 1771/(8*zeta**9), -2205*E/(16*zeta**10) + 385/(8*zeta**8) - 273/zeta**9, -3465*E/(32*zeta**11) + 1799/(32*zeta**9) - 288/zeta**10, -14175*E/(32*zeta**11) + 4305/(32*zeta**9) - 837/zeta**10, -495*E/zeta**12 + 234/zeta**10 - 39735/(32*zeta**11)], [-6*E/zeta**8 + 3/zeta**6 - 253/(16*zeta**7), -315*E/(16*zeta**9) + 175/(16*zeta**7) - 93/(2*zeta**8), -18*E/zeta**10 + 15/zeta**8 - 883/(16*zeta**9), -24*E/zeta**9 + 21/(2*zeta**7) - 1771/(32*zeta**8), -108*E/zeta**10 + 39/zeta**8 - 1771/(8*zeta**9), -75*E/zeta**10 + 39/zeta**8 - 2565/(16*zeta**9), -2835*E/(32*zeta**10) + 1295/(32*zeta**8) - 186/zeta**9, -2457*E/(32*zeta**11) + 1911/(32*zeta**9) - 873/(4*zeta**10), -10395*E/(32*zeta**11) + 4725/(32*zeta**9) - 2535/(4*zeta**10), -735*E/(2*zeta**12) + 519/(2*zeta**10) - 31143/(32*zeta**11)], [-245*E/(32*zeta**8) + 115/(32*zeta**6) - 39/(2*zeta**7), -24*E/zeta**9 + 12/zeta**7 - 1771/(32*zeta**8), -693*E/(32*zeta**10) + 497/(32*zeta**8) - 64/zeta**9, -245*E/(8*zeta**9) + 205/(16*zeta**7) - 273/(4*zeta**8), -2205*E/(16*zeta**10) + 385/(8*zeta**8) - 273/zeta**9, -2835*E/(32*zeta**10) + 1295/(32*zeta**8) - 186/zeta**9, -108*E/zeta**10 + 45/zeta**8 - 1771/(8*zeta**9), -90*E/zeta**11 + 60/zeta**9 - 7947/(32*zeta**10), -375*E/zeta**11 + 147/zeta**9 - 23085/(32*zeta**10), -27027*E/(64*zeta**12) + 16317/(64*zeta**10) - 4365/(4*zeta**11)], [-77*E/(16*zeta**9) + 63/(16*zeta**7) - 16/zeta**8, -18*E/zeta**10 + 15/zeta**8 - 883/(16*zeta**9), -1215*E/(32*zeta**11) + 1753/(32*zeta**9) - 531/(4*zeta**10), -693*E/(32*zeta**10) + 455/(32*zeta**8) - 64/zeta**9, -3465*E/(32*zeta**11) + 1799/(32*zeta**9) - 288/zeta**10, -2457*E/(32*zeta**11) + 1911/(32*zeta**9) - 873/(4*zeta**10), -90*E/zeta**11 + 60/zeta**9 - 7947/(32*zeta**10), -180*E/zeta**12 + 234/zeta**10 - 18945/(32*zeta**11), -735*E/(2*zeta**12) + 513/(2*zeta**10) - 31143/(32*zeta**11), -15147*E/(16*zeta**13) + 17631/(16*zeta**11) - 5877/(2*zeta**12)], [-315*E/(16*zeta**9) + 105/(16*zeta**7) - 93/(2*zeta**8), -75*E/zeta**10 + 33/zeta**8 - 2565/(16*zeta**9), -2457*E/(32*zeta**11) + 1743/(32*zeta**9) - 873/(4*zeta**10), -2835*E/(32*zeta**10) + 945/(32*zeta**8) - 186/zeta**9, -14175*E/(32*zeta**11) + 4305/(32*zeta**9) - 837/zeta**10, -10395*E/(32*zeta**11) + 4725/(32*zeta**9) - 2535/(4*zeta**10), -375*E/zeta**11 + 147/zeta**9 - 23085/(32*zeta**10), -735*E/(2*zeta**12) + 513/(2*zeta**10) - 31143/(32*zeta**11), -1575*E/zeta**12 + 675/zeta**10 - 90405/(32*zeta**11), -31185*E/(16*zeta**13) + 20601/(16*zeta**11) - 4830/zeta**12], [-18*E/zeta**10 + 12/zeta**8 - 883/(16*zeta**9), -2457*E/(32*zeta**11) + 1771/(32*zeta**9) - 873/(4*zeta**10), -180*E/zeta**12 + 225/zeta**10 - 18945/(32*zeta**11), -90*E/zeta**11 + 51/zeta**9 - 7947/(32*zeta**10), -495*E/zeta**12 + 234/zeta**10 - 39735/(32*zeta**11), -735*E/(2*zeta**12) + 519/(2*zeta**10) - 31143/(32*zeta**11), -27027*E/(64*zeta**12) + 16317/(64*zeta**10) - 4365/(4*zeta**11), -15147*E/(16*zeta**13) + 17631/(16*zeta**11) - 5877/(2*zeta**12), -31185*E/(16*zeta**13) + 20601/(16*zeta**11) - 4830/zeta**12, -10935*E/(2*zeta**14) + 11715/(2*zeta**12) - 257013/(16*zeta**13)]])\n"
     ]
    }
   ],
   "source": [
    "psi = [psi0, psi0*u, psi0*t**2, \n",
    "       psi0*s, psi0*s**2, psi0*u**2, \n",
    "       psi0*u*s, psi0*t**2*u, psi0*u**3, psi0*t**2*u**2 ]\n",
    "N = len(psi)\n",
    "H = sp.zeros(N,N)\n",
    "S = sp.zeros(N,N)\n",
    "\n",
    "for i in range(N):\n",
    "    for j in range(N):\n",
    "        S[i, j] = integral(psi[i] * psi[j])\n",
    "        Tij = integral(grad_stu_ij(psi[i],psi[j])/2)\n",
    "        Vij = integral(psi[i]*V(psi[j]))\n",
    "        H[i, j] = Tij + Vij\n",
    "\n",
    "E = sp.symbols('E', real = True)\n",
    "H - E*S"
   ]
  },
  {
   "cell_type": "code",
   "execution_count": 60,
   "id": "38b1686b",
   "metadata": {},
   "outputs": [
    {
     "name": "stdout",
     "output_type": "stream",
     "text": [
      "zeta_min = 1.757763,  E_0 = -2.903602728537 Hartree\n"
     ]
    }
   ],
   "source": [
    "import numpy as np\n",
    "import sympy as sp\n",
    "from scipy.linalg import eigh\n",
    "from scipy.optimize import minimize_scalar\n",
    "\n",
    "H_fun = sp.lambdify(zeta, sp.Matrix(H), 'numpy')   # H aus deinem Code\n",
    "S_fun = sp.lambdify(zeta, sp.Matrix(S), 'numpy')   # S aus deinem Code\n",
    "\n",
    "def ground_energy(z):\n",
    "    H = np.array(H_fun(z), dtype=float)\n",
    "    S = np.array(S_fun(z), dtype=float)\n",
    "    w, _ = eigh(H, S)          \n",
    "    return w[0]                 \n",
    "# ζ-Optimierung (Grenzen ggf. anpassen)\n",
    "res = minimize_scalar(ground_energy, method='brent', bracket=(0.3, 3.0, 6.0))\n",
    "zeta_opt = res.x\n",
    "E0_opt   = res.fun\n",
    "\n",
    "print(f\"zeta_min = {zeta_opt:.6f},  E_0 = {E0_opt:.12f} Hartree\")\n"
   ]
  },
  {
   "cell_type": "code",
   "execution_count": 64,
   "id": "7cf22e1f",
   "metadata": {},
   "outputs": [
    {
     "name": "stdout",
     "output_type": "stream",
     "text": [
      "Experimental Energy = -2.90372438 Hartree\n",
      "10-term Hylleraas expansion = -2.903602728537056 Hartree\n",
      "Relative error = 0.004189497590817224 Percent\n"
     ]
    }
   ],
   "source": [
    "E_exp = -2.90372438\n",
    "Delta_E = E0_opt - E_exp\n",
    "rel_error = (abs(Delta_E)/abs(E_exp))*100.\n",
    "print(f\"Experimental Energy = {E_exp} Hartree\")\n",
    "print(f\"10-term Hylleraas expansion = {E0_opt} Hartree\")\n",
    "print(f\"Relative error = {rel_error} Percent\")"
   ]
  },
  {
   "cell_type": "code",
   "execution_count": null,
   "id": "3ea4f2fe",
   "metadata": {},
   "outputs": [],
   "source": []
  }
 ],
 "metadata": {
  "kernelspec": {
   "display_name": "Python 3 (ipykernel)",
   "language": "python",
   "name": "python3"
  },
  "language_info": {
   "codemirror_mode": {
    "name": "ipython",
    "version": 3
   },
   "file_extension": ".py",
   "mimetype": "text/x-python",
   "name": "python",
   "nbconvert_exporter": "python",
   "pygments_lexer": "ipython3",
   "version": "3.10.9"
  }
 },
 "nbformat": 4,
 "nbformat_minor": 5
}
