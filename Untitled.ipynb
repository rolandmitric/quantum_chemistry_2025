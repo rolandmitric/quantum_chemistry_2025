{
 "cells": [
  {
   "cell_type": "code",
   "execution_count": 8,
   "id": "e26875a4",
   "metadata": {},
   "outputs": [],
   "source": [
    "import sympy as sp\n",
    "from sympy import oo"
   ]
  },
  {
   "cell_type": "code",
   "execution_count": 17,
   "id": "2958dd7b",
   "metadata": {},
   "outputs": [],
   "source": [
    "x= sp.symbols('x', real = True)\n",
    "alpha,beta = sp.symbols('alpha beta', real = True, positive = True)\n",
    "hbar,m = sp.symbols('hbar m', real = True, positive = True)"
   ]
  },
  {
   "cell_type": "code",
   "execution_count": 18,
   "id": "41ee3e9e",
   "metadata": {},
   "outputs": [],
   "source": [
    "psi = sp.exp(-beta*x**2)\n",
    "N = 1/ sp.sqrt(sp.integrate(psi**2,(x,-oo,+oo)))"
   ]
  },
  {
   "cell_type": "code",
   "execution_count": 19,
   "id": "a3cbe8be",
   "metadata": {},
   "outputs": [],
   "source": [
    "psi = N * psi"
   ]
  },
  {
   "cell_type": "code",
   "execution_count": 22,
   "id": "9c3084d8",
   "metadata": {},
   "outputs": [],
   "source": [
    "E = -hbar**2/(2*m)*sp.integrate(psi*psi.diff(x,2),\n",
    "                               (x,-oo,+oo)) + alpha*sp.integrate(x**4*psi**2,(x,-oo,+oo))"
   ]
  },
  {
   "cell_type": "code",
   "execution_count": 24,
   "id": "da1b54ba",
   "metadata": {},
   "outputs": [
    {
     "data": {
      "text/latex": [
       "$\\displaystyle \\frac{3 \\alpha}{16 \\beta^{2}} + \\frac{\\beta \\hbar^{2}}{2 m}$"
      ],
      "text/plain": [
       "3*alpha/(16*beta**2) + beta*hbar**2/(2*m)"
      ]
     },
     "execution_count": 24,
     "metadata": {},
     "output_type": "execute_result"
    }
   ],
   "source": [
    "E"
   ]
  },
  {
   "cell_type": "code",
   "execution_count": null,
   "id": "eac23947",
   "metadata": {},
   "outputs": [],
   "source": []
  }
 ],
 "metadata": {
  "kernelspec": {
   "display_name": "Python 3 (ipykernel)",
   "language": "python",
   "name": "python3"
  },
  "language_info": {
   "codemirror_mode": {
    "name": "ipython",
    "version": 3
   },
   "file_extension": ".py",
   "mimetype": "text/x-python",
   "name": "python",
   "nbconvert_exporter": "python",
   "pygments_lexer": "ipython3",
   "version": "3.10.9"
  }
 },
 "nbformat": 4,
 "nbformat_minor": 5
}
