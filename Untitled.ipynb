{
 "cells": [
  {
   "cell_type": "code",
   "execution_count": 8,
   "id": "8e2bbe17",
   "metadata": {},
   "outputs": [],
   "source": [
    "import sympy as sp\n",
    "from sympy import oo"
   ]
  },
  {
   "cell_type": "code",
   "execution_count": 17,
   "id": "25f0c8fb",
   "metadata": {},
   "outputs": [],
   "source": [
    "x= sp.symbols('x', real = True)\n",
    "alpha,beta = sp.symbols('alpha beta', real = True, positive = True)\n",
    "hbar,m = sp.symbols('hbar m', real = True, positive = True)"
   ]
  },
  {
   "cell_type": "code",
   "execution_count": 18,
   "id": "54002124",
   "metadata": {},
   "outputs": [],
   "source": [
    "psi = sp.exp(-beta*x**2)\n",
    "N = 1/ sp.sqrt(sp.integrate(psi**2,(x,-oo,+oo)))"
   ]
  },
  {
   "cell_type": "code",
   "execution_count": 19,
   "id": "609f6247",
   "metadata": {},
   "outputs": [],
   "source": [
    "psi = N * psi"
   ]
  },
  {
   "cell_type": "code",
   "execution_count": 22,
   "id": "a6ec6ebd",
   "metadata": {},
   "outputs": [],
   "source": [
    "E = -hbar**2/(2*m)*sp.integrate(psi*psi.diff(x,2),\n",
    "                               (x,-oo,+oo)) + alpha*sp.integrate(x**4*psi**2,(x,-oo,+oo))"
   ]
  },
  {
   "cell_type": "code",
   "execution_count": 24,
   "id": "2db63199",
   "metadata": {},
   "outputs": [
    {
     "data": {
      "text/latex": [
       "$\\displaystyle \\frac{3 \\alpha}{16 \\beta^{2}} + \\frac{\\beta \\hbar^{2}}{2 m}$"
      ],
      "text/plain": [
       "3*alpha/(16*beta**2) + beta*hbar**2/(2*m)"
      ]
     },
     "execution_count": 24,
     "metadata": {},
     "output_type": "execute_result"
    }
   ],
   "source": [
    "E"
   ]
  },
  {
   "cell_type": "code",
   "execution_count": 27,
   "id": "ea35c69c",
   "metadata": {},
   "outputs": [],
   "source": [
    "r1,r2 = sp.symbols('r1 r2', real = True, positive = True)\n",
    "Z = sp.symbols('Z', real = True, positive = True)\n",
    "psi1 = sp.exp(-2*Z*r1)\n",
    "psi2 = sp.exp(-2*Z*r2)"
   ]
  },
  {
   "cell_type": "code",
   "execution_count": 43,
   "id": "0ae697b7",
   "metadata": {},
   "outputs": [],
   "source": [
    "J = 16*sp.pi**2*(\n",
    "    sp.integrate(r1*r2**2*psi1*psi2, (r2, 0, r1), (r1, 0, sp.oo))\n",
    "  + sp.integrate(r1**2*r2*psi1*psi2, (r2, r1, sp.oo), (r1, 0, sp.oo))\n",
    ")\n"
   ]
  },
  {
   "cell_type": "code",
   "execution_count": 44,
   "id": "ac68e058",
   "metadata": {},
   "outputs": [
    {
     "data": {
      "text/latex": [
       "$\\displaystyle \\frac{5 \\pi^{2}}{8 Z^{5}}$"
      ],
      "text/plain": [
       "5*pi**2/(8*Z**5)"
      ]
     },
     "execution_count": 44,
     "metadata": {},
     "output_type": "execute_result"
    }
   ],
   "source": [
    "J.simplify()\n"
   ]
  },
  {
   "cell_type": "code",
   "execution_count": 90,
   "id": "050941a5",
   "metadata": {},
   "outputs": [],
   "source": [
    "x1,x2,x3,x4,x5,x6 = sp.symbols('x1 x2 x3 x4 x5 x6', real = True)\n",
    "old_var = sp.Matrix([x1,x2,x3,x4,x5,x6])"
   ]
  },
  {
   "cell_type": "code",
   "execution_count": 91,
   "id": "3c8767e4",
   "metadata": {},
   "outputs": [],
   "source": [
    "r1v = sp.Matrix([x1,x2,x3])\n",
    "r2v = sp.Matrix([x4,x5,x6])\n",
    "r1 = r1v.norm()\n",
    "r2 = r2v.norm()\n",
    "r12 = (r2v-r1v).norm()"
   ]
  },
  {
   "cell_type": "code",
   "execution_count": 92,
   "id": "49923ff7",
   "metadata": {},
   "outputs": [],
   "source": [
    "new_var=sp.Matrix([r1,r2,r12])"
   ]
  },
  {
   "cell_type": "code",
   "execution_count": 93,
   "id": "3ec57ec9",
   "metadata": {},
   "outputs": [],
   "source": [
    "D_s, D_t, D_u = sp.symbols('D_s D_t D_u', real = True, positive = True)\n",
    "D = sp.Matrix([D_s, D_t, D_u ])"
   ]
  },
  {
   "cell_type": "code",
   "execution_count": 94,
   "id": "148a5c1a",
   "metadata": {},
   "outputs": [
    {
     "data": {
      "text/latex": [
       "$\\displaystyle \\left[\\begin{matrix}\\frac{x_{1}}{\\sqrt{x_{1}^{2} + x_{2}^{2} + x_{3}^{2}}} & \\frac{x_{2}}{\\sqrt{x_{1}^{2} + x_{2}^{2} + x_{3}^{2}}} & \\frac{x_{3}}{\\sqrt{x_{1}^{2} + x_{2}^{2} + x_{3}^{2}}} & 0 & 0 & 0\\\\0 & 0 & 0 & \\frac{x_{4}}{\\sqrt{x_{4}^{2} + x_{5}^{2} + x_{6}^{2}}} & \\frac{x_{5}}{\\sqrt{x_{4}^{2} + x_{5}^{2} + x_{6}^{2}}} & \\frac{x_{6}}{\\sqrt{x_{4}^{2} + x_{5}^{2} + x_{6}^{2}}}\\\\\\frac{x_{1} - x_{4}}{\\sqrt{\\left(x_{1} - x_{4}\\right)^{2} + \\left(x_{2} - x_{5}\\right)^{2} + \\left(x_{3} - x_{6}\\right)^{2}}} & \\frac{x_{2} - x_{5}}{\\sqrt{\\left(x_{1} - x_{4}\\right)^{2} + \\left(x_{2} - x_{5}\\right)^{2} + \\left(x_{3} - x_{6}\\right)^{2}}} & \\frac{x_{3} - x_{6}}{\\sqrt{\\left(x_{1} - x_{4}\\right)^{2} + \\left(x_{2} - x_{5}\\right)^{2} + \\left(x_{3} - x_{6}\\right)^{2}}} & \\frac{- x_{1} + x_{4}}{\\sqrt{\\left(x_{1} - x_{4}\\right)^{2} + \\left(x_{2} - x_{5}\\right)^{2} + \\left(x_{3} - x_{6}\\right)^{2}}} & \\frac{- x_{2} + x_{5}}{\\sqrt{\\left(x_{1} - x_{4}\\right)^{2} + \\left(x_{2} - x_{5}\\right)^{2} + \\left(x_{3} - x_{6}\\right)^{2}}} & \\frac{- x_{3} + x_{6}}{\\sqrt{\\left(x_{1} - x_{4}\\right)^{2} + \\left(x_{2} - x_{5}\\right)^{2} + \\left(x_{3} - x_{6}\\right)^{2}}}\\end{matrix}\\right]$"
      ],
      "text/plain": [
       "Matrix([\n",
       "[                            x1/sqrt(x1**2 + x2**2 + x3**2),                             x2/sqrt(x1**2 + x2**2 + x3**2),                             x3/sqrt(x1**2 + x2**2 + x3**2),                                                           0,                                                           0,                                                           0],\n",
       "[                                                         0,                                                          0,                                                          0,                              x4/sqrt(x4**2 + x5**2 + x6**2),                              x5/sqrt(x4**2 + x5**2 + x6**2),                              x6/sqrt(x4**2 + x5**2 + x6**2)],\n",
       "[(x1 - x4)/sqrt((x1 - x4)**2 + (x2 - x5)**2 + (x3 - x6)**2), (x2 - x5)/sqrt((x1 - x4)**2 + (x2 - x5)**2 + (x3 - x6)**2), (x3 - x6)/sqrt((x1 - x4)**2 + (x2 - x5)**2 + (x3 - x6)**2), (-x1 + x4)/sqrt((x1 - x4)**2 + (x2 - x5)**2 + (x3 - x6)**2), (-x2 + x5)/sqrt((x1 - x4)**2 + (x2 - x5)**2 + (x3 - x6)**2), (-x3 + x6)/sqrt((x1 - x4)**2 + (x2 - x5)**2 + (x3 - x6)**2)]])"
      ]
     },
     "execution_count": 94,
     "metadata": {},
     "output_type": "execute_result"
    }
   ],
   "source": [
    "J = new_var.jacobian(old_var)\n",
    "J"
   ]
  },
  {
   "cell_type": "code",
   "execution_count": 106,
   "id": "445ad3f5",
   "metadata": {},
   "outputs": [
    {
     "data": {
      "text/latex": [
       "$\\displaystyle \\left[\\begin{matrix}\\frac{D_{s} x_{1}}{\\sqrt{x_{1}^{2} + x_{2}^{2} + x_{3}^{2}}} + \\frac{D_{u} \\left(x_{1} - x_{4}\\right)}{\\sqrt{\\left(x_{1} - x_{4}\\right)^{2} + \\left(x_{2} - x_{5}\\right)^{2} + \\left(x_{3} - x_{6}\\right)^{2}}}\\\\\\frac{D_{s} x_{2}}{\\sqrt{x_{1}^{2} + x_{2}^{2} + x_{3}^{2}}} + \\frac{D_{u} \\left(x_{2} - x_{5}\\right)}{\\sqrt{\\left(x_{1} - x_{4}\\right)^{2} + \\left(x_{2} - x_{5}\\right)^{2} + \\left(x_{3} - x_{6}\\right)^{2}}}\\\\\\frac{D_{s} x_{3}}{\\sqrt{x_{1}^{2} + x_{2}^{2} + x_{3}^{2}}} + \\frac{D_{u} \\left(x_{3} - x_{6}\\right)}{\\sqrt{\\left(x_{1} - x_{4}\\right)^{2} + \\left(x_{2} - x_{5}\\right)^{2} + \\left(x_{3} - x_{6}\\right)^{2}}}\\\\\\frac{D_{t} x_{4}}{\\sqrt{x_{4}^{2} + x_{5}^{2} + x_{6}^{2}}} + \\frac{D_{u} \\left(- x_{1} + x_{4}\\right)}{\\sqrt{\\left(x_{1} - x_{4}\\right)^{2} + \\left(x_{2} - x_{5}\\right)^{2} + \\left(x_{3} - x_{6}\\right)^{2}}}\\\\\\frac{D_{t} x_{5}}{\\sqrt{x_{4}^{2} + x_{5}^{2} + x_{6}^{2}}} + \\frac{D_{u} \\left(- x_{2} + x_{5}\\right)}{\\sqrt{\\left(x_{1} - x_{4}\\right)^{2} + \\left(x_{2} - x_{5}\\right)^{2} + \\left(x_{3} - x_{6}\\right)^{2}}}\\\\\\frac{D_{t} x_{6}}{\\sqrt{x_{4}^{2} + x_{5}^{2} + x_{6}^{2}}} + \\frac{D_{u} \\left(- x_{3} + x_{6}\\right)}{\\sqrt{\\left(x_{1} - x_{4}\\right)^{2} + \\left(x_{2} - x_{5}\\right)^{2} + \\left(x_{3} - x_{6}\\right)^{2}}}\\end{matrix}\\right]$"
      ],
      "text/plain": [
       "Matrix([\n",
       "[ D_s*x1/sqrt(x1**2 + x2**2 + x3**2) + D_u*(x1 - x4)/sqrt((x1 - x4)**2 + (x2 - x5)**2 + (x3 - x6)**2)],\n",
       "[ D_s*x2/sqrt(x1**2 + x2**2 + x3**2) + D_u*(x2 - x5)/sqrt((x1 - x4)**2 + (x2 - x5)**2 + (x3 - x6)**2)],\n",
       "[ D_s*x3/sqrt(x1**2 + x2**2 + x3**2) + D_u*(x3 - x6)/sqrt((x1 - x4)**2 + (x2 - x5)**2 + (x3 - x6)**2)],\n",
       "[D_t*x4/sqrt(x4**2 + x5**2 + x6**2) + D_u*(-x1 + x4)/sqrt((x1 - x4)**2 + (x2 - x5)**2 + (x3 - x6)**2)],\n",
       "[D_t*x5/sqrt(x4**2 + x5**2 + x6**2) + D_u*(-x2 + x5)/sqrt((x1 - x4)**2 + (x2 - x5)**2 + (x3 - x6)**2)],\n",
       "[D_t*x6/sqrt(x4**2 + x5**2 + x6**2) + D_u*(-x3 + x6)/sqrt((x1 - x4)**2 + (x2 - x5)**2 + (x3 - x6)**2)]])"
      ]
     },
     "execution_count": 106,
     "metadata": {},
     "output_type": "execute_result"
    }
   ],
   "source": [
    "D_new = J.T @ D\n",
    "D_new"
   ]
  },
  {
   "cell_type": "code",
   "execution_count": 107,
   "id": "038b6d91",
   "metadata": {},
   "outputs": [],
   "source": [
    "D2 = D_new @ D_new.T"
   ]
  },
  {
   "cell_type": "code",
   "execution_count": 112,
   "id": "9c64ea21",
   "metadata": {},
   "outputs": [
    {
     "ename": "NameError",
     "evalue": "name 'Ds' is not defined",
     "output_type": "error",
     "traceback": [
      "\u001b[0;31m---------------------------------------------------------------------------\u001b[0m",
      "\u001b[0;31mNameError\u001b[0m                                 Traceback (most recent call last)",
      "Cell \u001b[0;32mIn[112], line 1\u001b[0m\n\u001b[0;32m----> 1\u001b[0m \u001b[38;5;28msum\u001b[39m(D2)\u001b[38;5;241m.\u001b[39mexpand()\u001b[38;5;241m.\u001b[39mcollect(\u001b[43mDs\u001b[49m)\n",
      "\u001b[0;31mNameError\u001b[0m: name 'Ds' is not defined"
     ]
    }
   ],
   "source": [
    "sum(D2).expand().collect()"
   ]
  },
  {
   "cell_type": "code",
   "execution_count": 104,
   "id": "403b164a",
   "metadata": {},
   "outputs": [
    {
     "name": "stdout",
     "output_type": "stream",
     "text": [
      "None\n"
     ]
    }
   ],
   "source": [
    "print(D2)"
   ]
  },
  {
   "cell_type": "code",
   "execution_count": 99,
   "id": "33e65fc1",
   "metadata": {},
   "outputs": [],
   "source": [
    "D2"
   ]
  },
  {
   "cell_type": "code",
   "execution_count": null,
   "id": "14f839e9",
   "metadata": {},
   "outputs": [],
   "source": []
  }
 ],
 "metadata": {
  "kernelspec": {
   "display_name": "Python 3 (ipykernel)",
   "language": "python",
   "name": "python3"
  },
  "language_info": {
   "codemirror_mode": {
    "name": "ipython",
    "version": 3
   },
   "file_extension": ".py",
   "mimetype": "text/x-python",
   "name": "python",
   "nbconvert_exporter": "python",
   "pygments_lexer": "ipython3",
   "version": "3.10.9"
  }
 },
 "nbformat": 4,
 "nbformat_minor": 5
}
