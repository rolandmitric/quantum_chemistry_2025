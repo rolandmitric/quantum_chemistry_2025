{
 "cells": [
  {
   "cell_type": "code",
   "execution_count": 8,
   "id": "a5ed0bb9",
   "metadata": {},
   "outputs": [],
   "source": [
    "import sympy as sp\n",
    "from sympy import oo"
   ]
  },
  {
   "cell_type": "code",
   "execution_count": 9,
   "id": "4cb89a6e",
   "metadata": {},
   "outputs": [],
   "source": [
    "alpha, beta, hbar, m = sp.symbols('alpha beta hbar m', real = True, positive = True)\n",
    "x = sp.symbols('x', real = True)"
   ]
  },
  {
   "cell_type": "code",
   "execution_count": 10,
   "id": "f48f8c71",
   "metadata": {},
   "outputs": [],
   "source": [
    "psi = sp.exp(-beta * x**2)"
   ]
  },
  {
   "cell_type": "code",
   "execution_count": 14,
   "id": "8402510a",
   "metadata": {},
   "outputs": [],
   "source": [
    "norm = sp.integrate(psi**2,(x,-oo,oo))\n",
    "psi  = psi/sp.sqrt(norm)"
   ]
  },
  {
   "cell_type": "code",
   "execution_count": 15,
   "id": "de961a9e",
   "metadata": {},
   "outputs": [
    {
     "data": {
      "text/latex": [
       "$\\displaystyle \\frac{\\sqrt[4]{2} \\sqrt[4]{\\beta} e^{- \\beta x^{2}}}{\\sqrt[4]{\\pi}}$"
      ],
      "text/plain": [
       "2**(1/4)*beta**(1/4)*exp(-beta*x**2)/pi**(1/4)"
      ]
     },
     "execution_count": 15,
     "metadata": {},
     "output_type": "execute_result"
    }
   ],
   "source": [
    "psi"
   ]
  },
  {
   "cell_type": "code",
   "execution_count": 20,
   "id": "2935cff0",
   "metadata": {},
   "outputs": [],
   "source": [
    "def V(psi):\n",
    "    return alpha*(x**4)*psi\n",
    "def T(psi):\n",
    "    return -hbar**2/(2*m)*sp.diff(psi,x,2)\n",
    "def H(psi):\n",
    "    return T(psi) + V(psi)"
   ]
  },
  {
   "cell_type": "code",
   "execution_count": 23,
   "id": "2c46a201",
   "metadata": {},
   "outputs": [],
   "source": [
    "E = sp.integrate(psi*H(psi),(x,-oo,oo))"
   ]
  },
  {
   "cell_type": "code",
   "execution_count": 28,
   "id": "d920eda3",
   "metadata": {},
   "outputs": [
    {
     "data": {
      "text/latex": [
       "$\\displaystyle \\frac{\\sqrt[3]{6} \\sqrt[3]{\\alpha} \\sqrt[3]{m}}{2 \\hbar^{\\frac{2}{3}}}$"
      ],
      "text/plain": [
       "6**(1/3)*alpha**(1/3)*m**(1/3)/(2*hbar**(2/3))"
      ]
     },
     "execution_count": 28,
     "metadata": {},
     "output_type": "execute_result"
    }
   ],
   "source": [
    "beta_opt = sp.solve(E.diff(beta),beta)[0]\n",
    "beta_opt"
   ]
  },
  {
   "cell_type": "code",
   "execution_count": 29,
   "id": "659f89bb",
   "metadata": {},
   "outputs": [],
   "source": [
    "psi = psi.subs(beta, beta_opt)"
   ]
  },
  {
   "cell_type": "code",
   "execution_count": 30,
   "id": "a9813321",
   "metadata": {},
   "outputs": [
    {
     "data": {
      "text/latex": [
       "$\\displaystyle \\frac{\\sqrt[12]{6} \\sqrt[12]{\\alpha} \\sqrt[12]{m} e^{- \\frac{\\sqrt[3]{6} \\sqrt[3]{\\alpha} \\sqrt[3]{m} x^{2}}{2 \\hbar^{\\frac{2}{3}}}}}{\\sqrt[4]{\\pi} \\sqrt[6]{\\hbar}}$"
      ],
      "text/plain": [
       "6**(1/12)*alpha**(1/12)*m**(1/12)*exp(-6**(1/3)*alpha**(1/3)*m**(1/3)*x**2/(2*hbar**(2/3)))/(pi**(1/4)*hbar**(1/6))"
      ]
     },
     "execution_count": 30,
     "metadata": {},
     "output_type": "execute_result"
    }
   ],
   "source": [
    "psi"
   ]
  },
  {
   "cell_type": "code",
   "execution_count": 32,
   "id": "422e9acf",
   "metadata": {},
   "outputs": [],
   "source": [
    "def Sij(psi_i, psi_j):\n",
    "    return sp.integrate(psi_i * psi_j, (x, -oo,oo))\n",
    "def Hij(psi_i, psi_j):\n",
    "    return sp.integrate(psi_i * H(psi_j), (x, -oo,oo))\n"
   ]
  },
  {
   "cell_type": "code",
   "execution_count": 46,
   "id": "61666c40",
   "metadata": {},
   "outputs": [],
   "source": [
    "from scipy.linalg import eig\n",
    "def getEnergy(N):\n",
    "    basis_functions = sp.Matrix([x**(2*n)*psi for n in range(N)])\n",
    "    Smat = sp.zeros(N,N)\n",
    "    Hmat = sp.zeros(N,N)\n",
    "    for i,psi_i in enumerate(basis_functions):\n",
    "        for j,psi_j in enumerate(basis_functions):\n",
    "            Smat[i,j] = Sij(psi_i, psi_j)\n",
    "            Hmat[i,j] = Hij(psi_i, psi_j)\n",
    "    S_lam = sp.lambdify((hbar, m, alpha), Smat)\n",
    "    H_lam = sp.lambdify((hbar, m, alpha), Hmat)\n",
    "    S = S_lam(1.0,1.0,1.0)\n",
    "    H = H_lam(1.0,1.0,1.0)\n",
    "    e,c = eig(H,S)\n",
    "    return e,c"
   ]
  },
  {
   "cell_type": "code",
   "execution_count": 54,
   "id": "6e7c6007",
   "metadata": {},
   "outputs": [
    {
     "name": "stdout",
     "output_type": "stream",
     "text": [
      "E_0 = 0.6814202223120523\n",
      "E_0 = 0.6814202223120526\n",
      "E_0 = 0.6697260852659892\n",
      "E_0 = 0.668044403317131\n",
      "E_0 = 0.6680415085601558\n",
      "E_0 = 0.668002555607152\n",
      "E_0 = 0.6679876348309066\n",
      "E_0 = 0.6679864047280519\n",
      "E_0 = 0.6679859155833344\n"
     ]
    }
   ],
   "source": [
    "Nmax = 10\n",
    "for n in range(1,Nmax):\n",
    "    e, c = getEnergy(n)\n",
    "    E0 = e.real.min()\n",
    "    \n",
    "    print(f\"E_0 = {E0}\")\n",
    "    pr"
   ]
  },
  {
   "cell_type": "code",
   "execution_count": null,
   "id": "b0e5aff9",
   "metadata": {},
   "outputs": [],
   "source": []
  }
 ],
 "metadata": {
  "kernelspec": {
   "display_name": "Python 3 (ipykernel)",
   "language": "python",
   "name": "python3"
  },
  "language_info": {
   "codemirror_mode": {
    "name": "ipython",
    "version": 3
   },
   "file_extension": ".py",
   "mimetype": "text/x-python",
   "name": "python",
   "nbconvert_exporter": "python",
   "pygments_lexer": "ipython3",
   "version": "3.10.9"
  }
 },
 "nbformat": 4,
 "nbformat_minor": 5
}
