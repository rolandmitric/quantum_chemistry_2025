{
 "cells": [
  {
   "cell_type": "markdown",
   "id": "d85be4f0",
   "metadata": {
    "slideshow": {
     "slide_type": "slide"
    }
   },
   "source": [
    "<!DOCTYPE html>\n",
    "<html lang=\"de\">\n",
    "<head>\n",
    "<meta charset=\"UTF-8\">\n",
    "<title>Quantenchemie – Roland Mitric</title>\n",
    "<style>\n",
    "  body {\n",
    "    font-family: \"Helvetica Neue\", Helvetica, Arial, sans-serif;\n",
    "    text-align: center;\n",
    "    background: #f7f9fc;\n",
    "    color: #222;\n",
    "    margin-top: 15%;\n",
    "  }\n",
    "  h1 {\n",
    "    font-size: 3em;\n",
    "    margin-bottom: 0.2em;\n",
    "  }\n",
    "  h2 {\n",
    "    font-weight: normal;\n",
    "    margin: 0.2em;\n",
    "  }\n",
    "</style>\n",
    "</head>\n",
    "<body>\n",
    "  <h1>Quantenchemie</h1>\n",
    "  <h2>Roland Mitric</h2>\n",
    "  <h2>Lehrstuhl für Theoretische Chemie</h2>\n",
    "</body>\n",
    "</html>\n",
    "\n"
   ]
  },
  {
   "cell_type": "markdown",
   "id": "062b3c2d",
   "metadata": {
    "slideshow": {
     "slide_type": "slide"
    }
   },
   "source": [
    "Diese Vorlesung führt in die Grundlagen und Methoden der **Quantenchemie** ein. Sie vermittelt das Verständnis, wie sich chemische Phänomene aus den quantenmechanischen Gesetzen der Mikrowelt ableiten lassen.\n",
    "\n",
    "Die **Quantenchemie**, auch **molekulare Quantenmechanik** genannt, ist ein Teilgebiet der physikalischen Chemie, das die Gesetze der Quantenmechanik auf molekulare Systeme anwendet. Sie bildet die theoretische Grundlage unseres Verständnisses von zentralen chemischen Konzepten wie **molekularer Struktur**, **chemischer Bindung**, **Reaktivität** und **Spektroskopie**.\n",
    "\n",
    "---"
   ]
  },
  {
   "cell_type": "markdown",
   "id": "ee58df2e",
   "metadata": {
    "slideshow": {
     "slide_type": "slide"
    }
   },
   "source": [
    "Das Hauptziel der Quantenchemie besteht darin, die **physikalischen und chemischen Eigenschaften** von Molekülen und Materialien **aus den quantenmechanischen Grundgleichungen vorherzusagen**. Dazu werden Näherungsverfahren entwickelt, die die sehr komplexen Vielteilchengleichungen der Quantenmechanik mathematisch und numerisch behandelbar machen. Diese Methoden reichen von der Hartree-Fock-Theorie über Dichtefunktionalverfahren bis hin zu hochgenauen Korrelationsmethoden und erlauben es, Strukturen, Energien, Spektren und Reaktionspfade mit hoher Genauigkeit zu berechnen.\n",
    "\n",
    "---"
   ]
  },
  {
   "cell_type": "markdown",
   "id": "3dab6aa4",
   "metadata": {
    "slideshow": {
     "slide_type": "slide"
    }
   },
   "source": [
    "Neben der Beschreibung stationärer Zustände gewinnt auch die **zeitabhängige Quantenchemie** an Bedeutung. Sie ermöglicht die Untersuchung von **elektronischer Dynamik**, **nichtadiabatischen Übergängen** und **lichtinduzierten Reaktionen**, die für Photochemie, Katalyse und Materialwissenschaften von zentraler Relevanz sind.\n",
    "\n",
    "Die Quantenchemie verbindet die fundamentalen Prinzipien der Quantenphysik mit der \n",
    "Welt chemischer Phänomene. Sie eröffnet die Möglichkeit, die Eigenschaften komplexer Moleküle und Materialien bereits am Computer zu verstehen und gezielt vorherzusagen.\n",
    "\n",
    "---"
   ]
  },
  {
   "cell_type": "markdown",
   "id": "e646e1e1",
   "metadata": {
    "slideshow": {
     "slide_type": "slide"
    }
   },
   "source": [
    "<div style=\"display: flex; align-items: flex-start; gap: 1.5rem;\">\n",
    "\n",
    "  <figure style=\"margin: 0;\">\n",
    "    <img src=\"https://upload.wikimedia.org/wikipedia/commons/5/50/Paul_Dirac%2C_1933.jpg\" alt=\"Paul Dirac, 1933\" style=\"width:180px; border-radius:8px; box-shadow: 0 0 6px rgba(0,0,0,0.2);\">\n",
    "    <figcaption style=\"text-align:center; font-size:0.9em; color:#555;\">Paul A. M. Dirac   (1902 – 1984)</figcaption>\n",
    "  </figure>\n",
    "\n",
    "  <blockquote style=\"font-size:1.05em; line-height:1.4; color:#222; margin:0;\">\n",
    "    The underlying physical laws necessary for the mathematical theory of a large part of physics and the <b>whole of chemistry</b> are thus completely known, and the difficulty is only that the exact application of these laws leads to equations much too complicated to be soluble. It therefore becomes desirable that approximate practical methods of applying quantum mechanics should be developed, which can lead to an explanation of the main features of complex atomic systems without too much computation.\n",
    "    <br><br>\n",
    "    <span style=\"font-size:0.9em; color:#555;\">— P. A. M. Dirac, *Proceedings of the Royal Society A* (1929)</span>\n",
    "  </blockquote>\n",
    "\n",
    "</div>\n",
    "\n",
    "<p style=\"font-size:0.8em; color:#777; margin-top:0.8rem;\">\n",
    "Image source: <a href=\"https://commons.wikimedia.org/wiki/File:Paul_Dirac,_1933.jpg\">Wikimedia Commons</a>, public domain.\n",
    "</p>\n"
   ]
  },
  {
   "cell_type": "markdown",
   "id": "efff931c",
   "metadata": {
    "slideshow": {
     "slide_type": "slide"
    }
   },
   "source": [
    "# Näherungsmethoden zur Lösung der stationären Schrödinger-Gleichung:\n",
    "\n",
    "<h1> Das Variationsprinzip </h1>"
   ]
  },
  {
   "cell_type": "code",
   "execution_count": 1,
   "id": "d49cb5ce",
   "metadata": {
    "slideshow": {
     "slide_type": "skip"
    }
   },
   "outputs": [],
   "source": [
    "import numpy as np\n",
    "import matplotlib.pyplot as plt\n",
    "import matplotlib\n",
    "matplotlib.rcParams['axes.linewidth'] = 2.\n",
    "matplotlib.rcParams['axes.grid'] = True\n",
    "matplotlib.rcParams['axes.labelsize'] = 18\n",
    "matplotlib.rcParams['figure.figsize'] = [8, 6]\n",
    "matplotlib.rcParams['animation.embed_limit'] = 1000\n",
    "matplotlib.rcParams['text.usetex'] =  False\n",
    "matplotlib.rcParams[\"font.family\"] =  \"sans-serif\",\n",
    "matplotlib.rcParams[\"font.sans-serif\"] = [\"Times\"]\n",
    "plt.rcParams['xtick.labelsize']=16\n",
    "plt.rcParams['ytick.labelsize']=16\n",
    "from ipywidgets import interact\n",
    "import ipywidgets as widgets\n",
    "#import pandas as pd"
   ]
  },
  {
   "cell_type": "markdown",
   "id": "8e11fd7e",
   "metadata": {
    "slideshow": {
     "slide_type": "skip"
    }
   },
   "source": [
    "$$ \\require{colors} $$"
   ]
  },
  {
   "cell_type": "code",
   "execution_count": 2,
   "id": "2f6586c9",
   "metadata": {
    "slideshow": {
     "slide_type": "skip"
    }
   },
   "outputs": [],
   "source": [
    "tocm=219474.\n",
    "elmass=5.4857990e-4\n",
    "auofmass=1./elmass\n",
    "mH = 1.00784*auofmass"
   ]
  },
  {
   "cell_type": "markdown",
   "id": "80668c63",
   "metadata": {
    "slideshow": {
     "slide_type": "slide"
    }
   },
   "source": [
    "Wir habe in der PC 1 gesehen, dass man die Schrödingergleichung für einige wichtige Systeme analytisch lösen kann.\n",
    "\n",
    "Beispiele waren: \n",
    "\n",
    "<ul> \n",
    "    <li >Teilchen im Potentialkasten mit unendliche hohen Wänden </li> \n",
    "    <li >Harmonischer Oszillator</li> \n",
    "    <li >Starrer Rotor</li> \n",
    "    <li >Das H-Atom</li> \n",
    "    <li > und einige weitere Systeme ... </li>\n",
    "</ul>\n",
    "\n",
    "Der Großteil der interessanten Quantensysteme ist aber **nicht exakt analytisch lösbar**. \n",
    "\n",
    "Insbesondere erfordert die Behandlung molekularer Systeme die Entwicklung effizienter Näherungsverfahren zur Lösung der molekularen Schrödingergleichung, da man kein einziges Molekül ohne Näherungen lösen kann!\n",
    "\n",
    "Dies ist die Aufgabe der  **Quantenchemie**."
   ]
  },
  {
   "cell_type": "markdown",
   "id": "2bed2c61",
   "metadata": {
    "slideshow": {
     "slide_type": "slide"
    }
   },
   "source": [
    "Eine große Zahl quantenchemischer Methoden beruht auf dem **Ritzschen Variationsprinzip**.\n",
    "\n",
    "\n",
    "**Die Idee des Variationsverfahrens**: Man konstruiert eine analytische Form für die genäherte Wellenfunktion, die von einigen Parametern abhängig ist. Diese Parameter werden dann optimiert, so dass der Energieerwartungswert minimal wird. \n",
    "\n",
    "\n",
    "Betrachten wir nun ein System mit dem Hamiltonoperator $\\hat H$: \n",
    "    \n",
    "Wir nehmen an, dass das System einen Grundzustand mit der Energie $E_{0}$ hat. \n",
    "    \n",
    "Die entsprechende (unbekannte) normierte exakte Wellenfunktion bezeichnen wir als $\\psi _0$. \n",
    "    \n",
    "Die exakte Wellenfunktion ist eine Eigenfunktion des Hamilton-Operators:\n",
    "\n",
    "$$\\hat{H}\\psi_{0}=E_{0}\\psi_{0}  $$\n"
   ]
  },
  {
   "cell_type": "markdown",
   "id": "ca73e113",
   "metadata": {
    "slideshow": {
     "slide_type": "slide"
    }
   },
   "source": [
    "Äquivalent dazu ist der Erwartungswert der Energie in dem Grundzustand auch gleich $E_0$. Es gilt also:\n",
    "\n",
    "$$ E_{0}=\\int dV\\psi_{0}^{*}\\hat{H}\\psi_{0} $$ \n",
    "\n",
    "mit der **Normierungsbedingung**:\n",
    "\n",
    "$$\\int dV\\psi_{0}^{*}\\psi_{0} = 1$$\n",
    "\n",
    "Betrachten wir nun eine **beliebige normierte Test-Wellenfunktion** $\\psi_{test}$, die die Randbedingungen des Problems erfüllt. Das heißt, dass die Funktion im gleichen Raum normierbar ist, wie die exakte Wellenfunktion.\n",
    "\n",
    "Mit Hilfe dieser Test-Funktion können wir nun den Energie-Erwartungswert berechnen. "
   ]
  },
  {
   "cell_type": "markdown",
   "id": "93ec04fd",
   "metadata": {
    "slideshow": {
     "slide_type": "slide"
    }
   },
   "source": [
    "Das Variationsprinzip besagt, dass der Erwartungswert der Energie der Test-Wellenfunktion immer **größer** als die exakte Grundzustandsenergie sein muss.\n",
    "\n",
    "    \n",
    "Für jede beliebige Test-Wellenfunktion gilt die folgende Beziehung (Variationssatz): \n",
    "\n",
    "$$ \\require{color}\n",
    "\\fcolorbox{red}{#f2d5d3}{$  E[\\psi_{test}]=\\int dV\\psi_{test}^{*}\\hat{H}\\psi_{test}\\ge E_{0}  $}$$\n",
    "\n",
    "mit der Normierungsbedingung:\n",
    "\n",
    "$$\\fcolorbox{red}{#f2d5d3}{$\\int dV\\psi_{test}^{*}\\psi_{test} = 1$}$$ \n",
    "\n"
   ]
  },
  {
   "cell_type": "markdown",
   "id": "3412cd51",
   "metadata": {
    "slideshow": {
     "slide_type": "slide"
    }
   },
   "source": [
    "<u> Beweis </u>: \n",
    "\n",
    "Seien $\\psi _n$ die **exakten** Eigenfunktionen des Hamiltonoperators:\n",
    "\n",
    "$$\\hat{H}\\psi_{n}=E_{n}\\psi_{n}\\quad n=0,1,2\\cdots.  $$\n",
    "\n",
    "Die Eigenwerte können immer nach der Größe angeordnet werden. Also nehmen wir an, dass die Eigenwerte wie folgt sortiert sind:\n",
    "\n",
    "$$ E_{0}\\le E_{1}\\le E_{2}\\le\\cdots\\le E_{i}\\le\\cdots. $$\n",
    "\n",
    "Die mathematischen Eigenschaften der hermiteschen Operatoren garantieren, dass die exakten Eigenfunktionen eine **vollständige orthonormierte** Basis bilden. \n",
    "\n",
    "Dies bedeutet, dass eine beliebige Test-Wellenfunktion, die die gleichen Randbedingungen erfüllt, exakt in der Basis zerlegt werden kann. \n"
   ]
  },
  {
   "cell_type": "markdown",
   "id": "02303867",
   "metadata": {
    "slideshow": {
     "slide_type": "subslide"
    }
   },
   "source": [
    "Für eine beliebige Test-Wellenfunktion exisitiert also eine **exakte** Basis-Zerlegung in der Form: \n",
    "\n",
    "$$ \\psi_{test}=\\sum_{i}c_{i}\\psi_{i} $$\n",
    "\n",
    "wobei $c_i$ (unbekannte) Entwicklungskoeffizienten. Aus der Forderung, dass die Test-Wellenfunktion normiert sein muss, folgt:\n",
    "\n",
    "$$ \\int dV\\psi_{test}^{*}\\psi_{test}=1\\rightarrow\\sum_{i}\\sum_{j}c_{i}^{*}c_{j}\\left[\\int dV\\psi_{i}^{*}\\psi_{j}\\right]=1 $$\n",
    "\n",
    "Dies ist eine **Nebenbedingung**, die die Entwicklungskoeffzienten $c_i$ erfüllen müssen. \n",
    "\n",
    "Wegen der Orthonormalität der exakten Eigenfunktionen des hermiteschen Operators $\\hat H$ gilt aber auch:\n",
    "\n",
    "$$ \\int dV\\psi_{i}^{*}\\psi_{j}=\\delta_{ij} $$"
   ]
  },
  {
   "cell_type": "markdown",
   "id": "38a32652",
   "metadata": {
    "slideshow": {
     "slide_type": "slide"
    }
   },
   "source": [
    "Damit vereinfacht sich die Normierungsbedingung auf:\n",
    "\n",
    "$$ \\sum_{i}|c_{i}^{2}|=1. $$\n",
    "\n",
    "Für den Energie-Erwartungswert der Test-Wellenfunktion bekommen wir: \n",
    "\n",
    "$$ E[\\psi_{test}]=\\int dV\\psi_{test}^{*}\\hat{H}\\psi_{test}=\\sum_{i}\\sum_{j}c_{i}^{*}c_{j}\\int dV\\psi_{i}^{*}\\hat{H}\\psi_{j}.  $$\n",
    "\n",
    "Wir nutzen nun wieder die Annahme, dass $\\psi_i $ und $\\psi_j$ exakte orthonormierte Eigenfunktionen sind,\n",
    "\n",
    " $$ \\hat{H}\\psi_{j}=E_{j}\\psi_{j} $$ \n",
    "\n"
   ]
  },
  {
   "cell_type": "markdown",
   "id": "16bd26dd",
   "metadata": {
    "slideshow": {
     "slide_type": "slide"
    }
   },
   "source": [
    "Den Erwartungswert können wir damit in der folgenden Form schreiben:\n",
    "\n",
    "$$ E[\\psi_{test}]=\\sum_{i}\\sum_{j}c_{i}^{*}c_{j}E_{j}\\int dV\\psi_{i}^{*}\\psi_{j} $$ \n",
    "\n",
    "Nun kommt wieder die Orthonormierung ins Spiel und wir erhalten:\n",
    "\n",
    "$$ E[\\psi_{test}]=\\sum_{i}|c_{i}^{2}|E_{i}. $$ \n",
    "\n",
    "Da wir die Eigenwerte der Größe nach sortiert haben gilt ferner die folgende Ungleichheit:\n",
    "\n",
    "$$ E[\\psi_{test}]=|c_{0}^{2}|E_{0}+|c_{1}^{2}|E_{1}+|c_{2}^{2}|E_{2}+\\cdots\\ge|c_{0}^{2}|E_{0}+|c_{1}^{2}|E_{0}+|c_{2}^{2}|E_{0}+\\cdots $$ \n",
    "\n",
    "$$ E[\\psi_{test}]\\ge E_{0}\\left(|c_{0}^{2}|+|c_{1}^{2}|+|c_{2}^{2}|+\\cdots\\right). $$"
   ]
  },
  {
   "cell_type": "markdown",
   "id": "bd9da260",
   "metadata": {
    "slideshow": {
     "slide_type": "slide"
    }
   },
   "source": [
    "Da aber die Wellenfunktion normiert ist gilt,\n",
    "\n",
    "$$ \\sum_{i}|c_{i}^{2}|=1 $$ \n",
    "\n",
    "Damit haben wir bewiesen, dass die Energie der Test-Wellenfunktion immer größer oder gleich als die exakte Grundzustandsenergie ist. Für jede **beliebige** Test-Wellenfunktion:\n",
    "\n",
    "$$ \\require{color}\\fcolorbox{red}{#f2d5d3}{$E[\\psi_{test}]\\ge E_{0}$} $$\n"
   ]
  },
  {
   "cell_type": "markdown",
   "id": "9120a77e",
   "metadata": {
    "slideshow": {
     "slide_type": "slide"
    }
   },
   "source": [
    "Die Bedeutung des Variationsprinzips liegt darin, dass uns jede beliebige Funktion schon Information über die obere Grenze für die exakte Energie liefert. Darüber hinaus bietet uns das Variationsprinzip auch die Möglichkeit die Wellenfuntion und die Energie **systematisch** duch Erweiterung des Variationsraumes zu verbessern.\n",
    "\n",
    "Das Variationsprinzip ist vielleicht die wichtigste Näherungsmethode in der Quantenchemie.\n",
    "Eine große Zahl wichtiger quanten-chemischer Methoden beruht direkt auf dem Variationsprinzip!\n"
   ]
  },
  {
   "cell_type": "markdown",
   "id": "7a663aa9",
   "metadata": {
    "slideshow": {
     "slide_type": "slide"
    }
   },
   "source": [
    "Wie funktionieren variationelle Methoden der Quantenchemie?\n",
    "\n",
    "Man konstruiert einen physikalisch motivierten Ansatz für die Wellenfunktion, in dem freie Parameter auftreten:\n",
    "\n",
    "$$\\psi(\\mathbf{x})\\rightarrow\\psi_{test}(\\mathbf{x},\\beta_{1},\\beta_{2},\\cdots,\\beta_{n})$$ \n",
    "\n",
    "Dadurch bechränkt man den Raum aller denkbaren Funktionen sich auf eine bestimmte parametrisierte Schar von Funktionen. Die \"beste\" Wellenfunktion im Rahmen des gewählten Ansatzes erhält man indem man die Energie \n",
    "\n",
    "$$ E [\\psi_{test} ] $$ \n",
    "\n",
    "im Bezug auf die Variationsparameter $ \\beta_{1},\\beta_{2},\\cdots,\\beta_{n}$ minimiert!"
   ]
  },
  {
   "cell_type": "markdown",
   "id": "ced09b76",
   "metadata": {
    "slideshow": {
     "slide_type": "slide"
    }
   },
   "source": [
    "# Beispiel: Teilchen im $V(x) = \\alpha x^4$ Potential"
   ]
  },
  {
   "cell_type": "markdown",
   "id": "f56cb941",
   "metadata": {
    "slideshow": {
     "slide_type": "slide"
    }
   },
   "source": [
    "Das Variationsverfahren wird hier zunächst an einem einfachen Beispiel illustriert. Wir betrachten ein Teilchen in einem (anharmonischen) Potential mit der analytischen Form:\n",
    "\n",
    "$$ V(x) = \\alpha x^4 \\quad \\alpha.  > 0 $$\n",
    "\n",
    "Die stationäre Schrödingergleichung für dieses Problem lautet:\n",
    "\n",
    "$$ -\\frac{\\hbar^{2}}{2m}\\frac{d^{2}\\psi}{dx^{2}}+\\alpha x^{4}\\psi=E\\psi, $$\n",
    "\n",
    "und ist nicht exakt analytisch lösbar. "
   ]
  },
  {
   "cell_type": "markdown",
   "id": "0227a095",
   "metadata": {
    "slideshow": {
     "slide_type": "slide"
    }
   },
   "source": [
    "Wie wählt man den passenden Ansatz für die Anwendung des Variationsprinzips?\n",
    "\n",
    "Die Wahl der Test-Wellenfunktion ist meistens physikalisch motiviert. Wegem der geraden Symmetrie des Potentials erwartem wir, dass der niedrigste Eigenzustand durch eine gerade Funktion beschrieben wird,  die wegen der Normierbarkeit im Unendlichen verschwinden muss. \n",
    "\n",
    "Das Problem ähnelt dem harmonischen Oszillator, dessen Lösung wir exakt kennen. \n",
    "\n",
    "Also wählen wir als Ansatz eine Gaussfunktion mit der (inversen) Breite $\\beta$ als Parameter:\n",
    "\n",
    "$$ \\psi_{test}(x; \\beta)=N\\exp(-\\beta x^{2}) $$\n",
    "\n"
   ]
  },
  {
   "cell_type": "code",
   "execution_count": 3,
   "id": "fed0cb77",
   "metadata": {
    "slideshow": {
     "slide_type": "skip"
    }
   },
   "outputs": [],
   "source": [
    "from sympy import *\n",
    "hbar, m = symbols('hbar m', real = True, positive = True) \n",
    "x = symbols('x', real = True) \n",
    "alpha, beta, E = symbols('alpha beta E', real = True, positive = True) \n",
    "V = alpha * x**4"
   ]
  },
  {
   "cell_type": "code",
   "execution_count": 4,
   "id": "21bba1cc",
   "metadata": {
    "slideshow": {
     "slide_type": "slide"
    }
   },
   "outputs": [
    {
     "data": {
      "text/latex": [
       "$\\displaystyle \\frac{\\sqrt{2} \\sqrt{\\pi}}{2 \\sqrt{\\beta}}$"
      ],
      "text/plain": [
       "sqrt(2)*sqrt(pi)/(2*sqrt(beta))"
      ]
     },
     "execution_count": 4,
     "metadata": {},
     "output_type": "execute_result"
    }
   ],
   "source": [
    "psi = exp(-beta * x**2)\n",
    "norm = integrate(psi**2,(x,-oo,oo))\n",
    "norm"
   ]
  },
  {
   "cell_type": "markdown",
   "id": "3beef4d4",
   "metadata": {
    "slideshow": {
     "slide_type": "slide"
    }
   },
   "source": [
    "Der Ansatz muss zunächst normiert werden:\n",
    "\n",
    "$$ \\int_{-\\infty}^{\\infty}dx\\psi_{test}^{*}\\psi_{test}=1\\rightarrow N^{2}\\int_{-\\infty}^{\\infty}dxe^{-2\\beta x^{2}}=1 $$\n",
    "\n",
    "Dazu berechnen wir das Gauss-Integral: \n",
    "\n",
    "\\$$ \\int_{-\\infty}^{\\infty}dxe^{-2\\beta x^{2}}=\\sqrt{\\frac{\\pi}{2\\beta}}. $$\n",
    "\n",
    "Daraus ergibt sich die normierte Wellenfunktion als: \n",
    "\n",
    "$$ \\psi_{test}(x)=\\left(\\frac{2\\beta}{\\pi}\\right)^{\\frac{1}{4}}\\exp(-\\beta x^{2}) $$"
   ]
  },
  {
   "cell_type": "code",
   "execution_count": 5,
   "id": "6fd4c065",
   "metadata": {
    "slideshow": {
     "slide_type": "skip"
    }
   },
   "outputs": [],
   "source": [
    "V_lam = lambdify([alpha,x], V)\n",
    "psi_lam = lambdify([beta, x], psi)\n",
    "xrange = np.linspace(-1,1,100)\n",
    "vrange = V_lam(1.0,xrange)\n",
    "\n",
    "def plot_psi(beta):\n",
    "    plt.plot(xrange,vrange, color = \"blue\", linewidth = 3.0)\n",
    "    yrange = psi_lam(beta, xrange)\n",
    "    plt.plot(xrange,yrange, color = \"red\", linewidth = 3.0)\n",
    "    plt.fill_between(xrange, yrange, color = \"red\", alpha = 0.25)\n",
    "    plt.xlabel(r'$x$')\n",
    "    plt.ylabel(r'$V(x),\\psi(x)$', fontsize = 24)\n"
   ]
  },
  {
   "cell_type": "code",
   "execution_count": 6,
   "id": "e9f29fbe",
   "metadata": {
    "hideCode": true,
    "scrolled": true,
    "slideshow": {
     "slide_type": "slide"
    }
   },
   "outputs": [
    {
     "data": {
      "application/vnd.jupyter.widget-view+json": {
       "model_id": "215efea243554ffb9072bc490be97145",
       "version_major": 2,
       "version_minor": 0
      },
      "text/plain": [
       "interactive(children=(FloatSlider(value=5.0, description='beta', min=2.0, step=2.0), Output()), _dom_classes=(…"
      ]
     },
     "metadata": {},
     "output_type": "display_data"
    },
    {
     "data": {
      "text/plain": [
       "<function __main__.plot_psi(beta)>"
      ]
     },
     "execution_count": 6,
     "metadata": {},
     "output_type": "execute_result"
    }
   ],
   "source": [
    "interact(plot_psi, beta=widgets.FloatSlider(value=5, min=2, max=100, step=2))\n"
   ]
  },
  {
   "cell_type": "code",
   "execution_count": 7,
   "id": "6004df07",
   "metadata": {
    "slideshow": {
     "slide_type": "skip"
    }
   },
   "outputs": [],
   "source": [
    "def T_psi(psi):\n",
    "    return simplify(-(hbar**2/(2*m))*diff(diff(psi,x),x))\n",
    "def V_psi(V,psi):\n",
    "    return simplify(V*psi)\n",
    "def H_psi(V,psi):\n",
    "    return simplify(T_psi(psi)+V_psi(V,psi))"
   ]
  },
  {
   "cell_type": "code",
   "execution_count": 8,
   "id": "b3902a9e",
   "metadata": {
    "slideshow": {
     "slide_type": "slide"
    }
   },
   "outputs": [
    {
     "data": {
      "text/latex": [
       "$\\displaystyle \\frac{\\left(\\alpha m x^{4} - \\beta \\hbar^{2} \\cdot \\left(2 \\beta x^{2} - 1\\right)\\right) e^{- 2 \\beta x^{2}}}{m}$"
      ],
      "text/plain": [
       "(alpha*m*x**4 - beta*hbar**2*(2*beta*x**2 - 1))*exp(-2*beta*x**2)/m"
      ]
     },
     "execution_count": 8,
     "metadata": {},
     "output_type": "execute_result"
    }
   ],
   "source": [
    "simplify(psi*H_psi(V, psi))"
   ]
  },
  {
   "cell_type": "code",
   "execution_count": 9,
   "id": "24f80dcd",
   "metadata": {
    "slideshow": {
     "slide_type": "slide"
    }
   },
   "outputs": [
    {
     "data": {
      "text/latex": [
       "$\\displaystyle \\frac{3 \\alpha}{16 \\beta^{2}} + \\frac{\\beta \\hbar^{2}}{2 m}$"
      ],
      "text/plain": [
       "3*alpha/(16*beta**2) + beta*hbar**2/(2*m)"
      ]
     },
     "execution_count": 9,
     "metadata": {},
     "output_type": "execute_result"
    }
   ],
   "source": [
    "E_psi = simplify(integrate(psi*H_psi(V, psi), (x,-oo,oo))/norm)\n",
    "E_psi"
   ]
  },
  {
   "cell_type": "markdown",
   "id": "b8160239",
   "metadata": {
    "slideshow": {
     "slide_type": "slide"
    }
   },
   "source": [
    "Mit diesem Ansatz berechnen wir nun den Erwartungswert der Energie:\n",
    "\n",
    "$$E[\\psi]\\rightarrow E(\\beta)=\\left(\\frac{2\\beta}{\\pi}\\right)^{\\frac{1}{2}}\\int_{-\\infty}^{\\infty}dx\\exp(-\\beta x^{2})\\left[-\\frac{\\hbar^{2}}{2m}\\frac{d^{2}}{dx^{2}}+\\alpha x^{4}\\right]\\exp(-\\beta x^{2})$$\n",
    "\n",
    "$$E(\\beta)=\\left(\\frac{2\\beta}{\\pi}\\right)^{\\frac{1}{2}}\\int_{-\\infty}^{\\infty}dx\\frac{\\left(\\alpha mx^{4}-\\beta\\hbar^{2}\\left(2\\beta x^{2}-1\\right)\\right)e^{-2\\beta x^{2}}}{m}$$\n",
    "\n",
    "Sympy liefert als Ergebnis die Energie als Funktion von $\\beta$:\n",
    "\n",
    "$$ E(\\beta) = \\frac{3 \\alpha}{16 \\beta^{2}} + \\frac{\\beta \\hbar^{2}}{2 m} $$\n",
    "\n",
    "Um den besten Wert von $\\beta$ zu bestimmen, muss diese Funktion nun minimert werden!\n"
   ]
  },
  {
   "cell_type": "markdown",
   "id": "d6855758",
   "metadata": {
    "slideshow": {
     "slide_type": "slide"
    }
   },
   "source": [
    "Zunächst schauen wir uns die Funktion graphisch an..."
   ]
  },
  {
   "cell_type": "code",
   "execution_count": 10,
   "id": "7a431104",
   "metadata": {
    "slideshow": {
     "slide_type": "slide"
    }
   },
   "outputs": [],
   "source": [
    "E_psi_lam = lambdify([beta, alpha, hbar, m], E_psi)\n",
    "beta_range = np.linspace(0.3, 2, 100)\n",
    "E_test = E_psi_lam(beta_range, 1,1,1)"
   ]
  },
  {
   "cell_type": "code",
   "execution_count": 11,
   "id": "bdc8bccc",
   "metadata": {
    "slideshow": {
     "slide_type": "slide"
    }
   },
   "outputs": [
    {
     "data": {
      "text/plain": [
       "Text(0, 0.5, '$E(\\\\beta)$')"
      ]
     },
     "execution_count": 11,
     "metadata": {},
     "output_type": "execute_result"
    },
    {
     "data": {
      "image/png": "[encoded data removed]",
      "text/plain": [
       "<Figure size 800x600 with 1 Axes>"
      ]
     },
     "metadata": {},
     "output_type": "display_data"
    }
   ],
   "source": [
    "plt.plot(beta_range, E_test, color = \"blue\", lw = 4.0)\n",
    "plt.xlabel(r'$\\beta$', fontsize = 24)\n",
    "plt.ylabel(r'$E(\\beta)$', fontsize = 24)"
   ]
  },
  {
   "cell_type": "code",
   "execution_count": 12,
   "id": "98f1a43f",
   "metadata": {
    "slideshow": {
     "slide_type": "slide"
    }
   },
   "outputs": [
    {
     "data": {
      "text/latex": [
       "$\\displaystyle - \\frac{3 \\alpha}{8 \\beta^{3}} + \\frac{\\hbar^{2}}{2 m}$"
      ],
      "text/plain": [
       "-3*alpha/(8*beta**3) + hbar**2/(2*m)"
      ]
     },
     "execution_count": 12,
     "metadata": {},
     "output_type": "execute_result"
    }
   ],
   "source": [
    "diff(E_psi, beta)"
   ]
  },
  {
   "cell_type": "code",
   "execution_count": 13,
   "id": "29ef6ca0",
   "metadata": {
    "slideshow": {
     "slide_type": "slide"
    }
   },
   "outputs": [
    {
     "data": {
      "text/latex": [
       "$\\displaystyle \\frac{\\sqrt[3]{6} \\sqrt[3]{\\alpha} \\sqrt[3]{m}}{2 \\hbar^{\\frac{2}{3}}}$"
      ],
      "text/plain": [
       "6**(1/3)*alpha**(1/3)*m**(1/3)/(2*hbar**(2/3))"
      ]
     },
     "execution_count": 13,
     "metadata": {},
     "output_type": "execute_result"
    }
   ],
   "source": [
    "beta_opt = solve(diff(E_psi, beta), beta)\n",
    "beta_opt = simplify(beta_opt[0])\n",
    "psi_opt = psi.subs({beta: beta_opt })\n",
    "beta_opt"
   ]
  },
  {
   "cell_type": "code",
   "execution_count": 14,
   "id": "7223fe4c",
   "metadata": {},
   "outputs": [
    {
     "data": {
      "text/latex": [
       "$\\displaystyle e^{- \\frac{\\sqrt[3]{6} \\sqrt[3]{\\alpha} \\sqrt[3]{m} x^{2}}{2 \\hbar^{\\frac{2}{3}}}}$"
      ],
      "text/plain": [
       "exp(-6**(1/3)*alpha**(1/3)*m**(1/3)*x**2/(2*hbar**(2/3)))"
      ]
     },
     "execution_count": 14,
     "metadata": {},
     "output_type": "execute_result"
    }
   ],
   "source": [
    "psi_opt"
   ]
  },
  {
   "cell_type": "code",
   "execution_count": 15,
   "id": "ef40bcb6",
   "metadata": {
    "slideshow": {
     "slide_type": "slide"
    }
   },
   "outputs": [
    {
     "data": {
      "text/latex": [
       "$\\displaystyle \\frac{0.375 \\cdot \\sqrt[3]{6} \\sqrt[3]{\\alpha} \\hbar^{\\frac{4}{3}}}{m^{\\frac{2}{3}}}$"
      ],
      "text/plain": [
       "0.375*6**(1/3)*alpha**(1/3)*hbar**(4/3)/m**(2/3)"
      ]
     },
     "execution_count": 15,
     "metadata": {},
     "output_type": "execute_result"
    }
   ],
   "source": [
    "E_psi_lam = lambdify([beta, alpha, hbar, m], E_psi)\n",
    "E_psi_lam(beta_opt, alpha, hbar, m)"
   ]
  },
  {
   "cell_type": "markdown",
   "id": "a1a49b8f",
   "metadata": {
    "slideshow": {
     "slide_type": "slide"
    }
   },
   "source": [
    "Als optimalen Wert von $\\beta$ bekommen wir:\n",
    "\n",
    "$$ \\beta_{opt}=\\sqrt[3]{\\frac{3\\alpha m}{4\\hbar^{2}}}$$\n",
    "\n",
    "Die variationell bestimmte Energie hat den Wert:\n",
    "\n",
    "$$ E_{min}=\\frac{3}{8}\\sqrt[3]{\\frac{6\\alpha\\hbar^{4}}{m^{2}}} $$"
   ]
  },
  {
   "cell_type": "markdown",
   "id": "a257f649",
   "metadata": {
    "slideshow": {
     "slide_type": "slide"
    }
   },
   "source": [
    "Wir haben damit eine variationelle Abschätzung für die Grundzustandsenergie des Systems und wissen nun, dass die exakte Energie irgendwo unterhalb dieses Wertes liegt:\n",
    "\n",
    "$$ 0 \\le E_0 \\le \\frac{3}{8}\\sqrt[3]{\\frac{6\\alpha\\hbar^{4}}{m^{2}}} $$\n",
    "\n",
    "Wir wissen aber überhaupt nicht, wie gut unser Ergebnis wirklich ist. Das Variatiosprinzip liefert uns erstmal nur die obere Grenze für die exakte Energie. \n",
    "\n",
    "Im folgenden werden wir uns damit befassen, wie man die variationelle Abschätzung der Energie systematisch verbessern kann. \n",
    "\n",
    "Die Grundidee dabei ist, dass man den Variationsraum systematisch vergrößert in der Hoffnung, dass die Energiewerte sich dem exakten Wert beliebig nahe annähern!\n"
   ]
  },
  {
   "cell_type": "markdown",
   "id": "02339cd9",
   "metadata": {
    "slideshow": {
     "slide_type": "slide"
    }
   },
   "source": [
    "# Die Methode von Ritz-Galerkin"
   ]
  },
  {
   "cell_type": "markdown",
   "id": "458b0322",
   "metadata": {
    "slideshow": {
     "slide_type": "slide"
    }
   },
   "source": [
    "<h1> Motivation </h1>"
   ]
  },
  {
   "cell_type": "markdown",
   "id": "ecd12e41",
   "metadata": {
    "slideshow": {
     "slide_type": "slide"
    }
   },
   "source": [
    "Betrachten wir als Motivation ein Teilchen in einem beliebigen eindimensionalen Potential, das keine besondere Symmetrie aufweist und mehrere Mulden mit unterschiedlichen Tiefen haben kann. Ein Beispiel für ein solches beliebiges Potential könnte wie das auf der folgenden Abbildung aussehen."
   ]
  },
  {
   "cell_type": "code",
   "execution_count": 16,
   "id": "104519a1",
   "metadata": {
    "slideshow": {
     "slide_type": "slide"
    }
   },
   "outputs": [],
   "source": [
    "def Vgauss(x,centers = [4.5, -3.5, 1.0, 2.0, 5.0], widths = [2.0, 1.0, 0.2, 0.4, 0.8], V0 = [-0.5,-1.0,-0.4,-.2,0.2]):\n",
    "    result = 0.0\n",
    "    for c,w,v in zip(centers, widths, V0):\n",
    "        result+= v*np.exp(-w*(x-c)**2)\n",
    "    return result"
   ]
  },
  {
   "cell_type": "code",
   "execution_count": 17,
   "id": "6688815a",
   "metadata": {
    "hideCode": false,
    "slideshow": {
     "slide_type": "skip"
    }
   },
   "outputs": [
    {
     "data": {
      "text/plain": [
       "[<matplotlib.lines.Line2D at 0x12ef89db0>]"
      ]
     },
     "execution_count": 17,
     "metadata": {},
     "output_type": "execute_result"
    },
    {
     "data": {
      "image/png": "[encoded data removed]",
      "text/plain": [
       "<Figure size 800x600 with 1 Axes>"
      ]
     },
     "metadata": {},
     "output_type": "display_data"
    }
   ],
   "source": [
    "plt.clf()\n",
    "x_plot = np.linspace(-10,10,1000)\n",
    "V_plot = Vgauss(x_plot)\n",
    "plt.plot(x_plot, V_plot,  color = \"r\", linewidth = 3.0)\n"
   ]
  },
  {
   "cell_type": "code",
   "execution_count": 18,
   "id": "49b283bf",
   "metadata": {},
   "outputs": [],
   "source": [
    "plt.show()"
   ]
  },
  {
   "cell_type": "markdown",
   "id": "9f564f55",
   "metadata": {
    "slideshow": {
     "slide_type": "slide"
    }
   },
   "source": [
    "Wir wissen, dass ein Quantenteilchen in einem Zustand niedriger Energie dazu neigt, sich in der Nähe eines Potentialminimums aufzuhalten und in klassisch verbotenen Bereichen exponentiell zu verschwinden. Wie könnten wir einen Variationsansatz konstruieren, der flexibel genug ist, um ein solches Verhalten zu erfassen?"
   ]
  },
  {
   "cell_type": "markdown",
   "id": "e517844a",
   "metadata": {
    "slideshow": {
     "slide_type": "slide"
    }
   },
   "source": [
    "Eine Möglichkeit, einen solchen Ansatz zu definieren, besteht darin, den interessierenden Raum mit Basisfunktionen abzudecken, die eine feste Form haben, und den Beitrag jeder Basisfunktion durch Multiplikation mit einem linearen Koeffizienten zu modulieren. Auf diese Weise werden die linearen Koeffizienten zu Knöpfen, die dem Ansatz die Möglichkeit geben, jedes interessierende System zu beschreiben."
   ]
  },
  {
   "cell_type": "code",
   "execution_count": 19,
   "id": "a8d4a9e8",
   "metadata": {
    "hideCode": true,
    "slideshow": {
     "slide_type": "skip"
    }
   },
   "outputs": [],
   "source": [
    "%matplotlib notebook"
   ]
  },
  {
   "cell_type": "code",
   "execution_count": 20,
   "id": "18e95b42",
   "metadata": {
    "hideCode": false,
    "slideshow": {
     "slide_type": "skip"
    }
   },
   "outputs": [],
   "source": [
    "%matplotlib notebook\n",
    "import numpy as np\n",
    "import matplotlib.pyplot as plt\n",
    "from matplotlib.widgets import Slider\n",
    "\n",
    "# Define the Gaussian potential function\n",
    "def Vgauss(x, centers, widths, V0):\n",
    "    result = 0.0\n",
    "    for c, w, v in zip(centers, widths, V0):\n",
    "        result += v * np.exp(-w * (x - c) ** 2)\n",
    "    return result\n",
    "\n",
    "def gaussbf(x, c, w):\n",
    "    return np.exp(-w * (x - c) ** 2)\n",
    "\n",
    "def psi_ritz(x, coef, centers, widths):\n",
    "    result = 0.0\n",
    "    for c, center, width in zip(coef, centers, widths):\n",
    "        result += c * gaussbf(x, center, width)\n",
    "    return result\n",
    "\n",
    "# Define the number of equidistant Gaussian basis functions\n",
    "num_basis_functions = 10"
   ]
  },
  {
   "cell_type": "code",
   "execution_count": 21,
   "id": "7327f3c7",
   "metadata": {
    "hideCode": true,
    "hidePrompt": false,
    "slideshow": {
     "slide_type": "slide"
    }
   },
   "outputs": [
    {
     "data": {
      "application/javascript": [
       "/* Put everything inside the global mpl namespace */\n",
       "/* global mpl */\n",
       "window.mpl = {};\n",
       "\n",
       "mpl.get_websocket_type = function () {\n",
       "    if (typeof WebSocket !== 'undefined') {\n",
       "        return WebSocket;\n",
       "    } else if (typeof MozWebSocket !== 'undefined') {\n",
       "        return MozWebSocket;\n",
       "    } else {\n",
       "        alert(\n",
       "            'Your browser does not have WebSocket support. ' +\n",
       "                'Please try Chrome, Safari or Firefox ≥ 6. ' +\n",
       "                'Firefox 4 and 5 are also supported but you ' +\n",
       "                'have to enable WebSockets in about:config.'\n",
       "        );\n",
       "    }\n",
       "};\n",
       "\n",
       "mpl.figure = function (figure_id, websocket, ondownload, parent_element) {\n",
       "    this.id = figure_id;\n",
       "\n",
       "    this.ws = websocket;\n",
       "\n",
       "    this.supports_binary = this.ws.binaryType !== undefined;\n",
       "\n",
       "    if (!this.supports_binary) {\n",
       "        var warnings = document.getElementById('mpl-warnings');\n",
       "        if (warnings) {\n",
       "            warnings.style.display = 'block';\n",
       "            warnings.textContent =\n",
       "                'This browser does not support binary websocket messages. ' +\n",
       "                'Performance may be slow.';\n",
       "        }\n",
       "    }\n",
       "\n",
       "    this.imageObj = new Image();\n",
       "\n",
       "    this.context = undefined;\n",
       "    this.message = undefined;\n",
       "    this.canvas = undefined;\n",
       "    this.rubberband_canvas = undefined;\n",
       "    this.rubberband_context = undefined;\n",
       "    this.format_dropdown = undefined;\n",
       "\n",
       "    this.image_mode = 'full';\n",
       "\n",
       "    this.root = document.createElement('div');\n",
       "    this.root.setAttribute('style', 'display: inline-block');\n",
       "    this._root_extra_style(this.root);\n",
       "\n",
       "    parent_element.appendChild(this.root);\n",
       "\n",
       "    this._init_header(this);\n",
       "    this._init_canvas(this);\n",
       "    this._init_toolbar(this);\n",
       "\n",
       "    var fig = this;\n",
       "\n",
       "    this.waiting = false;\n",
       "\n",
       "    this.ws.onopen = function () {\n",
       "        fig.send_message('supports_binary', { value: fig.supports_binary });\n",
       "        fig.send_message('send_image_mode', {});\n",
       "        if (fig.ratio !== 1) {\n",
       "            fig.send_message('set_device_pixel_ratio', {\n",
       "                device_pixel_ratio: fig.ratio,\n",
       "            });\n",
       "        }\n",
       "        fig.send_message('refresh', {});\n",
       "    };\n",
       "\n",
       "    this.imageObj.onload = function () {\n",
       "        if (fig.image_mode === 'full') {\n",
       "            // Full images could contain transparency (where diff images\n",
       "            // almost always do), so we need to clear the canvas so that\n",
       "            // there is no ghosting.\n",
       "            fig.context.clearRect(0, 0, fig.canvas.width, fig.canvas.height);\n",
       "        }\n",
       "        fig.context.drawImage(fig.imageObj, 0, 0);\n",
       "    };\n",
       "\n",
       "    this.imageObj.onunload = function () {\n",
       "        fig.ws.close();\n",
       "    };\n",
       "\n",
       "    this.ws.onmessage = this._make_on_message_function(this);\n",
       "\n",
       "    this.ondownload = ondownload;\n",
       "};\n",
       "\n",
       "mpl.figure.prototype._init_header = function () {\n",
       "    var titlebar = document.createElement('div');\n",
       "    titlebar.classList =\n",
       "        'ui-dialog-titlebar ui-widget-header ui-corner-all ui-helper-clearfix';\n",
       "    var titletext = document.createElement('div');\n",
       "    titletext.classList = 'ui-dialog-title';\n",
       "    titletext.setAttribute(\n",
       "        'style',\n",
       "        'width: 100%; text-align: center; padding: 3px;'\n",
       "    );\n",
       "    titlebar.appendChild(titletext);\n",
       "    this.root.appendChild(titlebar);\n",
       "    this.header = titletext;\n",
       "};\n",
       "\n",
       "mpl.figure.prototype._canvas_extra_style = function (_canvas_div) {};\n",
       "\n",
       "mpl.figure.prototype._root_extra_style = function (_canvas_div) {};\n",
       "\n",
       "mpl.figure.prototype._init_canvas = function () {\n",
       "    var fig = this;\n",
       "\n",
       "    var canvas_div = (this.canvas_div = document.createElement('div'));\n",
       "    canvas_div.setAttribute('tabindex', '0');\n",
       "    canvas_div.setAttribute(\n",
       "        'style',\n",
       "        'border: 1px solid #ddd;' +\n",
       "            'box-sizing: content-box;' +\n",
       "            'clear: both;' +\n",
       "            'min-height: 1px;' +\n",
       "            'min-width: 1px;' +\n",
       "            'outline: 0;' +\n",
       "            'overflow: hidden;' +\n",
       "            'position: relative;' +\n",
       "            'resize: both;' +\n",
       "            'z-index: 2;'\n",
       "    );\n",
       "\n",
       "    function on_keyboard_event_closure(name) {\n",
       "        return function (event) {\n",
       "            return fig.key_event(event, name);\n",
       "        };\n",
       "    }\n",
       "\n",
       "    canvas_div.addEventListener(\n",
       "        'keydown',\n",
       "        on_keyboard_event_closure('key_press')\n",
       "    );\n",
       "    canvas_div.addEventListener(\n",
       "        'keyup',\n",
       "        on_keyboard_event_closure('key_release')\n",
       "    );\n",
       "\n",
       "    this._canvas_extra_style(canvas_div);\n",
       "    this.root.appendChild(canvas_div);\n",
       "\n",
       "    var canvas = (this.canvas = document.createElement('canvas'));\n",
       "    canvas.classList.add('mpl-canvas');\n",
       "    canvas.setAttribute(\n",
       "        'style',\n",
       "        'box-sizing: content-box;' +\n",
       "            'pointer-events: none;' +\n",
       "            'position: relative;' +\n",
       "            'z-index: 0;'\n",
       "    );\n",
       "\n",
       "    this.context = canvas.getContext('2d');\n",
       "\n",
       "    var backingStore =\n",
       "        this.context.backingStorePixelRatio ||\n",
       "        this.context.webkitBackingStorePixelRatio ||\n",
       "        this.context.mozBackingStorePixelRatio ||\n",
       "        this.context.msBackingStorePixelRatio ||\n",
       "        this.context.oBackingStorePixelRatio ||\n",
       "        this.context.backingStorePixelRatio ||\n",
       "        1;\n",
       "\n",
       "    this.ratio = (window.devicePixelRatio || 1) / backingStore;\n",
       "\n",
       "    var rubberband_canvas = (this.rubberband_canvas = document.createElement(\n",
       "        'canvas'\n",
       "    ));\n",
       "    rubberband_canvas.setAttribute(\n",
       "        'style',\n",
       "        'box-sizing: content-box;' +\n",
       "            'left: 0;' +\n",
       "            'pointer-events: none;' +\n",
       "            'position: absolute;' +\n",
       "            'top: 0;' +\n",
       "            'z-index: 1;'\n",
       "    );\n",
       "\n",
       "    // Apply a ponyfill if ResizeObserver is not implemented by browser.\n",
       "    if (this.ResizeObserver === undefined) {\n",
       "        if (window.ResizeObserver !== undefined) {\n",
       "            this.ResizeObserver = window.ResizeObserver;\n",
       "        } else {\n",
       "            var obs = _JSXTOOLS_RESIZE_OBSERVER({});\n",
       "            this.ResizeObserver = obs.ResizeObserver;\n",
       "        }\n",
       "    }\n",
       "\n",
       "    this.resizeObserverInstance = new this.ResizeObserver(function (entries) {\n",
       "        // There's no need to resize if the WebSocket is not connected:\n",
       "        // - If it is still connecting, then we will get an initial resize from\n",
       "        //   Python once it connects.\n",
       "        // - If it has disconnected, then resizing will clear the canvas and\n",
       "        //   never get anything back to refill it, so better to not resize and\n",
       "        //   keep something visible.\n",
       "        if (fig.ws.readyState != 1) {\n",
       "            return;\n",
       "        }\n",
       "        var nentries = entries.length;\n",
       "        for (var i = 0; i < nentries; i++) {\n",
       "            var entry = entries[i];\n",
       "            var width, height;\n",
       "            if (entry.contentBoxSize) {\n",
       "                if (entry.contentBoxSize instanceof Array) {\n",
       "                    // Chrome 84 implements new version of spec.\n",
       "                    width = entry.contentBoxSize[0].inlineSize;\n",
       "                    height = entry.contentBoxSize[0].blockSize;\n",
       "                } else {\n",
       "                    // Firefox implements old version of spec.\n",
       "                    width = entry.contentBoxSize.inlineSize;\n",
       "                    height = entry.contentBoxSize.blockSize;\n",
       "                }\n",
       "            } else {\n",
       "                // Chrome <84 implements even older version of spec.\n",
       "                width = entry.contentRect.width;\n",
       "                height = entry.contentRect.height;\n",
       "            }\n",
       "\n",
       "            // Keep the size of the canvas and rubber band canvas in sync with\n",
       "            // the canvas container.\n",
       "            if (entry.devicePixelContentBoxSize) {\n",
       "                // Chrome 84 implements new version of spec.\n",
       "                canvas.setAttribute(\n",
       "                    'width',\n",
       "                    entry.devicePixelContentBoxSize[0].inlineSize\n",
       "                );\n",
       "                canvas.setAttribute(\n",
       "                    'height',\n",
       "                    entry.devicePixelContentBoxSize[0].blockSize\n",
       "                );\n",
       "            } else {\n",
       "                canvas.setAttribute('width', width * fig.ratio);\n",
       "                canvas.setAttribute('height', height * fig.ratio);\n",
       "            }\n",
       "            /* This rescales the canvas back to display pixels, so that it\n",
       "             * appears correct on HiDPI screens. */\n",
       "            canvas.style.width = width + 'px';\n",
       "            canvas.style.height = height + 'px';\n",
       "\n",
       "            rubberband_canvas.setAttribute('width', width);\n",
       "            rubberband_canvas.setAttribute('height', height);\n",
       "\n",
       "            // And update the size in Python. We ignore the initial 0/0 size\n",
       "            // that occurs as the element is placed into the DOM, which should\n",
       "            // otherwise not happen due to the minimum size styling.\n",
       "            if (width != 0 && height != 0) {\n",
       "                fig.request_resize(width, height);\n",
       "            }\n",
       "        }\n",
       "    });\n",
       "    this.resizeObserverInstance.observe(canvas_div);\n",
       "\n",
       "    function on_mouse_event_closure(name) {\n",
       "        /* User Agent sniffing is bad, but WebKit is busted:\n",
       "         * https://bugs.webkit.org/show_bug.cgi?id=144526\n",
       "         * https://bugs.webkit.org/show_bug.cgi?id=181818\n",
       "         * The worst that happens here is that they get an extra browser\n",
       "         * selection when dragging, if this check fails to catch them.\n",
       "         */\n",
       "        var UA = navigator.userAgent;\n",
       "        var isWebKit = /AppleWebKit/.test(UA) && !/Chrome/.test(UA);\n",
       "        if(isWebKit) {\n",
       "            return function (event) {\n",
       "                /* This prevents the web browser from automatically changing to\n",
       "                 * the text insertion cursor when the button is pressed. We\n",
       "                 * want to control all of the cursor setting manually through\n",
       "                 * the 'cursor' event from matplotlib */\n",
       "                event.preventDefault()\n",
       "                return fig.mouse_event(event, name);\n",
       "            };\n",
       "        } else {\n",
       "            return function (event) {\n",
       "                return fig.mouse_event(event, name);\n",
       "            };\n",
       "        }\n",
       "    }\n",
       "\n",
       "    canvas_div.addEventListener(\n",
       "        'mousedown',\n",
       "        on_mouse_event_closure('button_press')\n",
       "    );\n",
       "    canvas_div.addEventListener(\n",
       "        'mouseup',\n",
       "        on_mouse_event_closure('button_release')\n",
       "    );\n",
       "    canvas_div.addEventListener(\n",
       "        'dblclick',\n",
       "        on_mouse_event_closure('dblclick')\n",
       "    );\n",
       "    // Throttle sequential mouse events to 1 every 20ms.\n",
       "    canvas_div.addEventListener(\n",
       "        'mousemove',\n",
       "        on_mouse_event_closure('motion_notify')\n",
       "    );\n",
       "\n",
       "    canvas_div.addEventListener(\n",
       "        'mouseenter',\n",
       "        on_mouse_event_closure('figure_enter')\n",
       "    );\n",
       "    canvas_div.addEventListener(\n",
       "        'mouseleave',\n",
       "        on_mouse_event_closure('figure_leave')\n",
       "    );\n",
       "\n",
       "    canvas_div.addEventListener('wheel', function (event) {\n",
       "        if (event.deltaY < 0) {\n",
       "            event.step = 1;\n",
       "        } else {\n",
       "            event.step = -1;\n",
       "        }\n",
       "        on_mouse_event_closure('scroll')(event);\n",
       "    });\n",
       "\n",
       "    canvas_div.appendChild(canvas);\n",
       "    canvas_div.appendChild(rubberband_canvas);\n",
       "\n",
       "    this.rubberband_context = rubberband_canvas.getContext('2d');\n",
       "    this.rubberband_context.strokeStyle = '#000000';\n",
       "\n",
       "    this._resize_canvas = function (width, height, forward) {\n",
       "        if (forward) {\n",
       "            canvas_div.style.width = width + 'px';\n",
       "            canvas_div.style.height = height + 'px';\n",
       "        }\n",
       "    };\n",
       "\n",
       "    // Disable right mouse context menu.\n",
       "    canvas_div.addEventListener('contextmenu', function (_e) {\n",
       "        event.preventDefault();\n",
       "        return false;\n",
       "    });\n",
       "\n",
       "    function set_focus() {\n",
       "        canvas.focus();\n",
       "        canvas_div.focus();\n",
       "    }\n",
       "\n",
       "    window.setTimeout(set_focus, 100);\n",
       "};\n",
       "\n",
       "mpl.figure.prototype._init_toolbar = function () {\n",
       "    var fig = this;\n",
       "\n",
       "    var toolbar = document.createElement('div');\n",
       "    toolbar.classList = 'mpl-toolbar';\n",
       "    this.root.appendChild(toolbar);\n",
       "\n",
       "    function on_click_closure(name) {\n",
       "        return function (_event) {\n",
       "            return fig.toolbar_button_onclick(name);\n",
       "        };\n",
       "    }\n",
       "\n",
       "    function on_mouseover_closure(tooltip) {\n",
       "        return function (event) {\n",
       "            if (!event.currentTarget.disabled) {\n",
       "                return fig.toolbar_button_onmouseover(tooltip);\n",
       "            }\n",
       "        };\n",
       "    }\n",
       "\n",
       "    fig.buttons = {};\n",
       "    var buttonGroup = document.createElement('div');\n",
       "    buttonGroup.classList = 'mpl-button-group';\n",
       "    for (var toolbar_ind in mpl.toolbar_items) {\n",
       "        var name = mpl.toolbar_items[toolbar_ind][0];\n",
       "        var tooltip = mpl.toolbar_items[toolbar_ind][1];\n",
       "        var image = mpl.toolbar_items[toolbar_ind][2];\n",
       "        var method_name = mpl.toolbar_items[toolbar_ind][3];\n",
       "\n",
       "        if (!name) {\n",
       "            /* Instead of a spacer, we start a new button group. */\n",
       "            if (buttonGroup.hasChildNodes()) {\n",
       "                toolbar.appendChild(buttonGroup);\n",
       "            }\n",
       "            buttonGroup = document.createElement('div');\n",
       "            buttonGroup.classList = 'mpl-button-group';\n",
       "            continue;\n",
       "        }\n",
       "\n",
       "        var button = (fig.buttons[name] = document.createElement('button'));\n",
       "        button.classList = 'mpl-widget';\n",
       "        button.setAttribute('role', 'button');\n",
       "        button.setAttribute('aria-disabled', 'false');\n",
       "        button.addEventListener('click', on_click_closure(method_name));\n",
       "        button.addEventListener('mouseover', on_mouseover_closure(tooltip));\n",
       "\n",
       "        var icon_img = document.createElement('img');\n",
       "        icon_img.src = '_images/' + image + '.png';\n",
       "        icon_img.srcset = '_images/' + image + '_large.png 2x';\n",
       "        icon_img.alt = tooltip;\n",
       "        button.appendChild(icon_img);\n",
       "\n",
       "        buttonGroup.appendChild(button);\n",
       "    }\n",
       "\n",
       "    if (buttonGroup.hasChildNodes()) {\n",
       "        toolbar.appendChild(buttonGroup);\n",
       "    }\n",
       "\n",
       "    var fmt_picker = document.createElement('select');\n",
       "    fmt_picker.classList = 'mpl-widget';\n",
       "    toolbar.appendChild(fmt_picker);\n",
       "    this.format_dropdown = fmt_picker;\n",
       "\n",
       "    for (var ind in mpl.extensions) {\n",
       "        var fmt = mpl.extensions[ind];\n",
       "        var option = document.createElement('option');\n",
       "        option.selected = fmt === mpl.default_extension;\n",
       "        option.innerHTML = fmt;\n",
       "        fmt_picker.appendChild(option);\n",
       "    }\n",
       "\n",
       "    var status_bar = document.createElement('span');\n",
       "    status_bar.classList = 'mpl-message';\n",
       "    toolbar.appendChild(status_bar);\n",
       "    this.message = status_bar;\n",
       "};\n",
       "\n",
       "mpl.figure.prototype.request_resize = function (x_pixels, y_pixels) {\n",
       "    // Request matplotlib to resize the figure. Matplotlib will then trigger a resize in the client,\n",
       "    // which will in turn request a refresh of the image.\n",
       "    this.send_message('resize', { width: x_pixels, height: y_pixels });\n",
       "};\n",
       "\n",
       "mpl.figure.prototype.send_message = function (type, properties) {\n",
       "    properties['type'] = type;\n",
       "    properties['figure_id'] = this.id;\n",
       "    this.ws.send(JSON.stringify(properties));\n",
       "};\n",
       "\n",
       "mpl.figure.prototype.send_draw_message = function () {\n",
       "    if (!this.waiting) {\n",
       "        this.waiting = true;\n",
       "        this.ws.send(JSON.stringify({ type: 'draw', figure_id: this.id }));\n",
       "    }\n",
       "};\n",
       "\n",
       "mpl.figure.prototype.handle_save = function (fig, _msg) {\n",
       "    var format_dropdown = fig.format_dropdown;\n",
       "    var format = format_dropdown.options[format_dropdown.selectedIndex].value;\n",
       "    fig.ondownload(fig, format);\n",
       "};\n",
       "\n",
       "mpl.figure.prototype.handle_resize = function (fig, msg) {\n",
       "    var size = msg['size'];\n",
       "    if (size[0] !== fig.canvas.width || size[1] !== fig.canvas.height) {\n",
       "        fig._resize_canvas(size[0], size[1], msg['forward']);\n",
       "        fig.send_message('refresh', {});\n",
       "    }\n",
       "};\n",
       "\n",
       "mpl.figure.prototype.handle_rubberband = function (fig, msg) {\n",
       "    var x0 = msg['x0'] / fig.ratio;\n",
       "    var y0 = (fig.canvas.height - msg['y0']) / fig.ratio;\n",
       "    var x1 = msg['x1'] / fig.ratio;\n",
       "    var y1 = (fig.canvas.height - msg['y1']) / fig.ratio;\n",
       "    x0 = Math.floor(x0) + 0.5;\n",
       "    y0 = Math.floor(y0) + 0.5;\n",
       "    x1 = Math.floor(x1) + 0.5;\n",
       "    y1 = Math.floor(y1) + 0.5;\n",
       "    var min_x = Math.min(x0, x1);\n",
       "    var min_y = Math.min(y0, y1);\n",
       "    var width = Math.abs(x1 - x0);\n",
       "    var height = Math.abs(y1 - y0);\n",
       "\n",
       "    fig.rubberband_context.clearRect(\n",
       "        0,\n",
       "        0,\n",
       "        fig.canvas.width / fig.ratio,\n",
       "        fig.canvas.height / fig.ratio\n",
       "    );\n",
       "\n",
       "    fig.rubberband_context.strokeRect(min_x, min_y, width, height);\n",
       "};\n",
       "\n",
       "mpl.figure.prototype.handle_figure_label = function (fig, msg) {\n",
       "    // Updates the figure title.\n",
       "    fig.header.textContent = msg['label'];\n",
       "};\n",
       "\n",
       "mpl.figure.prototype.handle_cursor = function (fig, msg) {\n",
       "    fig.canvas_div.style.cursor = msg['cursor'];\n",
       "};\n",
       "\n",
       "mpl.figure.prototype.handle_message = function (fig, msg) {\n",
       "    fig.message.textContent = msg['message'];\n",
       "};\n",
       "\n",
       "mpl.figure.prototype.handle_draw = function (fig, _msg) {\n",
       "    // Request the server to send over a new figure.\n",
       "    fig.send_draw_message();\n",
       "};\n",
       "\n",
       "mpl.figure.prototype.handle_image_mode = function (fig, msg) {\n",
       "    fig.image_mode = msg['mode'];\n",
       "};\n",
       "\n",
       "mpl.figure.prototype.handle_history_buttons = function (fig, msg) {\n",
       "    for (var key in msg) {\n",
       "        if (!(key in fig.buttons)) {\n",
       "            continue;\n",
       "        }\n",
       "        fig.buttons[key].disabled = !msg[key];\n",
       "        fig.buttons[key].setAttribute('aria-disabled', !msg[key]);\n",
       "    }\n",
       "};\n",
       "\n",
       "mpl.figure.prototype.handle_navigate_mode = function (fig, msg) {\n",
       "    if (msg['mode'] === 'PAN') {\n",
       "        fig.buttons['Pan'].classList.add('active');\n",
       "        fig.buttons['Zoom'].classList.remove('active');\n",
       "    } else if (msg['mode'] === 'ZOOM') {\n",
       "        fig.buttons['Pan'].classList.remove('active');\n",
       "        fig.buttons['Zoom'].classList.add('active');\n",
       "    } else {\n",
       "        fig.buttons['Pan'].classList.remove('active');\n",
       "        fig.buttons['Zoom'].classList.remove('active');\n",
       "    }\n",
       "};\n",
       "\n",
       "mpl.figure.prototype.updated_canvas_event = function () {\n",
       "    // Called whenever the canvas gets updated.\n",
       "    this.send_message('ack', {});\n",
       "};\n",
       "\n",
       "// A function to construct a web socket function for onmessage handling.\n",
       "// Called in the figure constructor.\n",
       "mpl.figure.prototype._make_on_message_function = function (fig) {\n",
       "    return function socket_on_message(evt) {\n",
       "        if (evt.data instanceof Blob) {\n",
       "            var img = evt.data;\n",
       "            if (img.type !== 'image/png') {\n",
       "                /* FIXME: We get \"Resource interpreted as Image but\n",
       "                 * transferred with MIME type text/plain:\" errors on\n",
       "                 * Chrome.  But how to set the MIME type?  It doesn't seem\n",
       "                 * to be part of the websocket stream */\n",
       "                img.type = 'image/png';\n",
       "            }\n",
       "\n",
       "            /* Free the memory for the previous frames */\n",
       "            if (fig.imageObj.src) {\n",
       "                (window.URL || window.webkitURL).revokeObjectURL(\n",
       "                    fig.imageObj.src\n",
       "                );\n",
       "            }\n",
       "\n",
       "            fig.imageObj.src = (window.URL || window.webkitURL).createObjectURL(\n",
       "                img\n",
       "            );\n",
       "            fig.updated_canvas_event();\n",
       "            fig.waiting = false;\n",
       "            return;\n",
       "        } else if (\n",
       "            typeof evt.data === 'string' &&\n",
       "            evt.data.slice(0, 21) === 'data:image/png;base64'\n",
       "        ) {\n",
       "            fig.imageObj.src = evt.data;\n",
       "            fig.updated_canvas_event();\n",
       "            fig.waiting = false;\n",
       "            return;\n",
       "        }\n",
       "\n",
       "        var msg = JSON.parse(evt.data);\n",
       "        var msg_type = msg['type'];\n",
       "\n",
       "        // Call the  \"handle_{type}\" callback, which takes\n",
       "        // the figure and JSON message as its only arguments.\n",
       "        try {\n",
       "            var callback = fig['handle_' + msg_type];\n",
       "        } catch (e) {\n",
       "            console.log(\n",
       "                \"No handler for the '\" + msg_type + \"' message type: \",\n",
       "                msg\n",
       "            );\n",
       "            return;\n",
       "        }\n",
       "\n",
       "        if (callback) {\n",
       "            try {\n",
       "                // console.log(\"Handling '\" + msg_type + \"' message: \", msg);\n",
       "                callback(fig, msg);\n",
       "            } catch (e) {\n",
       "                console.log(\n",
       "                    \"Exception inside the 'handler_\" + msg_type + \"' callback:\",\n",
       "                    e,\n",
       "                    e.stack,\n",
       "                    msg\n",
       "                );\n",
       "            }\n",
       "        }\n",
       "    };\n",
       "};\n",
       "\n",
       "function getModifiers(event) {\n",
       "    var mods = [];\n",
       "    if (event.ctrlKey) {\n",
       "        mods.push('ctrl');\n",
       "    }\n",
       "    if (event.altKey) {\n",
       "        mods.push('alt');\n",
       "    }\n",
       "    if (event.shiftKey) {\n",
       "        mods.push('shift');\n",
       "    }\n",
       "    if (event.metaKey) {\n",
       "        mods.push('meta');\n",
       "    }\n",
       "    return mods;\n",
       "}\n",
       "\n",
       "/*\n",
       " * return a copy of an object with only non-object keys\n",
       " * we need this to avoid circular references\n",
       " * https://stackoverflow.com/a/24161582/3208463\n",
       " */\n",
       "function simpleKeys(original) {\n",
       "    return Object.keys(original).reduce(function (obj, key) {\n",
       "        if (typeof original[key] !== 'object') {\n",
       "            obj[key] = original[key];\n",
       "        }\n",
       "        return obj;\n",
       "    }, {});\n",
       "}\n",
       "\n",
       "mpl.figure.prototype.mouse_event = function (event, name) {\n",
       "    if (name === 'button_press') {\n",
       "        this.canvas.focus();\n",
       "        this.canvas_div.focus();\n",
       "    }\n",
       "\n",
       "    // from https://stackoverflow.com/q/1114465\n",
       "    var boundingRect = this.canvas.getBoundingClientRect();\n",
       "    var x = (event.clientX - boundingRect.left) * this.ratio;\n",
       "    var y = (event.clientY - boundingRect.top) * this.ratio;\n",
       "\n",
       "    this.send_message(name, {\n",
       "        x: x,\n",
       "        y: y,\n",
       "        button: event.button,\n",
       "        step: event.step,\n",
       "        modifiers: getModifiers(event),\n",
       "        guiEvent: simpleKeys(event),\n",
       "    });\n",
       "\n",
       "    return false;\n",
       "};\n",
       "\n",
       "mpl.figure.prototype._key_event_extra = function (_event, _name) {\n",
       "    // Handle any extra behaviour associated with a key event\n",
       "};\n",
       "\n",
       "mpl.figure.prototype.key_event = function (event, name) {\n",
       "    // Prevent repeat events\n",
       "    if (name === 'key_press') {\n",
       "        if (event.key === this._key) {\n",
       "            return;\n",
       "        } else {\n",
       "            this._key = event.key;\n",
       "        }\n",
       "    }\n",
       "    if (name === 'key_release') {\n",
       "        this._key = null;\n",
       "    }\n",
       "\n",
       "    var value = '';\n",
       "    if (event.ctrlKey && event.key !== 'Control') {\n",
       "        value += 'ctrl+';\n",
       "    }\n",
       "    else if (event.altKey && event.key !== 'Alt') {\n",
       "        value += 'alt+';\n",
       "    }\n",
       "    else if (event.shiftKey && event.key !== 'Shift') {\n",
       "        value += 'shift+';\n",
       "    }\n",
       "\n",
       "    value += 'k' + event.key;\n",
       "\n",
       "    this._key_event_extra(event, name);\n",
       "\n",
       "    this.send_message(name, { key: value, guiEvent: simpleKeys(event) });\n",
       "    return false;\n",
       "};\n",
       "\n",
       "mpl.figure.prototype.toolbar_button_onclick = function (name) {\n",
       "    if (name === 'download') {\n",
       "        this.handle_save(this, null);\n",
       "    } else {\n",
       "        this.send_message('toolbar_button', { name: name });\n",
       "    }\n",
       "};\n",
       "\n",
       "mpl.figure.prototype.toolbar_button_onmouseover = function (tooltip) {\n",
       "    this.message.textContent = tooltip;\n",
       "};\n",
       "\n",
       "///////////////// REMAINING CONTENT GENERATED BY embed_js.py /////////////////\n",
       "// prettier-ignore\n",
       "var _JSXTOOLS_RESIZE_OBSERVER=function(A){var t,i=new WeakMap,n=new WeakMap,a=new WeakMap,r=new WeakMap,o=new Set;function s(e){if(!(this instanceof s))throw new TypeError(\"Constructor requires 'new' operator\");i.set(this,e)}function h(){throw new TypeError(\"Function is not a constructor\")}function c(e,t,i,n){e=0 in arguments?Number(arguments[0]):0,t=1 in arguments?Number(arguments[1]):0,i=2 in arguments?Number(arguments[2]):0,n=3 in arguments?Number(arguments[3]):0,this.right=(this.x=this.left=e)+(this.width=i),this.bottom=(this.y=this.top=t)+(this.height=n),Object.freeze(this)}function d(){t=requestAnimationFrame(d);var s=new WeakMap,p=new Set;o.forEach((function(t){r.get(t).forEach((function(i){var r=t instanceof window.SVGElement,o=a.get(t),d=r?0:parseFloat(o.paddingTop),f=r?0:parseFloat(o.paddingRight),l=r?0:parseFloat(o.paddingBottom),u=r?0:parseFloat(o.paddingLeft),g=r?0:parseFloat(o.borderTopWidth),m=r?0:parseFloat(o.borderRightWidth),w=r?0:parseFloat(o.borderBottomWidth),b=u+f,F=d+l,v=(r?0:parseFloat(o.borderLeftWidth))+m,W=g+w,y=r?0:t.offsetHeight-W-t.clientHeight,E=r?0:t.offsetWidth-v-t.clientWidth,R=b+v,z=F+W,M=r?t.width:parseFloat(o.width)-R-E,O=r?t.height:parseFloat(o.height)-z-y;if(n.has(t)){var k=n.get(t);if(k[0]===M&&k[1]===O)return}n.set(t,[M,O]);var S=Object.create(h.prototype);S.target=t,S.contentRect=new c(u,d,M,O),s.has(i)||(s.set(i,[]),p.add(i)),s.get(i).push(S)}))})),p.forEach((function(e){i.get(e).call(e,s.get(e),e)}))}return s.prototype.observe=function(i){if(i instanceof window.Element){r.has(i)||(r.set(i,new Set),o.add(i),a.set(i,window.getComputedStyle(i)));var n=r.get(i);n.has(this)||n.add(this),cancelAnimationFrame(t),t=requestAnimationFrame(d)}},s.prototype.unobserve=function(i){if(i instanceof window.Element&&r.has(i)){var n=r.get(i);n.has(this)&&(n.delete(this),n.size||(r.delete(i),o.delete(i))),n.size||r.delete(i),o.size||cancelAnimationFrame(t)}},A.DOMRectReadOnly=c,A.ResizeObserver=s,A.ResizeObserverEntry=h,A}; // eslint-disable-line\n",
       "mpl.toolbar_items = [[\"Home\", \"Reset original view\", \"fa fa-home\", \"home\"], [\"Back\", \"Back to previous view\", \"fa fa-arrow-left\", \"back\"], [\"Forward\", \"Forward to next view\", \"fa fa-arrow-right\", \"forward\"], [\"\", \"\", \"\", \"\"], [\"Pan\", \"Left button pans, Right button zooms\\nx/y fixes axis, CTRL fixes aspect\", \"fa fa-arrows\", \"pan\"], [\"Zoom\", \"Zoom to rectangle\\nx/y fixes axis\", \"fa fa-square-o\", \"zoom\"], [\"\", \"\", \"\", \"\"], [\"Download\", \"Download plot\", \"fa fa-floppy-o\", \"download\"]];\n",
       "\n",
       "mpl.extensions = [\"eps\", \"jpeg\", \"pgf\", \"pdf\", \"png\", \"ps\", \"raw\", \"svg\", \"tif\", \"webp\"];\n",
       "\n",
       "mpl.default_extension = \"png\";/* global mpl */\n",
       "\n",
       "var comm_websocket_adapter = function (comm) {\n",
       "    // Create a \"websocket\"-like object which calls the given IPython comm\n",
       "    // object with the appropriate methods. Currently this is a non binary\n",
       "    // socket, so there is still some room for performance tuning.\n",
       "    var ws = {};\n",
       "\n",
       "    ws.binaryType = comm.kernel.ws.binaryType;\n",
       "    ws.readyState = comm.kernel.ws.readyState;\n",
       "    function updateReadyState(_event) {\n",
       "        if (comm.kernel.ws) {\n",
       "            ws.readyState = comm.kernel.ws.readyState;\n",
       "        } else {\n",
       "            ws.readyState = 3; // Closed state.\n",
       "        }\n",
       "    }\n",
       "    comm.kernel.ws.addEventListener('open', updateReadyState);\n",
       "    comm.kernel.ws.addEventListener('close', updateReadyState);\n",
       "    comm.kernel.ws.addEventListener('error', updateReadyState);\n",
       "\n",
       "    ws.close = function () {\n",
       "        comm.close();\n",
       "    };\n",
       "    ws.send = function (m) {\n",
       "        //console.log('sending', m);\n",
       "        comm.send(m);\n",
       "    };\n",
       "    // Register the callback with on_msg.\n",
       "    comm.on_msg(function (msg) {\n",
       "        //console.log('receiving', msg['content']['data'], msg);\n",
       "        var data = msg['content']['data'];\n",
       "        if (data['blob'] !== undefined) {\n",
       "            data = {\n",
       "                data: new Blob(msg['buffers'], { type: data['blob'] }),\n",
       "            };\n",
       "        }\n",
       "        // Pass the mpl event to the overridden (by mpl) onmessage function.\n",
       "        ws.onmessage(data);\n",
       "    });\n",
       "    return ws;\n",
       "};\n",
       "\n",
       "mpl.mpl_figure_comm = function (comm, msg) {\n",
       "    // This is the function which gets called when the mpl process\n",
       "    // starts-up an IPython Comm through the \"matplotlib\" channel.\n",
       "\n",
       "    var id = msg.content.data.id;\n",
       "    // Get hold of the div created by the display call when the Comm\n",
       "    // socket was opened in Python.\n",
       "    var element = document.getElementById(id);\n",
       "    var ws_proxy = comm_websocket_adapter(comm);\n",
       "\n",
       "    function ondownload(figure, _format) {\n",
       "        window.open(figure.canvas.toDataURL());\n",
       "    }\n",
       "\n",
       "    var fig = new mpl.figure(id, ws_proxy, ondownload, element);\n",
       "\n",
       "    // Call onopen now - mpl needs it, as it is assuming we've passed it a real\n",
       "    // web socket which is closed, not our websocket->open comm proxy.\n",
       "    ws_proxy.onopen();\n",
       "\n",
       "    fig.parent_element = element;\n",
       "    fig.cell_info = mpl.find_output_cell(\"<div id='\" + id + \"'></div>\");\n",
       "    if (!fig.cell_info) {\n",
       "        console.error('Failed to find cell for figure', id, fig);\n",
       "        return;\n",
       "    }\n",
       "    fig.cell_info[0].output_area.element.on(\n",
       "        'cleared',\n",
       "        { fig: fig },\n",
       "        fig._remove_fig_handler\n",
       "    );\n",
       "};\n",
       "\n",
       "mpl.figure.prototype.handle_close = function (fig, msg) {\n",
       "    var width = fig.canvas.width / fig.ratio;\n",
       "    fig.cell_info[0].output_area.element.off(\n",
       "        'cleared',\n",
       "        fig._remove_fig_handler\n",
       "    );\n",
       "    fig.resizeObserverInstance.unobserve(fig.canvas_div);\n",
       "\n",
       "    // Update the output cell to use the data from the current canvas.\n",
       "    fig.push_to_output();\n",
       "    var dataURL = fig.canvas.toDataURL();\n",
       "    // Re-enable the keyboard manager in IPython - without this line, in FF,\n",
       "    // the notebook keyboard shortcuts fail.\n",
       "    IPython.keyboard_manager.enable();\n",
       "    fig.parent_element.innerHTML =\n",
       "        '<img src=\"' + dataURL + '\" width=\"' + width + '\">';\n",
       "    fig.close_ws(fig, msg);\n",
       "};\n",
       "\n",
       "mpl.figure.prototype.close_ws = function (fig, msg) {\n",
       "    fig.send_message('closing', msg);\n",
       "    // fig.ws.close()\n",
       "};\n",
       "\n",
       "mpl.figure.prototype.push_to_output = function (_remove_interactive) {\n",
       "    // Turn the data on the canvas into data in the output cell.\n",
       "    var width = this.canvas.width / this.ratio;\n",
       "    var dataURL = this.canvas.toDataURL();\n",
       "    this.cell_info[1]['text/html'] =\n",
       "        '<img src=\"' + dataURL + '\" width=\"' + width + '\">';\n",
       "};\n",
       "\n",
       "mpl.figure.prototype.updated_canvas_event = function () {\n",
       "    // Tell IPython that the notebook contents must change.\n",
       "    IPython.notebook.set_dirty(true);\n",
       "    this.send_message('ack', {});\n",
       "    var fig = this;\n",
       "    // Wait a second, then push the new image to the DOM so\n",
       "    // that it is saved nicely (might be nice to debounce this).\n",
       "    setTimeout(function () {\n",
       "        fig.push_to_output();\n",
       "    }, 1000);\n",
       "};\n",
       "\n",
       "mpl.figure.prototype._init_toolbar = function () {\n",
       "    var fig = this;\n",
       "\n",
       "    var toolbar = document.createElement('div');\n",
       "    toolbar.classList = 'btn-toolbar';\n",
       "    this.root.appendChild(toolbar);\n",
       "\n",
       "    function on_click_closure(name) {\n",
       "        return function (_event) {\n",
       "            return fig.toolbar_button_onclick(name);\n",
       "        };\n",
       "    }\n",
       "\n",
       "    function on_mouseover_closure(tooltip) {\n",
       "        return function (event) {\n",
       "            if (!event.currentTarget.disabled) {\n",
       "                return fig.toolbar_button_onmouseover(tooltip);\n",
       "            }\n",
       "        };\n",
       "    }\n",
       "\n",
       "    fig.buttons = {};\n",
       "    var buttonGroup = document.createElement('div');\n",
       "    buttonGroup.classList = 'btn-group';\n",
       "    var button;\n",
       "    for (var toolbar_ind in mpl.toolbar_items) {\n",
       "        var name = mpl.toolbar_items[toolbar_ind][0];\n",
       "        var tooltip = mpl.toolbar_items[toolbar_ind][1];\n",
       "        var image = mpl.toolbar_items[toolbar_ind][2];\n",
       "        var method_name = mpl.toolbar_items[toolbar_ind][3];\n",
       "\n",
       "        if (!name) {\n",
       "            /* Instead of a spacer, we start a new button group. */\n",
       "            if (buttonGroup.hasChildNodes()) {\n",
       "                toolbar.appendChild(buttonGroup);\n",
       "            }\n",
       "            buttonGroup = document.createElement('div');\n",
       "            buttonGroup.classList = 'btn-group';\n",
       "            continue;\n",
       "        }\n",
       "\n",
       "        button = fig.buttons[name] = document.createElement('button');\n",
       "        button.classList = 'btn btn-default';\n",
       "        button.href = '#';\n",
       "        button.title = name;\n",
       "        button.innerHTML = '<i class=\"fa ' + image + ' fa-lg\"></i>';\n",
       "        button.addEventListener('click', on_click_closure(method_name));\n",
       "        button.addEventListener('mouseover', on_mouseover_closure(tooltip));\n",
       "        buttonGroup.appendChild(button);\n",
       "    }\n",
       "\n",
       "    if (buttonGroup.hasChildNodes()) {\n",
       "        toolbar.appendChild(buttonGroup);\n",
       "    }\n",
       "\n",
       "    // Add the status bar.\n",
       "    var status_bar = document.createElement('span');\n",
       "    status_bar.classList = 'mpl-message pull-right';\n",
       "    toolbar.appendChild(status_bar);\n",
       "    this.message = status_bar;\n",
       "\n",
       "    // Add the close button to the window.\n",
       "    var buttongrp = document.createElement('div');\n",
       "    buttongrp.classList = 'btn-group inline pull-right';\n",
       "    button = document.createElement('button');\n",
       "    button.classList = 'btn btn-mini btn-primary';\n",
       "    button.href = '#';\n",
       "    button.title = 'Stop Interaction';\n",
       "    button.innerHTML = '<i class=\"fa fa-power-off icon-remove icon-large\"></i>';\n",
       "    button.addEventListener('click', function (_evt) {\n",
       "        fig.handle_close(fig, {});\n",
       "    });\n",
       "    button.addEventListener(\n",
       "        'mouseover',\n",
       "        on_mouseover_closure('Stop Interaction')\n",
       "    );\n",
       "    buttongrp.appendChild(button);\n",
       "    var titlebar = this.root.querySelector('.ui-dialog-titlebar');\n",
       "    titlebar.insertBefore(buttongrp, titlebar.firstChild);\n",
       "};\n",
       "\n",
       "mpl.figure.prototype._remove_fig_handler = function (event) {\n",
       "    var fig = event.data.fig;\n",
       "    if (event.target !== this) {\n",
       "        // Ignore bubbled events from children.\n",
       "        return;\n",
       "    }\n",
       "    fig.close_ws(fig, {});\n",
       "};\n",
       "\n",
       "mpl.figure.prototype._root_extra_style = function (el) {\n",
       "    el.style.boxSizing = 'content-box'; // override notebook setting of border-box.\n",
       "};\n",
       "\n",
       "mpl.figure.prototype._canvas_extra_style = function (el) {\n",
       "    // this is important to make the div 'focusable\n",
       "    el.setAttribute('tabindex', 0);\n",
       "    // reach out to IPython and tell the keyboard manager to turn it's self\n",
       "    // off when our div gets focus\n",
       "\n",
       "    // location in version 3\n",
       "    if (IPython.notebook.keyboard_manager) {\n",
       "        IPython.notebook.keyboard_manager.register_events(el);\n",
       "    } else {\n",
       "        // location in version 2\n",
       "        IPython.keyboard_manager.register_events(el);\n",
       "    }\n",
       "};\n",
       "\n",
       "mpl.figure.prototype._key_event_extra = function (event, _name) {\n",
       "    // Check for shift+enter\n",
       "    if (event.shiftKey && event.which === 13) {\n",
       "        this.canvas_div.blur();\n",
       "        // select the cell after this one\n",
       "        var index = IPython.notebook.find_cell_index(this.cell_info[0]);\n",
       "        IPython.notebook.select(index + 1);\n",
       "    }\n",
       "};\n",
       "\n",
       "mpl.figure.prototype.handle_save = function (fig, _msg) {\n",
       "    fig.ondownload(fig, null);\n",
       "};\n",
       "\n",
       "mpl.find_output_cell = function (html_output) {\n",
       "    // Return the cell and output element which can be found *uniquely* in the notebook.\n",
       "    // Note - this is a bit hacky, but it is done because the \"notebook_saving.Notebook\"\n",
       "    // IPython event is triggered only after the cells have been serialised, which for\n",
       "    // our purposes (turning an active figure into a static one), is too late.\n",
       "    var cells = IPython.notebook.get_cells();\n",
       "    var ncells = cells.length;\n",
       "    for (var i = 0; i < ncells; i++) {\n",
       "        var cell = cells[i];\n",
       "        if (cell.cell_type === 'code') {\n",
       "            for (var j = 0; j < cell.output_area.outputs.length; j++) {\n",
       "                var data = cell.output_area.outputs[j];\n",
       "                if (data.data) {\n",
       "                    // IPython >= 3 moved mimebundle to data attribute of output\n",
       "                    data = data.data;\n",
       "                }\n",
       "                if (data['text/html'] === html_output) {\n",
       "                    return [cell, data, j];\n",
       "                }\n",
       "            }\n",
       "        }\n",
       "    }\n",
       "};\n",
       "\n",
       "// Register the function which deals with the matplotlib target/channel.\n",
       "// The kernel may be null if the page has been refreshed.\n",
       "if (IPython.notebook.kernel !== null) {\n",
       "    IPython.notebook.kernel.comm_manager.register_target(\n",
       "        'matplotlib',\n",
       "        mpl.mpl_figure_comm\n",
       "    );\n",
       "}\n"
      ],
      "text/plain": [
       "<IPython.core.display.Javascript object>"
      ]
     },
     "metadata": {},
     "output_type": "display_data"
    },
    {
     "data": {
      "text/html": [
       "<img src=\"data:image/png;base64,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\" width=\"800\">"
      ],
      "text/plain": [
       "<IPython.core.display.HTML object>"
      ]
     },
     "metadata": {},
     "output_type": "display_data"
    }
   ],
   "source": [
    "fig, ax = plt.subplots(figsize=(8, 5))\n",
    "plt.subplots_adjust(left=0.1, bottom=0.35)\n",
    "x_plot = np.linspace(-10, 10, 1000)\n",
    "potential_centers = np.linspace(-5, 5, num_basis_functions)\n",
    "potential_widths = np.ones(num_basis_functions)\n",
    "potential_contributions =  np.random.randn(num_basis_functions)\n",
    "gaussian_centers = np.linspace(-5, 5, num_basis_functions)\n",
    "gaussian_widths = np.ones(num_basis_functions)\n",
    "initial_coefficients = np.ones(num_basis_functions)\n",
    "potential = Vgauss(x_plot, potential_centers, potential_widths, potential_contributions)\n",
    "psival = psi_ritz(x_plot, initial_coefficients, gaussian_centers, gaussian_widths)\n",
    "line, = plt.plot(x_plot, potential, lw=2)\n",
    "line1, = plt.plot(x_plot, psival, lw=2, color=\"r\")\n",
    "ax_contributions = []\n",
    "\n",
    "for i in range(num_basis_functions):\n",
    "    ax_contributions.append(plt.axes([0.1, 0.0 + 0.02 * i, 0.65, 0.03], facecolor=ax.get_facecolor()))\n",
    "sliders_coefficients = []\n",
    "for i in range(num_basis_functions):\n",
    "    sliders_coefficients.append(Slider(ax_contributions[i], f'c_ {i+1}', -2.0, 2.0, valinit=0.0))\n",
    "def update(val):\n",
    "    coefficients = [slider.val for slider in sliders_coefficients]\n",
    "    updated_psi = psi_ritz(x_plot, coefficients, gaussian_centers, gaussian_widths)\n",
    "    line1.set_ydata(updated_psi)  # Update the wavefunction plot\n",
    "    fig.canvas.draw_idle()\n",
    "for i in range(num_basis_functions):\n",
    "    sliders_coefficients[i].on_changed(update)"
   ]
  },
  {
   "cell_type": "markdown",
   "id": "c71dc0ab",
   "metadata": {
    "slideshow": {
     "slide_type": "slide"
    }
   },
   "source": [
    "In der Methode von Ritz-Galerkin wird die Test-Wellenfunktion als **lineare** Kombination **fester** linear unabhängiger Basisfunktionen dargestellt:\n",
    "\n",
    "$$ \\require{color}\\fcolorbox{red}{#f2d5d3}{$\\psi_{test}=\\sum_{i=1}^{N}c_{i}\\varphi_{i}$} $$\n",
    "\n",
    "Die Parameter, die man varieren kann, sind durch die Entwicklungskoeffizienten $c_i$ gegeben, während die $\\varphi_i$ feste von uns gewählte Basisfunktionen darstellen. $N$ ist die Anzahl der Basisfunktionen. \n",
    "\n",
    "In dem Fall, dass die gewählten Basisfunktionen eine vollständige Basis bilden, konvergiert der variationell berechnete Wert für Energie zu dem exakten Wert, wenn $N\\rightarrow \\infty$. "
   ]
  },
  {
   "cell_type": "markdown",
   "id": "f9be188d",
   "metadata": {
    "slideshow": {
     "slide_type": "slide"
    }
   },
   "source": [
    "Der große Vorteil dieses linearen Variationsverfahrens ist, dass die Optimierung von variationellen Parametern auf die Lösung **linearer** Gleichungsysteme führt. Diese können effizient mit den Methoden der numerischen linearen Algebra auf modernen Rechnern gelöst werden. Aus diesem Grund stellt das lineare Variationsverfahren eine der wichtigsten Grundlagen der Quantenchemie dar. "
   ]
  },
  {
   "cell_type": "markdown",
   "id": "f8a44c1d",
   "metadata": {
    "slideshow": {
     "slide_type": "slide"
    }
   },
   "source": [
    "<h1> Berechnung der optimalen Entwicklungskoeffizienten $c_i$</h1>"
   ]
  },
  {
   "cell_type": "markdown",
   "id": "c4b7c181",
   "metadata": {
    "slideshow": {
     "slide_type": "slide"
    }
   },
   "source": [
    "Mit diesem linearen Ansatz können wir ähnlich wie bei dem Beweis des Variationssatzes den Erwartungswert der Energie berechnen. \n",
    "\n",
    "$$ E[\\psi_{test}]=\\int dV\\psi_{test}^{*}\\hat{H}\\psi_{test}=\\sum_{i}\\sum_{j}c_{i}^{*}c_{j}\\int dV\\varphi_{i}^{*}\\hat{H}\\varphi_{j} $$\n",
    "\n",
    "Da die $\\varphi _i$ aber in diesem Fall im Allgemeinen keine exakten Eigenfunktionen des Hamiltonoperators sind, lässt sich das Integral auf der rechten Seite nicht weiter vereinfachen. Wir führen die folgende Bezeichnung ein:\n",
    "\n",
    "$$ H_{ij}=\\int dV\\varphi_{i}^{*}\\hat{H}\\varphi_{j}. $$\n",
    "\n",
    "$H_{ij}$ sind die Matrixelemente des Hamilton-Operators in der gewählten Basis. "
   ]
  },
  {
   "cell_type": "markdown",
   "id": "4c481503",
   "metadata": {
    "slideshow": {
     "slide_type": "slide"
    }
   },
   "source": [
    "Damit der Ansatz normiert ist, müssen die Variationsparameter $c_i$ die folgende Beziehung erfüllen:\n",
    "\n",
    "$$ \\int dV\\psi_{test}^{*}\\psi_{test}=1\\rightarrow\\sum_{i}\\sum_{j}c_{i}^{*}c_{j}\\left[\\int dV\\varphi_{i}^{*}\\varphi_{j}\\right]=1.  $$\n",
    "\n",
    "Wir definieren die Überlappungmatrix $\\mathbf S$ mit den Matrixelementen:\n",
    "\n",
    "$$ S_{ij}=\\int dV\\varphi_{i}^{*}\\varphi_{j},$$\n",
    "\n",
    "so dass man die Normierungsbedingung auch als:\n",
    "\n",
    "$$ \\sum_{i}\\sum_{j}c_{i}^{*}c_{j}S_{ij}=1 $$\n",
    "\n",
    "ausdrücken kann. "
   ]
  },
  {
   "cell_type": "markdown",
   "id": "852ec90f",
   "metadata": {
    "slideshow": {
     "slide_type": "slide"
    }
   },
   "source": [
    "Der Erwartungswert der Energie lautet damit:\n",
    "\n",
    "$$E[\\psi_{test}]=\\sum_{i}\\sum_{j}c_{i}^{*}c_{j}H_{ij}$$\n",
    "\n",
    "mit der Nebenbedingung:\n",
    "\n",
    "$$ \\sum_{i}\\sum_{j}c_{i}^{*}c_{j}S_{ij}=1 $$\n",
    "\n",
    "In dem allgemeinen Fall, wenn die $c$'s komplex sind, enthält die Normierungsbedingung zwei unabhängige Bedingungen, da der Realteil und der Imaginärteil beide unabhängig voneinander verschwinden müssen. Äquivalent dazu muss auch \n",
    "\n",
    "$$ \\sum_{i}\\sum_{j}c_{i}c_{j}^{*}S_{ij}^{*}=1 $$\n",
    "\n",
    "gelten, was man leicht sieht, wenn man die Normierungsbedingung komplex konjugiert. "
   ]
  },
  {
   "cell_type": "markdown",
   "id": "21727e2c",
   "metadata": {
    "slideshow": {
     "slide_type": "slide"
    }
   },
   "source": [
    "Um die optimalen Werte für die $c_i$ zu bestimmen, muss der Erwartungswert minimiert werden. Da wir eine zusätzliche Nebenbedingung haben, verwenden wir für die Minimierung die Methode der Lagrange-Multiplikatoren, die aus der Mathematik bekannt ist.\n",
    "\n",
    "Wir definieren dazu die Lagrange-Funktion:\n",
    "\n",
    "$$\\mathcal{L}(c_{1},\\cdots,c_{N},\\lambda)=E[\\psi_{test}]-\\lambda\\left(\\sum_{i}\\sum_{j}c_{i}^{*}c_{j}S_{ij}-1\\right)-\\lambda^{*}\\left(\\sum_{i}\\sum_{j}c_{i}c_{j}^{*}S_{ij}^{*}-1\\right),$$\n",
    "\n",
    "$$\\mathcal{L}(c_{1},\\cdots,c_{N},\\lambda)=\\sum_{i}\\sum_{j}c_{i}^{*}c_{j}H_{ij}-\\lambda\\left(\\sum_{i}\\sum_{j}c_{i}^{*}c_{j}S_{ij}-1\\right) - \\lambda^{*}\\left(\\sum_{i}\\sum_{j}c_{i}c_{j}^{*}S_{ij}^{*}-1\\right)$$\n",
    "\n",
    "Diese Funktion hängt von den $c_i$'s und den Lagrange-Multiplikatoren $\\lambda$ und $\\lambda^*$ ab. Da die $c_i$'s im Allgemeinen komplex sind,\n",
    "\n",
    "$$c_{i}=a_{i}+ib_{i} \\quad c_{i}^{*}=a_{i}-ib_{i} $$\n",
    "\n",
    "können der Realteil $a_i$ und der Imaginärteil $b_i$ unabgängig voneinander variiert werden. \n"
   ]
  },
  {
   "cell_type": "markdown",
   "id": "cb3a2d04",
   "metadata": {
    "slideshow": {
     "slide_type": "slide"
    }
   },
   "source": [
    "Die Lagrange-Funktion $\\mathcal{L}$ hat einen stationären Punkt, wenn:\n",
    "\n",
    "$$ \\frac{\\partial\\mathcal{L}}{\\partial a_{i}}=0 \\quad \\forall i = 1, \\cdots N $$\n",
    "\n",
    "$$ \\frac{\\partial\\mathcal{L}}{\\partial b_{i}}=0 \\quad \\forall i = 1, \\cdots N $$\n",
    "\n",
    "$$ \\frac{\\partial\\mathcal{L}}{\\partial \\lambda}=0 $$\n",
    "\n",
    "und \n",
    "\n",
    "$$ \\frac{\\partial\\mathcal{L}}{\\partial \\lambda^*}=0 $$"
   ]
  },
  {
   "cell_type": "markdown",
   "id": "9a1f85db",
   "metadata": {
    "slideshow": {
     "slide_type": "slide"
    }
   },
   "source": [
    "Die Ableitungen der Lagrange-Funktion nach dem Realteil $a_i$ und dem Imaginärteil $b_i$ kann man mit Hilfe der Kettenregel wie folgt umformen:\n",
    "\n",
    "$$\\frac{\\partial\\mathcal{L}}{\\partial a_{i}}=\\frac{\\partial\\mathcal{L}}{\\partial c_{i}}\\frac{\\partial c_{i}}{\\partial a_{i}}+\\frac{\\partial\\mathcal{L}}{\\partial c_{i}^{*}}\\frac{\\partial c_{i}^{*}}{\\partial a_{i}}=\\frac{\\partial\\mathcal{L}}{\\partial c_{i}}+\\frac{\\partial\\mathcal{L}}{\\partial c_{i}^{*}}$$\n",
    "\n",
    "$$\\frac{\\partial\\mathcal{L}}{\\partial b_{i}}=\\frac{\\partial\\mathcal{L}}{\\partial c_{i}}\\frac{\\partial c_{i}}{\\partial b_{i}}+\\frac{\\partial\\mathcal{L}}{\\partial c_{i}^{*}}\\frac{\\partial c_{i}^{*}}{\\partial b_{i}}=i\\frac{\\partial\\mathcal{L}}{\\partial c_{i}}-i\\frac{\\partial\\mathcal{L}}{\\partial c_{i}^{*}}$$\n",
    "\n",
    "Aus der Stationaritätsbedingung folgt dann:\n",
    "\n",
    "$$\\frac{\\partial\\mathcal{L}}{\\partial a_{i}}=0\\rightarrow\\frac{\\partial\\mathcal{L}}{\\partial c_{i}}+\\frac{\\partial\\mathcal{L}}{\\partial c_{i}^{*}}=0$$\n",
    "\n",
    "$$\\frac{\\partial\\mathcal{L}}{\\partial b_{i}}=0\\rightarrow\\frac{\\partial\\mathcal{L}}{\\partial c_{i}}-\\frac{\\partial\\mathcal{L}}{\\partial c_{i}^{*}}=0$$"
   ]
  },
  {
   "cell_type": "markdown",
   "id": "d66d3e31",
   "metadata": {
    "slideshow": {
     "slide_type": "slide"
    }
   },
   "source": [
    "Daraus folgt:\n",
    "    \n",
    "$$ \\frac{\\partial\\mathcal{L}}{\\partial c_{i}}=0 $$\n",
    "\n",
    "und \n",
    "\n",
    "$$\\frac{\\partial\\mathcal{L}}{\\partial c_{i}^{*}}=0$$\n",
    "\n",
    "Wir sehen also, dass man $c_i$ und $c_i^*$ als unabhängige Variablen betrachten kann und separat beide Ableitungen verschwinden müssen. Dies ist ein nützlicher Trick, den man in der Quantenchemie oft verwendet..."
   ]
  },
  {
   "cell_type": "markdown",
   "id": "4e758585",
   "metadata": {
    "slideshow": {
     "slide_type": "slide"
    }
   },
   "source": [
    "Wir berechnen im Folgenden die beiden Ableitungen explizit. Für jeden beliebigen Wert des Indexes $k$ gilt:\n",
    "    \n",
    "$$\\frac{\\partial\\mathcal{L}}{\\partial c_{k}^{*}}=0\\rightarrow\\sum_{j}c_{j}\\left(H_{kj}-(\\lambda+\\lambda^{*})S_{kj}\\right)=0\\quad\\forall k=1,\\cdots,N $$\n",
    "    \n",
    "$$ \\frac{\\partial\\mathcal{L}}{\\partial c_{k}}=0\\rightarrow\\sum_{i}c_{i}^{*}\\left(H_{ik}-(\\lambda+\\lambda^{*})S_{ik}\\right)=0\\quad\\forall k=1,\\cdots,N $$\n",
    "\n",
    "Für die Matrixelemente gilt wegen der Hermitezität $ H_{jk}^{*}=H_{kj} $ und $  S_{jk}^{*}=S_{kj} $, so dass sich die zweite Bedingung einfach durch komplexe Konjugierung aus der ersten ergibt. \n",
    "\n",
    "Da $\\lambda +\\lambda^*$ reell ist, führen wir die folgende Abkürzung ein:\n",
    "\n",
    "$$ \\epsilon=\\lambda+\\lambda^{*} $$\n",
    "\n",
    "\n"
   ]
  },
  {
   "cell_type": "markdown",
   "id": "e35479e9",
   "metadata": {
    "slideshow": {
     "slide_type": "slide"
    }
   },
   "source": [
    "Damit erhalten wir für die optimalen Variationsparameter $c$ folgendes System von **homogenen linearen Gleichungen**:\n",
    "\n",
    "$$\\require{color}\\fcolorbox{red}{#f2d5d3}{$\\sum_{j}\\left(H_{kj}-\\epsilon S_{kj}\\right)c_{j}=0\\quad k=1,\\cdots,N$}$$\n",
    "\n",
    "Aus der linearen Algebra wissen wir, dass ein homogenes System nur dann eine nichttriviale Lösung besitzt, wenn:\n",
    "\n",
    "$$ \\require{color}\\fcolorbox{red}{#f2d5d3}{$\\det\\left(\\mathbf{H-\\epsilon\\mathbf{S}}\\right)=0 $}$$\n",
    "\n",
    "Die Lösung dieser Polynom-Gleichung liefert uns die variationelle Abschätzung für die Energie der niedrigsten $N$ Zustände!"
   ]
  },
  {
   "cell_type": "markdown",
   "id": "fdfef0b2",
   "metadata": {
    "slideshow": {
     "slide_type": "slide"
    }
   },
   "source": [
    "# Beispiel: Teilchen im $V(x) = \\alpha x^4$ Potential\n",
    "\n",
    "<h2> Systematische Verbesserung durch lineare Variation </h2>"
   ]
  },
  {
   "cell_type": "markdown",
   "id": "38e99dc0",
   "metadata": {
    "slideshow": {
     "slide_type": "slide"
    }
   },
   "source": [
    "Wir haben am Beispiel des Teilchens im quartischen Potential eine Näherung für den Grundzustand durch Optimierung des Gaußfunktions-Ansatzes gefunden: \n",
    "\n",
    "$$ \\psi_{test}(x; \\beta)=N\\exp(-\\beta_{opt} x^{2}) $$\n",
    "\n",
    "Diese wollen wir nun systematisch verbessern. Wir wissen, dass der Grundzustand durch eine gerade Wellenfunktion beschrieben wird. Dies bedeutet, dass wir als Basissatz nur gerade Funktionen betrachten müssen. \n",
    "\n",
    "Wir betrachten den folgenden Satz von $N$ Basisfunktionen:\n",
    "\n",
    "$$ \\psi_{n}(x)=x^{2n}\\exp\\left(-\\beta_{opt}x^{2}\\right)\\quad n=0,\\cdots,N-1 $$\n",
    "\n",
    "Alle diese Funktionen sind gerade. Daraus bilden wir den **linearen** Variationsansatz: \n",
    "\n",
    "$$ \\varphi_{n}(x)=x^{2n}\\exp\\left(-\\beta_{opt}x^{2}\\right)\\quad n=0,\\cdots,N-1 $$\n"
   ]
  },
  {
   "cell_type": "code",
   "execution_count": 22,
   "id": "7d3919ea",
   "metadata": {
    "slideshow": {
     "slide_type": "slide"
    }
   },
   "outputs": [],
   "source": [
    "def Tij(psi_i,psi_j):\n",
    "    return simplify(integrate(psi_i*T_psi(psi_j),(x,-oo,+oo)))\n",
    "def Vij(psi_i,psi_j, V):\n",
    "    return simplify(integrate(psi_i*V_psi(V,psi_j),(x,-oo,+oo)))\n",
    "def Hij(psi_i, psi_j, V):\n",
    "    return simplify(Tij(psi_i,psi_j) + Vij(psi_i,psi_j,V))\n",
    "def Sij(psi_i, psi_j):\n",
    "    return simplify(integrate(psi_i*psi_j,(x,-oo,+oo)))"
   ]
  },
  {
   "cell_type": "code",
   "execution_count": 23,
   "id": "f10d3267",
   "metadata": {
    "slideshow": {
     "slide_type": "skip"
    }
   },
   "outputs": [
    {
     "name": "stdout",
     "output_type": "stream",
     "text": [
      "\\frac{3 \\cdot \\sqrt[3]{6} \\sqrt[3]{\\alpha} \\hbar^{\\frac{4}{3}}}{8 m^{\\frac{2}{3}}}\n"
     ]
    }
   ],
   "source": [
    "E_exact = simplify(Hij(psi_opt, psi_opt, V)/Sij(psi_opt,psi_opt))\n",
    "print(latex(E_exact))"
   ]
  },
  {
   "cell_type": "code",
   "execution_count": 24,
   "id": "898822e0",
   "metadata": {
    "slideshow": {
     "slide_type": "slide"
    }
   },
   "outputs": [
    {
     "name": "stdout",
     "output_type": "stream",
     "text": [
      "0\n",
      "1\n",
      "2\n",
      "3\n",
      "4\n"
     ]
    }
   ],
   "source": [
    "Nbasis = 5\n",
    "xrange = np.linspace(-2,2,100)\n",
    "vrange = V_lam(1.0,xrange)\n",
    "basis = [x**(2*i)*psi_opt for i in range(Nbasis)]\n",
    "basis_lam = [lambdify([alpha, m, hbar, x],basis[i]) for i in range(Nbasis)]\n",
    "plt.plot(xrange,vrange, color = \"blue\", linewidth = 3.0)\n",
    "xrange = np.linspace(-5,5,100)\n",
    "\n",
    "for i in range(Nbasis):\n",
    "    print(i)\n",
    "    yrange = basis_lam[i](1,1,1,xrange)\n",
    "    plt.plot(xrange,yrange, color = \"red\", linewidth = 3.0)\n",
    "    plt.xlabel(r'$x$')\n",
    "    plt.ylabel(r'$V(x),\\psi(x)$', fontsize = 24)\n",
    "plt.show()"
   ]
  },
  {
   "cell_type": "markdown",
   "id": "b77a0c13",
   "metadata": {
    "slideshow": {
     "slide_type": "slide"
    }
   },
   "source": [
    "Berechnung der Überlappmatrix $\\mathbf S$"
   ]
  },
  {
   "cell_type": "markdown",
   "id": "02b961c7",
   "metadata": {
    "slideshow": {
     "slide_type": "slide"
    }
   },
   "source": [
    "Die Elemente der Überlappmatrix können wie folgt berechnet werden:\n",
    "    \n",
    "$$    S_{ij}=\\int_{-\\infty}^{+\\infty}dx\\varphi_{i}(x)\\varphi_{j}(x)=\\int_{-\\infty}^{+\\infty}dxx^{2(i+j)}\\exp(-2\\beta_{opt}x^{2}) $$\n",
    "\n",
    "Das entsprechende Integral kann mit Sympy analytisch berechnet werden. Analog dazu können wir auch die Matrixelemente des Hamilton-Operators berechnen: \n",
    "\n"
   ]
  },
  {
   "cell_type": "code",
   "execution_count": 25,
   "id": "cc9183f8",
   "metadata": {
    "slideshow": {
     "slide_type": "slide"
    }
   },
   "outputs": [
    {
     "data": {
      "text/latex": [
       "$\\displaystyle \\frac{\\sqrt[6]{6} \\sqrt{\\pi} \\hbar^{\\frac{5}{3}} i j}{8 \\alpha^{\\frac{5}{6}} m^{\\frac{5}{6}}}$"
      ],
      "text/plain": [
       "6**(1/6)*sqrt(pi)*hbar**(5/3)*i*j/(8*alpha**(5/6)*m**(5/6))"
      ]
     },
     "execution_count": 25,
     "metadata": {},
     "output_type": "execute_result"
    }
   ],
   "source": [
    "i,j = symbols('i j', integer = True)\n",
    "psi1 = (x**2*i)*psi_opt\n",
    "psi2 = (x**2*j)*psi_opt\n",
    "Sij(psi1,psi2)"
   ]
  },
  {
   "cell_type": "code",
   "execution_count": 26,
   "id": "5803e644",
   "metadata": {
    "slideshow": {
     "slide_type": "slide"
    }
   },
   "outputs": [],
   "source": [
    "from scipy.linalg import eig\n",
    "def getEnergy(N):\n",
    "    basis = [x**(2*i)*psi_opt for i in range(N)]\n",
    "    S = zeros(N, N)\n",
    "    H = zeros(N, N)\n",
    "    for i, psi_i in enumerate(basis):\n",
    "        for j , psi_j in enumerate(basis):\n",
    "            H[i,j] = Hij(psi_i, psi_j, V)\n",
    "            S[i,j] = Sij(psi_i, psi_j)\n",
    "    H_lam = lambdify([alpha, m, hbar], H)\n",
    "    S_lam = lambdify([alpha, m, hbar], S)\n",
    "    HH = H_lam(1.0,1.0,1.0)\n",
    "    SS = S_lam(1.0,1.0,1.0)\n",
    "    u,v = eig(HH,SS)\n",
    "    return min(u.real)\n",
    "\n",
    "energies = []\n",
    "for i in range(1,10,1):\n",
    "    energies.append(getEnergy(i))\n",
    "energies = np.array(energies)\n"
   ]
  },
  {
   "cell_type": "code",
   "execution_count": 27,
   "id": "c96e7504",
   "metadata": {
    "slideshow": {
     "slide_type": "slide"
    }
   },
   "outputs": [],
   "source": [
    "plt.clf()\n",
    "plt.plot(range(1,10,1),energies,'o', c='red', markersize = 12)\n",
    "plt.plot(range(1,10,1),energies,'--', c='red', lw = 2.0)\n",
    "plt.xlabel(r'$N_{basis}$')\n",
    "plt.ylabel(r'$E_0$')\n",
    "plt.show()"
   ]
  },
  {
   "cell_type": "code",
   "execution_count": 28,
   "id": "e89be65c",
   "metadata": {},
   "outputs": [
    {
     "name": "stdout",
     "output_type": "stream",
     "text": [
      "[0.68142022 0.68142022 0.66972609 0.6680444  0.66804151 0.66800256\n",
      " 0.66798763 0.6679864  0.66798592]\n"
     ]
    }
   ],
   "source": [
    "print(energies)"
   ]
  },
  {
   "cell_type": "code",
   "execution_count": null,
   "id": "58ba8165",
   "metadata": {},
   "outputs": [],
   "source": []
  }
 ],
 "metadata": {
  "celltoolbar": "Slideshow",
  "kernelspec": {
   "display_name": "Python 3 (ipykernel)",
   "language": "python",
   "name": "python3"
  },
  "language_info": {
   "codemirror_mode": {
    "name": "ipython",
    "version": 3
   },
   "file_extension": ".py",
   "mimetype": "text/x-python",
   "name": "python",
   "nbconvert_exporter": "python",
   "pygments_lexer": "ipython3",
   "version": "3.10.9"
  }
 },
 "nbformat": 4,
 "nbformat_minor": 5
}
