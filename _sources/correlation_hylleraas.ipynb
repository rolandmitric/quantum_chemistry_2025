{
 "cells": [
  {
   "cell_type": "markdown",
   "id": "348bfba2",
   "metadata": {},
   "source": [
    "# Elektronenkorrelation: Hylleraas‐Methode für Helium"
   ]
  },
  {
   "cell_type": "markdown",
   "id": "c8c464c2",
   "metadata": {},
   "source": [
    "Das Heliumatom als das einfachste Mehr‐Elektronen‐System eignet sich gut, um den Einfluss der Elektronenkorrelation auf die Gesamtenergie zu untersuchen. Im Hartree‐Produktansatz, den wir vorher als einfachste Beschreibung der Zweielektronen-Wellenfunktion eingeführt haben,\n",
    "\n",
    "$$\n",
    "\\Psi_0(\\mathbf{r}_1,\\mathbf{r}_2)=\\psi(\\mathbf{r}_1)\\psi(\\mathbf{r}_2)\n",
    "$$\n",
    "\n",
    "sind die Elektronenkoordinaten voneinander entkoppelt. Die Elektronen sind also unabhängig von einander und nicht korreliert! Die gegenseitige Abstoßung wird damit nur im Mittel beschrieben. Eine explizite Korrelation der Elektronenbewegungen fehlt, und die Energie liegt deshalb über dem exakten Wert. Hylleraas zeigte 1929, dass sich eine erhebliche Verbesserung erreichen lässt, wenn man den **gegenseitigen Abstand**\n",
    "\n",
    "$$\n",
    "r_{12} = |\\mathbf{r}_1 - \\mathbf{r}_2|\n",
    "$$\n",
    "\n",
    "als zusätzliche Variable in den variationellen Ansatz einführt. Wir definieren nun die sogenannten **Hylleraas‐Koordinaten**\n",
    "\n",
    "$$\n",
    "s = r_1 + r_2, \\qquad\n",
    "t = r_1 - r_2, \\qquad\n",
    "u = r_{12}\n",
    "$$\n",
    "\n",
    "die eine natürliche Grundlage für eine explizit korrelierte Beschreibung bilden."
   ]
  },
  {
   "cell_type": "markdown",
   "id": "904d0753",
   "metadata": {},
   "source": [
    "## Variationsansatz von Hylleraas$\n",
    "\n",
    "Die Hylleraas‐Wellenfunktion wird  als Produkt eines exponentiellen Faktor mit einer polynomiellen Korrektur gewählt. Wenn man im einfachsten Fall nur den linearen Term in $u = r_{12}$ behält, erhält man den folgenden Ansatz:\n",
    "\n",
    "$$\n",
    "\\Psi(s,t,u)=e^{-\\zeta s}\\,(1+\\gamma u).\n",
    "$$\n",
    "\n",
    "Den variationellen Parameter $\\zeta$ kann man als eine effektive (abgeschirmte) Kernladung aufpassen und $\\gamma$ ist ein Korrelationsparameter. Für $\\gamma=0$ reduziert sich der Ausdruck auf das unkorrelierte Hartree‐Produkt, während $\\gamma\\neq 0$ eine explizite Abhängigkeit von $r_{12}=u$ einführt.  "
   ]
  },
  {
   "cell_type": "markdown",
   "id": "e0ff430d",
   "metadata": {},
   "source": [
    "## Energieerwartungswerte für den Hylleraas-Ansatz\n",
    "\n",
    "Wir berechnen nun zunächst den Erwartungswert der Energie für den Hylleraas-Ansatz und zerlegen den in drei Beiträge nach:\n",
    "\n",
    "$$\n",
    "E = \n",
    "\\frac{\n",
    "\\langle \\Psi | \\hat{H} | \\Psi \\rangle\n",
    "}{\n",
    "\\langle \\Psi | \\Psi \\rangle\n",
    "}\n",
    "=\n",
    "\\frac{\n",
    "\\langle T \\rangle + \\langle V_{ne} \\rangle + \\langle V_{ee} \\rangle\n",
    "}{\n",
    "\\langle \\Psi | \\Psi \\rangle\n",
    "}.\n",
    "$$\n",
    "\n",
    "Dabei haben wir die folgenden Größen definiert:\n",
    "\n",
    "$$\n",
    "\\langle T \\rangle = -\\tfrac{1}{2}\\int \\Psi\\,\\nabla^2\\Psi\\,d\\tau, \\qquad\n",
    "\\langle V_{ne} \\rangle = -Z\\int \\Psi^2\\!\\left(\\frac{1}{r_1}+\\frac{1}{r_2}\\right)\\!d\\tau, \\qquad\n",
    "\\langle V_{ee} \\rangle = \\int \\Psi^2\\,\\frac{1}{r_{12}}\\,d\\tau.\n",
    "$$\n",
    "\n",
    "Im Folgenden berechnen wir die Integrale analytisch und überprüfen unsere Ergebnisse durch symbolische Integration mit SymPy."
   ]
  },
  {
   "cell_type": "markdown",
   "id": "1e42477e",
   "metadata": {},
   "source": [
    "<div style=\"border:1px solid #1f6feb;border-left-width:8px;background:#f1f8ff;padding:14px 16px;border-radius:8px;\">\n",
    "  <h4 style=\"margin:0 0 8px 0;\">Mathematische Ergänzung: Transformation des Volumenelements</h4>\n",
    "  <p style=\"margin:0 0 8px 0;\">\n",
    "    Gegeben sei eine (glatte) Transformation zwischen den karthesischen und allgemeinen (krummlinigen) Koordinaten: \n",
    "      \n",
    "$$\\mathbf{r} = \\mathbf{r}(q_1,q_2,q_3)$$\n",
    "      \n",
    "Bei einer solchen Transformation wirk lokalein kleines Koordinatenwürfelchen $(dq_1\\,dq_2\\,dq_3)$ linear auf ein Parallelepiped im $\\mathbf{r}$-Raum deformiert.\n",
    "</p>\n",
    "\n",
    "<p style=\"margin:0 0 8px 0;\">\n",
    "Die entsprechenden Basisvektoren, die das Parallelepiped aufspannen sind gegeben durch:\n",
    "      \n",
    "$$\\mathbf{e}_i = \\frac{\\partial \\mathbf{r}}{\\partial q_i}.$$\n",
    "      \n",
    "Das Volumen dieses Parallelepipeds lässt sich nun wie folgt ausdrücken:\n",
    "      \n",
    "$$\n",
    "    dV = \\bigl|\\mathbf{e}_1 \\cdot (\\mathbf{e}_2 \\times \\mathbf{e}_3)\\bigr|\\,\n",
    "    dq_1\\,dq_2\\,dq_3\n",
    "    = \n",
    "    \\left|\\det\\!\\left(\\frac{\\partial(x_1,x_2,x_3)}{\\partial(q_1,q_2,q_3)}\\right)\\right|\n",
    "    dq_1\\,dq_2\\,dq_3.\n",
    "$$\n",
    "</p>\n",
    "\n",
    "  <p style=\"margin:0 0 8px 0;\">\n",
    "In orthogonalen krummlinigen Koordinaten mit  \n",
    "\n",
    "$$h_i = \\left\\lVert \\frac{\\partial \\mathbf{r}}{\\partial q_i} \\right\\rVert$$\n",
    "\n",
    "reduziert sich dies auf das einfachere Rezept für die Transformation:\n",
    "      \n",
    "$$\n",
    "dV = h_1\\,h_2\\,h_3\\,dq_1\\,dq_2\\,dq_3,\n",
    "$$\n",
    "      \n",
    "Zum Beispiel in sphärischen Polarkoordinaten gilt: $h_r = 1,\\; h_\\theta = r,\\; h_\\phi = r\\sin\\theta$.\n",
    "</p>\n",
    "\n",
    "<p style=\"margin:0;\">\n",
    "<strong>Kochrezept:</strong> Schreibe \\(\\mathbf{r}(q_1,q_2,q_3)\\), bilde die Jacobi-Matrix \n",
    "    \\(\\partial x_j/\\partial q_i\\) (oder die Basisvektoren \\(\\mathbf{e}_i\\)),\n",
    "    und multipliziere \\(dq_1dq_2dq_3\\) mit \\(|\\det J|\\).\n",
    "  </p>\n",
    "</div>"
   ]
  },
  {
   "cell_type": "markdown",
   "id": "27e6fc38",
   "metadata": {},
   "source": [
    "## Transformation des Volumenelements\n",
    "\n",
    "\n",
    "Für die Integration über die Koordinaten zweier Elektronen wird zunächst das volle sechsdimensionale Volumenelement betrachtet, das sich aus den Kugelkoordinaten des ersten Elektrons $(r_1, \\theta_1, \\phi_1)$ und den Kugelkoordinaten des relativen Ortsvektors $\\mathbf{r}_{12} = \\mathbf{r}_2 - \\mathbf{r}_1$ mit $(r_{12}, \\theta_{12}, \\phi_{12})$ zusammensetzt. Das zugehörige Volumenelement (Integratiosmaß) lautet\n",
    "\n",
    "$$\n",
    "dV = \\bigl(r_1^2 \\sin\\theta_1, dr_1, d\\theta_1, d\\phi_1\\bigr),\n",
    "\\bigl(r_{12}^2 \\sin\\theta_{12}, dr_{12}, d\\theta_{12}, d\\phi_{12}\\bigr).\n",
    "$$\n",
    "\n",
    "Da Hylleraas-Funktionen nur von den Abständen $r_1$, $r_2$ und $r_{12}$ abhängen und damit invariant gegenüber einer gemeinsamen Rotation beider Elektronen sind, treten die absoluten Winkel $\\theta_1$, $\\phi_1$ und $\\phi_{12}$ nicht explizit auf. Diese Winkel können daher sofort integriert werden, was die Faktoren\n",
    "\n",
    "$$\n",
    "\\int_0^{2\\pi} d\\phi_1 = 2\\pi, \\qquad\n",
    "\\int_0^{\\pi} \\sin\\theta_1, d\\theta_1 = 2, \\qquad\n",
    "\\int_0^{2\\pi} d\\phi_{12} = 2\\pi\n",
    "$$\n",
    "\n",
    "liefert. Übrig bleibt das reduzierte Volumenelement\n",
    "\n",
    "$$\n",
    "dV = 8\\pi^2 r_1^2 r_{12}^2 \\sin\\theta_{12} dr_1 dr_{12} d\\theta_{12},\n",
    "$$\n",
    "\n",
    "das nur noch von $r_1$, $r_{12}$ und dem Winkel $\\theta_{12}$ zwischen den Vektoren $\\mathbf{r}_1$ und $\\mathbf{r}_{12}$ abhängt. Es ist nun günstig den Winkel $\\theta_{12}$ durch den Abstand $r_2$ des zweiten Elektrons vom Kern zu ersetzen. Dies erfolgt über den Kosinussatz:\n",
    "\n",
    "$$\n",
    "r_2 = \\sqrt{r_1^2 + r_{12}^2 + 2 r_1 r_{12} \\cos\\theta_{12}}.\n",
    "$$\n",
    "\n",
    "Zur Transformation des Volumenelements wird die Jacobi-Determinante der Transformationsabbildung\n",
    "\n",
    "$$(r_1, r_{12}, \\theta_{12}) \\mapsto (r_1, r_{12}, r_2)$$\n",
    "\n",
    "benötigt. Da nur die letzte Variable transformiert wird, genügt die partielle Ableitung\n",
    "\n",
    "$$\n",
    "\\left|\\frac{\\partial r_2}{\\partial \\theta_{12}}\\right|\n",
    "= \\frac{r_1 r_{12}}{r_2} \\sin\\theta_{12},\n",
    "$$\n",
    "\n",
    "woraus sich\n",
    "\n",
    "$$\n",
    "d\\theta_{12} = \\frac{r_2}{r_1 r_{12} \\sin\\theta_{12}} dr_2\n",
    "$$\n",
    "\n",
    "ergibt. Eingesetzt in das reduzierte Volumenelement führt dies auf das Volumenelement in den neuen Koordinaten:\n",
    "\n",
    "$$\n",
    "dV = 8\\pi^2 r_1 r_{12} r_2 dr_1 dr_{12} dr_2.\n",
    "$$\n",
    "\n",
    "Die Integrationsgrenzen ergeben sich aus den Dreiecksbeziehungen zwischen den drei Abständen:\n",
    "\n",
    "$$\n",
    "0 \\le r_1 < \\infty, \\qquad\n",
    "0 \\le r_2 < \\infty, \\qquad\n",
    "|r_1 - r_2| \\le r_{12} \\le r_1 + r_2.\n",
    "$$\n",
    "\n"
   ]
  },
  {
   "cell_type": "markdown",
   "id": "48e860e8",
   "metadata": {},
   "source": [
    "Die Hylleraas-Koordinaten dienen dazu, die Abhängigkeit der Zweielektronenwellenfunktion von den drei Abständen in eine besonders symmetrische Form zu bringen.\n",
    "Sie werden definiert als\n",
    "\n",
    "$$\n",
    "s = r_1 + r_2, \\qquad\n",
    "t = r_1 - r_2, \\qquad\n",
    "u = r_{12}.\n",
    "$$\n",
    "\n",
    "Diese Transformation von $(r_1, r_2, r_{12})$ nach $(s, t, u)$ ist linear in $r_1$ und $r_2$, sodass die inverse Transformatin leicht berechnet werden kann:\n",
    "\n",
    "$$\n",
    "r_1 = \\frac{s + t}{2}, \\qquad\n",
    "r_2 = \\frac{s - t}{2}.\n",
    "$$\n",
    "\n",
    "Das zuvor abgeleitete Volumenelement\n",
    "\n",
    "$$\n",
    "dV = 8\\pi^2 r_1 r_2 r_{12} dr_1 dr_2 dr_{12}\n",
    "$$\n",
    "\n",
    "wird nun durch Einsetzen dieser Relationen transformiert. \n",
    "Zunächst ergibt sich die Jacobi-Determinante der Koordinatentransformation\n",
    "\n",
    "$$(r_1, r_2, r_{12}) \\mapsto (s, t, u)$$\n",
    "\n",
    "als\n",
    "\n",
    "$$\n",
    "\\left|\\frac{\\partial(r_1, r_2, r_{12})}{\\partial(s, t, u)}\\right|\n",
    "= \\left|\\begin{matrix}\n",
    "\\frac{\\partial r_1}{\\partial s} & \\frac{\\partial r_1}{\\partial t} & 0 \\\n",
    "\\frac{\\partial r_2}{\\partial s} & \\frac{\\partial r_2}{\\partial t} & 0 \\\n",
    "0 & 0 & 1\n",
    "\\end{matrix}\\right|\n",
    "= \\frac{1}{2}.\n",
    "$$\n",
    "\n",
    "Damit gilt\n",
    "\n",
    "$$\n",
    "dr_1 dr_2 dr_{12} = \\frac{1}{2} ds dt du.\n",
    "$$\n",
    "\n",
    "Das Volumenelement nimmt also die Form\n",
    "\n",
    "$$\n",
    "dV = 4\\pi^2 r_1 r_2 r_{12} ds dt du.\n",
    "$$\n",
    "\n",
    "Setzt man $r_1 = (s + t)/2$ und $r_2 = (s - t)/2$ ein, erhält man schließlich das Volumenelement in Hylleraas-Koordinaten:\n",
    "\n",
    "$$\n",
    "dV = \\pi^2  u (s^2 - t^2) ds, dt, du.\n",
    "$$\n",
    "\n",
    "Die Integrationsgrenzen werden wie folgt transformiert:\n",
    "\n",
    "$$\n",
    "0 \\le u \\le s, \\qquad\n",
    "-u \\le t \\le u, \\qquad\n",
    "0 \\le s < \\infty.\n",
    "$$\n",
    "\n",
    "In diesen Koordinaten wird die Integration über die Winkel vollständig eliminiert, und das verbleibende dreidimensionale Integral über $s$, $t$ und $u$ ist besonders gut an die Struktur von Hylleraas-Funktionen angepasst, die typischerweise als Polynome in $(s, t, u)$ multipliziert mit exponentiellen Faktoren konstruiert sind.\n"
   ]
  },
  {
   "cell_type": "markdown",
   "id": "ea710589",
   "metadata": {},
   "source": [
    "Für den Test wird die einfachste Hylleraas-Basis verwendet, nämlich nur eine einzige Funktion  :\n",
    "\n",
    "$$\n",
    "\\psi_0(s,t,u)=e^{-\\zeta s},\n",
    "$$  \n",
    "\n",
    "sodass das Variationsproblem dem Hartree-Produkt mit einer  1s-artigen Radialfunktion entspricht.  In atomaren Einheiten lautet der Hamiltonoperator für Helium  \n",
    "\n",
    "$$\n",
    "\\hat H=-\\tfrac12\\bigl(\\nabla_1^2+\\nabla_2^2\\bigr)-\\frac{2}{r_1}-\\frac{2}{r_2}+\\frac{1}{r_{12}},\n",
    "$$  \n",
    "\n",
    "und wegen $r_1=\\tfrac{s+t}{2}$ sowie $r_2=\\tfrac{s-t}{2}$ ergibt sich für die Elektron-Kern-Terme  \n",
    "\n",
    "$$\n",
    "-\\frac{2}{r_1}-\\frac{2}{r_2}=-\\frac{4}{s+t}-\\frac{4}{s-t}.\n",
    "$$  \n",
    "\n",
    "Der kinetische Anteil wird durch den in Hylleraas-Koordinaten hergeleiteten Differentialoperator ausgewertet. Im Code repräsentiert `grad_stu(ψ)` die Wirkung des kinetischen Operators auf eine Testfunktion.  \n",
    "Das Potential wird als multiplikativer Operator  \n",
    "\n",
    "$$\n",
    "V(s,t,u)=\\frac{1}{u}-\\frac{4}{s+t}-\\frac{4}{s-t}\n",
    "$$  \n",
    "\n",
    "implementiert.  \n",
    "\n",
    "Mit diesen Bausteinen ist der Zähler des Rayleigh-Quotienten\n",
    "\n",
    "$$\n",
    "\\mathcal N(\\zeta)=\\int\\!\\Bigl[\\tfrac12\\,\\texttt{grad\\_stu}(\\psi_0)+\\psi_0\\,V\\,\\psi_0\\Bigr]\\,dV\n",
    "=\\bigl\\langle\\psi_0\\big|\\,-\\tfrac12\\Delta+V\\,\\big|\\psi_0\\bigr\\rangle,\n",
    "$$  \n",
    "\n",
    "und der Nenner lautet  \n",
    "\n",
    "$$\n",
    "\\mathcal D(\\zeta)=\\int\\!\\psi_0^2\\,dV=\\langle\\psi_0|\\psi_0\\rangle. \n",
    "$$  \n",
    "\n",
    "Damit ergibt sich die Energie:\n",
    "\n",
    "$$\n",
    "E(\\zeta)=\\frac{\\mathcal N(\\zeta)}{\\mathcal D(\\zeta)}.\n",
    "$$  \n"
   ]
  },
  {
   "cell_type": "code",
   "execution_count": 4,
   "id": "3a9098e1",
   "metadata": {},
   "outputs": [],
   "source": [
    "import sympy as sp\n",
    "from sympy import oo\n",
    "\n",
    "# symbols\n",
    "r1, theta1, phi1 = sp.symbols('r1 theta1 phi1', real=True, positive=True)\n",
    "r2, theta2, phi2 = sp.symbols('r2 theta2 phi2', real=True, positive=True)\n",
    "zeta = sp.symbols('zeta', real=True, positive=True)\n",
    "gamma = sp.symbols('gamma', real=True) \n",
    "s,t,u = sp.symbols('s t u', real=True, positive=True)\n",
    "k,l,m,n,o,p = sp.symbols('k l m n o p', integer = True, positive = True)\n",
    "\n",
    "\n",
    "def integral(expr):\n",
    "    I1 = sp.integrate(expr * u*(s**2 - t**2), (t, -u, u)) \n",
    "    I2 = sp.integrate(I1, (u, 0, s))\n",
    "    I3 = sp.integrate(I2, (s, 0, oo))\n",
    "    return I3\n",
    "\n",
    "def grad_stu(psi):\n",
    "    A = psi.diff(u)\n",
    "    B = psi.diff(s) + psi.diff(t)\n",
    "    C = 2*(s*t + u**2)/((s+t)*u)   \n",
    "    D = A**2 + B**2 + C*A*B\n",
    "    D = D + D.subs(t,-t)\n",
    "    return sp.simplify(D)"
   ]
  },
  {
   "cell_type": "code",
   "execution_count": 6,
   "id": "046a72d2",
   "metadata": {},
   "outputs": [
    {
     "name": "stdout",
     "output_type": "stream",
     "text": [
      "E(zeta) = zeta*(8*zeta - 27)/8\n"
     ]
    },
    {
     "data": {
      "image/png": "[encoded data removed]",
      "text/plain": [
       "<Figure size 640x480 with 1 Axes>"
      ]
     },
     "metadata": {},
     "output_type": "display_data"
    },
    {
     "data": {
      "text/plain": [
       "<sympy.plotting.plot.Plot at 0x113eac8e0>"
      ]
     },
     "execution_count": 6,
     "metadata": {},
     "output_type": "execute_result"
    }
   ],
   "source": [
    "psi_stu = [sp.exp(-zeta*s)]\n",
    "\n",
    "D_psi= [sp.simplify(grad_stu(psi_i)) for psi_i in psi_stu]\n",
    "\n",
    "def V(expr):\n",
    "    return (1/u - 4/(s+t) - 4/(s-t)) * expr\n",
    "\n",
    "num = sp.simplify(integral(((D_psi[0])/2 + psi_stu[0]*V(psi_stu[0]))))\n",
    "\n",
    "den = sp.simplify(integral(psi_stu[0]**2))\n",
    "E = sp.simplify(num/den)\n",
    "print(\"E(zeta) =\", E)\n",
    "\n",
    "sp.plot(E, xlim = (0,2),ylim = (-3,0), line_color=3.0)"
   ]
  },
  {
   "cell_type": "markdown",
   "id": "db3269e4",
   "metadata": {},
   "source": [
    "### Minimize energy\n"
   ]
  },
  {
   "cell_type": "code",
   "execution_count": 9,
   "id": "317c3b05",
   "metadata": {},
   "outputs": [],
   "source": [
    "zeta_min = sp.solve(sp.Eq(E.diff(zeta),0),zeta)\n",
    "E = E.subs(zeta,zeta_min[0])"
   ]
  },
  {
   "cell_type": "code",
   "execution_count": 10,
   "id": "21b2c56f",
   "metadata": {},
   "outputs": [
    {
     "name": "stdout",
     "output_type": "stream",
     "text": [
      "Minimal energy = -2.84765625 E_H\n"
     ]
    }
   ],
   "source": [
    "print(f\"Minimal energy = {float(E)} E_H\")"
   ]
  },
  {
   "cell_type": "code",
   "execution_count": 11,
   "id": "967ab110",
   "metadata": {},
   "outputs": [
    {
     "name": "stdout",
     "output_type": "stream",
     "text": [
      "Relative error: -1.91946862260466\n"
     ]
    }
   ],
   "source": [
    "E_exp = -2.90338583\n",
    "print(\"Relative error:\" ,100.*(E-E_exp)/E_exp)"
   ]
  },
  {
   "cell_type": "markdown",
   "id": "87716546",
   "metadata": {},
   "source": [
    "## Ergebnis und physikalische Bedeutung\n",
    "\n",
    "Bereits der einfachste Ansatz $\\Psi = e^{-\\zeta s}(1+\\gamma u)$ erfasst den Großteil der Elektronenkorrelationsenergie.  \n",
    "Während der unkorrelierte Hartree‐Wert etwa\n",
    "\n",
    "$$\n",
    "E_\\text{Hartree} \\approx -2.85\\,\\text{a.u.}\n",
    "$$\n",
    "\n",
    "beträgt, ergibt die Hylleraas‐Funktion bereits\n",
    "\n",
    "$$\n",
    "E_\\text{Hylleraas} \\approx -2.90\\,\\text{a.u.},\n",
    "$$\n",
    "\n",
    "was fast die gesamte Abweichung vom exakten Wert ($E_\\text{exakt} = -2.9037$ a.u.) erklärt.  \n",
    "Damit demonstriert die Hylleraas‐Methode eindrucksvoll, dass die **explizite Einbeziehung von $r_{12}$** die korrelierte Bewegung der Elektronen korrekt beschreibt und den Energiefehler drastisch reduziert. Sie bildet den konzeptionellen Ausgangspunkt moderner **$r_{12}$‐ und F12‐Methoden**, die bis heute in der quantenchemischen Behandlung elektronischer Korrelation eine zentrale Rolle spielen."
   ]
  },
  {
   "cell_type": "markdown",
   "id": "b04c78a8",
   "metadata": {},
   "source": [
    "## Fully general Hylleraas calculation"
   ]
  },
  {
   "cell_type": "code",
   "execution_count": 47,
   "id": "1ca59ac6",
   "metadata": {},
   "outputs": [],
   "source": [
    "s,t,u = sp.symbols('s t u', real = True)\n",
    "zeta = sp.symbols('zeta', real = True, positive = True)\n",
    "k,l,m,n,o,p = sp.symbols('k l m n o p', real = True, positive = True)"
   ]
  },
  {
   "cell_type": "code",
   "execution_count": 48,
   "id": "f206763b",
   "metadata": {},
   "outputs": [],
   "source": [
    "def grad_stu_ij(psi_i, psi_j):\n",
    "    Ai = sp.diff(psi_i, u)\n",
    "    Bi = sp.diff(psi_i, s) + sp.diff(psi_i, t)\n",
    "    Aj = sp.diff(psi_j, u)\n",
    "    Bj = sp.diff(psi_j, s) + sp.diff(psi_j, t)\n",
    "    C = 2*(s*t + u**2)/((s + t)*u)\n",
    "    G = Ai*Aj + Bi*Bj + sp.Rational(1,2)*C*(Ai*Bj + Aj*Bi)\n",
    "    Gsym = sp.simplify(G + G.subs(t, -t))\n",
    "    return Gsym\n",
    "\n",
    "def integral(expr):\n",
    "    I1 = sp.integrate(expr * u*(s**2 - t**2), (t, -u, u)) \n",
    "    I2 = sp.integrate(I1, (u, 0, s))\n",
    "    I3 = sp.integrate(I2, (s, 0, oo))\n",
    "    return I3\n",
    "\n",
    "def V(psi):\n",
    "    return (1/u - 4/(s+t) - 4/(s-t)) * psi"
   ]
  },
  {
   "cell_type": "code",
   "execution_count": 49,
   "id": "c59210d7",
   "metadata": {},
   "outputs": [],
   "source": [
    "psi0 = sp.exp(-zeta*s)\n",
    "#psi = [psi0, psi0*u, psi0*t**2, \n",
    "#       psi0*s, psi0*s**2, psi0*u**2, \n",
    "#       psi0*u*s, psi0*t**2*u, psi0*u**3, psi0*t**2*u**2 ]\n",
    "psi = [psi0, psi0*u]"
   ]
  },
  {
   "cell_type": "code",
   "execution_count": 50,
   "id": "92f0e188",
   "metadata": {},
   "outputs": [],
   "source": [
    "def V(expr):\n",
    "    return (1/u - 4/(s+t) - 4/(s-t)) * expr"
   ]
  },
  {
   "cell_type": "code",
   "execution_count": 51,
   "id": "3ecb01c4",
   "metadata": {},
   "outputs": [
    {
     "data": {
      "text/latex": [
       "$\\displaystyle \\frac{311 E^{2} - 810 E \\zeta^{2} + 1952 E \\zeta + 399 \\zeta^{4} - 2304 \\zeta^{3} + 2846 \\zeta^{2}}{256 \\zeta^{14}}$"
      ],
      "text/plain": [
       "(311*E**2 - 810*E*zeta**2 + 1952*E*zeta + 399*zeta**4 - 2304*zeta**3 + 2846*zeta**2)/(256*zeta**14)"
      ]
     },
     "execution_count": 51,
     "metadata": {},
     "output_type": "execute_result"
    }
   ],
   "source": [
    "N = len(psi)\n",
    "H = sp.zeros(N,N)\n",
    "S = sp.zeros(N,N)\n",
    "\n",
    "for i in range(N):\n",
    "    for j in range(N):\n",
    "        S[i, j] = integral(psi[i] * psi[j])\n",
    "        Tij = integral(grad_stu_ij(psi[i],psi[j])/2)\n",
    "        Vij = integral(psi[i]*V(psi[j]))\n",
    "        H[i, j] = Tij + Vij\n",
    "\n",
    "E = sp.symbols('E', real = True)\n",
    "detH = (H-E*S).det()\n",
    "detH"
   ]
  },
  {
   "cell_type": "code",
   "execution_count": 52,
   "id": "be95cb5f",
   "metadata": {},
   "outputs": [],
   "source": [
    "eqn = sp.Eq(Hmat.det(),0)\n",
    "sol = sp.solve(eqn,E)"
   ]
  },
  {
   "cell_type": "code",
   "execution_count": 53,
   "id": "a31628ed",
   "metadata": {},
   "outputs": [],
   "source": [
    "zeta_min = sp.nsolve(sp.diff(sol[0], zeta), .5) \n",
    "E_Hylleraas_2 = sol[0].subs(zeta,zeta_min)"
   ]
  },
  {
   "cell_type": "code",
   "execution_count": 54,
   "id": "7c7bab56",
   "metadata": {},
   "outputs": [
    {
     "name": "stdout",
     "output_type": "stream",
     "text": [
      "Experimental Energy = -2.90372438 Hartree\n",
      "Theoretical (2-term Hylleraas) = -2.89112071679167 Hartree\n",
      "Relative error = 0.434051637102224 Percent\n"
     ]
    }
   ],
   "source": [
    "E_exp = -2.90372438\n",
    "Delta_E = E_Hylleraas_2 - E_exp\n",
    "rel_error = (abs(Delta_E)/abs(E_exp))*100.\n",
    "print(f\"Experimental Energy = {E_exp} Hartree\")\n",
    "print(f\"Theoretical (2-term Hylleraas) = {E_Hylleraas_2} Hartree\")\n",
    "print(f\"Relative error = {rel_error} Percent\")"
   ]
  },
  {
   "cell_type": "code",
   "execution_count": 56,
   "id": "a9b3a933",
   "metadata": {},
   "outputs": [
    {
     "name": "stdout",
     "output_type": "stream",
     "text": [
      "Matrix([[-E/zeta**6 + zeta**(-4) - 27/(8*zeta**5), -35*E/(16*zeta**7) + 25/(16*zeta**5) - 13/(2*zeta**6), -3*E/(2*zeta**8) + 3/(2*zeta**6) - 87/(16*zeta**7), -3*E/zeta**7 + 2/zeta**5 - 135/(16*zeta**6), -21*E/(2*zeta**8) + 9/(2*zeta**6) - 405/(16*zeta**7), -6*E/zeta**8 + 3/zeta**6 - 253/(16*zeta**7), -245*E/(32*zeta**8) + 115/(32*zeta**6) - 39/(2*zeta**7), -77*E/(16*zeta**9) + 63/(16*zeta**7) - 16/zeta**8, -315*E/(16*zeta**9) + 105/(16*zeta**7) - 93/(2*zeta**8), -18*E/zeta**10 + 12/zeta**8 - 883/(16*zeta**9)], [-35*E/(16*zeta**7) + 25/(16*zeta**5) - 13/(2*zeta**6), -6*E/zeta**8 + 4/zeta**6 - 253/(16*zeta**7), -77*E/(16*zeta**9) + 73/(16*zeta**7) - 16/zeta**8, -245*E/(32*zeta**8) + 135/(32*zeta**6) - 39/(2*zeta**7), -245*E/(8*zeta**9) + 25/(2*zeta**7) - 273/(4*zeta**8), -315*E/(16*zeta**9) + 175/(16*zeta**7) - 93/(2*zeta**8), -24*E/zeta**9 + 12/zeta**7 - 1771/(32*zeta**8), -18*E/zeta**10 + 15/zeta**8 - 883/(16*zeta**9), -75*E/zeta**10 + 33/zeta**8 - 2565/(16*zeta**9), -2457*E/(32*zeta**11) + 1771/(32*zeta**9) - 873/(4*zeta**10)], [-3*E/(2*zeta**8) + 3/(2*zeta**6) - 87/(16*zeta**7), -77*E/(16*zeta**9) + 73/(16*zeta**7) - 16/zeta**8, -9*E/zeta**10 + 15/zeta**8 - 537/(16*zeta**9), -6*E/zeta**9 + 9/(2*zeta**7) - 609/(32*zeta**8), -27*E/zeta**10 + 15/zeta**8 - 609/(8*zeta**9), -18*E/zeta**10 + 15/zeta**8 - 883/(16*zeta**9), -693*E/(32*zeta**10) + 497/(32*zeta**8) - 64/zeta**9, -1215*E/(32*zeta**11) + 1753/(32*zeta**9) - 531/(4*zeta**10), -2457*E/(32*zeta**11) + 1743/(32*zeta**9) - 873/(4*zeta**10), -180*E/zeta**12 + 225/zeta**10 - 18945/(32*zeta**11)], [-3*E/zeta**7 + 2/zeta**5 - 135/(16*zeta**6), -245*E/(32*zeta**8) + 135/(32*zeta**6) - 39/(2*zeta**7), -6*E/zeta**9 + 9/(2*zeta**7) - 609/(32*zeta**8), -21*E/(2*zeta**8) + 11/(2*zeta**6) - 405/(16*zeta**7), -42*E/zeta**9 + 33/(2*zeta**7) - 2835/(32*zeta**8), -24*E/zeta**9 + 21/(2*zeta**7) - 1771/(32*zeta**8), -245*E/(8*zeta**9) + 205/(16*zeta**7) - 273/(4*zeta**8), -693*E/(32*zeta**10) + 455/(32*zeta**8) - 64/zeta**9, -2835*E/(32*zeta**10) + 945/(32*zeta**8) - 186/zeta**9, -90*E/zeta**11 + 51/zeta**9 - 7947/(32*zeta**10)], [-21*E/(2*zeta**8) + 9/(2*zeta**6) - 405/(16*zeta**7), -245*E/(8*zeta**9) + 25/(2*zeta**7) - 273/(4*zeta**8), -27*E/zeta**10 + 15/zeta**8 - 609/(8*zeta**9), -42*E/zeta**9 + 33/(2*zeta**7) - 2835/(32*zeta**8), -189*E/zeta**10 + 63/zeta**8 - 2835/(8*zeta**9), -108*E/zeta**10 + 39/zeta**8 - 1771/(8*zeta**9), -2205*E/(16*zeta**10) + 385/(8*zeta**8) - 273/zeta**9, -3465*E/(32*zeta**11) + 1799/(32*zeta**9) - 288/zeta**10, -14175*E/(32*zeta**11) + 4305/(32*zeta**9) - 837/zeta**10, -495*E/zeta**12 + 234/zeta**10 - 39735/(32*zeta**11)], [-6*E/zeta**8 + 3/zeta**6 - 253/(16*zeta**7), -315*E/(16*zeta**9) + 175/(16*zeta**7) - 93/(2*zeta**8), -18*E/zeta**10 + 15/zeta**8 - 883/(16*zeta**9), -24*E/zeta**9 + 21/(2*zeta**7) - 1771/(32*zeta**8), -108*E/zeta**10 + 39/zeta**8 - 1771/(8*zeta**9), -75*E/zeta**10 + 39/zeta**8 - 2565/(16*zeta**9), -2835*E/(32*zeta**10) + 1295/(32*zeta**8) - 186/zeta**9, -2457*E/(32*zeta**11) + 1911/(32*zeta**9) - 873/(4*zeta**10), -10395*E/(32*zeta**11) + 4725/(32*zeta**9) - 2535/(4*zeta**10), -735*E/(2*zeta**12) + 519/(2*zeta**10) - 31143/(32*zeta**11)], [-245*E/(32*zeta**8) + 115/(32*zeta**6) - 39/(2*zeta**7), -24*E/zeta**9 + 12/zeta**7 - 1771/(32*zeta**8), -693*E/(32*zeta**10) + 497/(32*zeta**8) - 64/zeta**9, -245*E/(8*zeta**9) + 205/(16*zeta**7) - 273/(4*zeta**8), -2205*E/(16*zeta**10) + 385/(8*zeta**8) - 273/zeta**9, -2835*E/(32*zeta**10) + 1295/(32*zeta**8) - 186/zeta**9, -108*E/zeta**10 + 45/zeta**8 - 1771/(8*zeta**9), -90*E/zeta**11 + 60/zeta**9 - 7947/(32*zeta**10), -375*E/zeta**11 + 147/zeta**9 - 23085/(32*zeta**10), -27027*E/(64*zeta**12) + 16317/(64*zeta**10) - 4365/(4*zeta**11)], [-77*E/(16*zeta**9) + 63/(16*zeta**7) - 16/zeta**8, -18*E/zeta**10 + 15/zeta**8 - 883/(16*zeta**9), -1215*E/(32*zeta**11) + 1753/(32*zeta**9) - 531/(4*zeta**10), -693*E/(32*zeta**10) + 455/(32*zeta**8) - 64/zeta**9, -3465*E/(32*zeta**11) + 1799/(32*zeta**9) - 288/zeta**10, -2457*E/(32*zeta**11) + 1911/(32*zeta**9) - 873/(4*zeta**10), -90*E/zeta**11 + 60/zeta**9 - 7947/(32*zeta**10), -180*E/zeta**12 + 234/zeta**10 - 18945/(32*zeta**11), -735*E/(2*zeta**12) + 513/(2*zeta**10) - 31143/(32*zeta**11), -15147*E/(16*zeta**13) + 17631/(16*zeta**11) - 5877/(2*zeta**12)], [-315*E/(16*zeta**9) + 105/(16*zeta**7) - 93/(2*zeta**8), -75*E/zeta**10 + 33/zeta**8 - 2565/(16*zeta**9), -2457*E/(32*zeta**11) + 1743/(32*zeta**9) - 873/(4*zeta**10), -2835*E/(32*zeta**10) + 945/(32*zeta**8) - 186/zeta**9, -14175*E/(32*zeta**11) + 4305/(32*zeta**9) - 837/zeta**10, -10395*E/(32*zeta**11) + 4725/(32*zeta**9) - 2535/(4*zeta**10), -375*E/zeta**11 + 147/zeta**9 - 23085/(32*zeta**10), -735*E/(2*zeta**12) + 513/(2*zeta**10) - 31143/(32*zeta**11), -1575*E/zeta**12 + 675/zeta**10 - 90405/(32*zeta**11), -31185*E/(16*zeta**13) + 20601/(16*zeta**11) - 4830/zeta**12], [-18*E/zeta**10 + 12/zeta**8 - 883/(16*zeta**9), -2457*E/(32*zeta**11) + 1771/(32*zeta**9) - 873/(4*zeta**10), -180*E/zeta**12 + 225/zeta**10 - 18945/(32*zeta**11), -90*E/zeta**11 + 51/zeta**9 - 7947/(32*zeta**10), -495*E/zeta**12 + 234/zeta**10 - 39735/(32*zeta**11), -735*E/(2*zeta**12) + 519/(2*zeta**10) - 31143/(32*zeta**11), -27027*E/(64*zeta**12) + 16317/(64*zeta**10) - 4365/(4*zeta**11), -15147*E/(16*zeta**13) + 17631/(16*zeta**11) - 5877/(2*zeta**12), -31185*E/(16*zeta**13) + 20601/(16*zeta**11) - 4830/zeta**12, -10935*E/(2*zeta**14) + 11715/(2*zeta**12) - 257013/(16*zeta**13)]])\n"
     ]
    }
   ],
   "source": [
    "psi = [psi0, psi0*u, psi0*t**2, \n",
    "       psi0*s, psi0*s**2, psi0*u**2, \n",
    "       psi0*u*s, psi0*t**2*u, psi0*u**3, psi0*t**2*u**2 ]\n",
    "N = len(psi)\n",
    "H = sp.zeros(N,N)\n",
    "S = sp.zeros(N,N)\n",
    "\n",
    "for i in range(N):\n",
    "    for j in range(N):\n",
    "        S[i, j] = integral(psi[i] * psi[j])\n",
    "        Tij = integral(grad_stu_ij(psi[i],psi[j])/2)\n",
    "        Vij = integral(psi[i]*V(psi[j]))\n",
    "        H[i, j] = Tij + Vij\n",
    "\n",
    "E = sp.symbols('E', real = True)\n",
    "H - E*S"
   ]
  },
  {
   "cell_type": "code",
   "execution_count": 60,
   "id": "38b1686b",
   "metadata": {},
   "outputs": [
    {
     "name": "stdout",
     "output_type": "stream",
     "text": [
      "zeta_min = 1.757763,  E_0 = -2.903602728537 Hartree\n"
     ]
    }
   ],
   "source": [
    "import numpy as np\n",
    "import sympy as sp\n",
    "from scipy.linalg import eigh\n",
    "from scipy.optimize import minimize_scalar\n",
    "\n",
    "H_fun = sp.lambdify(zeta, sp.Matrix(H), 'numpy')   # H aus deinem Code\n",
    "S_fun = sp.lambdify(zeta, sp.Matrix(S), 'numpy')   # S aus deinem Code\n",
    "\n",
    "def ground_energy(z):\n",
    "    H = np.array(H_fun(z), dtype=float)\n",
    "    S = np.array(S_fun(z), dtype=float)\n",
    "    w, _ = eigh(H, S)          \n",
    "    return w[0]                 \n",
    "# ζ-Optimierung (Grenzen ggf. anpassen)\n",
    "res = minimize_scalar(ground_energy, method='brent', bracket=(0.3, 3.0, 6.0))\n",
    "zeta_opt = res.x\n",
    "E0_opt   = res.fun\n",
    "\n",
    "print(f\"zeta_min = {zeta_opt:.6f},  E_0 = {E0_opt:.12f} Hartree\")\n"
   ]
  },
  {
   "cell_type": "code",
   "execution_count": 64,
   "id": "7cf22e1f",
   "metadata": {},
   "outputs": [
    {
     "name": "stdout",
     "output_type": "stream",
     "text": [
      "Experimental Energy = -2.90372438 Hartree\n",
      "10-term Hylleraas expansion = -2.903602728537056 Hartree\n",
      "Relative error = 0.004189497590817224 Percent\n"
     ]
    }
   ],
   "source": [
    "E_exp = -2.90372438\n",
    "Delta_E = E0_opt - E_exp\n",
    "rel_error = (abs(Delta_E)/abs(E_exp))*100.\n",
    "print(f\"Experimental Energy = {E_exp} Hartree\")\n",
    "print(f\"10-term Hylleraas expansion = {E0_opt} Hartree\")\n",
    "print(f\"Relative error = {rel_error} Percent\")"
   ]
  },
  {
   "cell_type": "code",
   "execution_count": null,
   "id": "3ea4f2fe",
   "metadata": {},
   "outputs": [],
   "source": []
  }
 ],
 "metadata": {
  "kernelspec": {
   "display_name": "Python 3 (ipykernel)",
   "language": "python",
   "name": "python3"
  },
  "language_info": {
   "codemirror_mode": {
    "name": "ipython",
    "version": 3
   },
   "file_extension": ".py",
   "mimetype": "text/x-python",
   "name": "python",
   "nbconvert_exporter": "python",
   "pygments_lexer": "ipython3",
   "version": "3.10.9"
  }
 },
 "nbformat": 4,
 "nbformat_minor": 5
}
