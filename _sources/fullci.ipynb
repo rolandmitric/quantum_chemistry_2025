{
 "cells": [
  {
   "cell_type": "markdown",
   "id": "dc378ddc",
   "metadata": {
    "slideshow": {
     "slide_type": "slide"
    }
   },
   "source": [
    "## Konfigurationswe"
   ]
  },
  {
   "cell_type": "code",
   "execution_count": 1,
   "id": "ec74f8d6",
   "metadata": {
    "slideshow": {
     "slide_type": "skip"
    }
   },
   "outputs": [
    {
     "name": "stdout",
     "output_type": "stream",
     "text": [
      "Notebook initialized with ipy backend.\n"
     ]
    }
   ],
   "source": [
    "import numpy as np\n",
    "import matplotlib.pyplot as plt\n",
    "import matplotlib\n",
    "matplotlib.rcParams['axes.linewidth'] = 2.\n",
    "matplotlib.rcParams['axes.grid'] = False\n",
    "matplotlib.rcParams['axes.labelsize'] = 12\n",
    "matplotlib.rcParams['figure.figsize'] = [6, 5]\n",
    "matplotlib.rcParams['animation.embed_limit'] = 1000\n",
    "matplotlib.rcParams['text.usetex'] =  False\n",
    "matplotlib.rcParams[\"font.family\"] =  \"sans-serif\",\n",
    "matplotlib.rcParams[\"font.sans-serif\"] = [\"Times\"]\n",
    "%matplotlib inline\n",
    "import sympy as sp\n",
    "from mayavi import mlab\n",
    "mlab.init_notebook()\n",
    "fig = mlab.figure( size=(600, 400))\n"
   ]
  },
  {
   "cell_type": "markdown",
   "id": "64547e89",
   "metadata": {
    "slideshow": {
     "slide_type": "slide"
    }
   },
   "source": [
    "# Das Hartree-Fock-Verfahren "
   ]
  },
  {
   "cell_type": "markdown",
   "id": "bed6e3ef",
   "metadata": {
    "slideshow": {
     "slide_type": "slide"
    }
   },
   "source": [
    "Wir haben gesehen, dass der Grundzustand eines Systems aus zwei nichtwechselwirkenden Elektronen unter Berücksichtung des Pauli-Prinzips <u> exakt </u> in Form einer $2 \\times 2$-Determinante ausgedrückt werden kann\n",
    "\n",
    "$$\n",
    "|\\psi(1,2)\\rangle=\\frac{1}{\\sqrt{2}}\\left|\\begin{array}{ll}\n",
    "\\chi_i(1) & \\chi_j(1) \\\\\n",
    "\\chi_i(2) & \\chi_j(2)\n",
    "\\end{array}\\right|=\\frac{1}{\\sqrt{2}}\\left(\\chi_i(1) \\chi_j(2)-\\chi_j(1) \\chi_i(2)\\right)\n",
    "$$\n",
    "\n",
    "$\\chi_i$, und $\\chi_j$ sind dabei zwei 1-Elektron-Spinorbitale, die man im Allgemeinen als Produkt einer Raum- und einer Spin-Wellenfunktion schreiben kann:\n",
    "\n",
    "$$\n",
    "\\chi_i(1)=\\varphi_i(1) \\sigma(1)\n",
    "$$\n",
    "\n",
    "Alle solchen Determinanten, die man durch Besetzung von Paaren von Spinorbitalen konstruieren kann, bilden eine Basis des Vektorraums eines Zweielektronensystems, so dass man den <u> exakten Energieeigenzustand </u> eines Zweielektronensystems in die Basis aller möglichen Determinanten entwickeln kann:\n",
    "\n",
    "$$\n",
    "\\psi_{FCI}(1,2)=\\sum_i \\sum_{j>i} c_{i j}\\left|\\chi_i(1) \\chi_j(2)\\right\\rangle\n",
    "$$"
   ]
  },
  {
   "cell_type": "markdown",
   "id": "82eb461d",
   "metadata": {
    "slideshow": {
     "slide_type": "slide"
    }
   },
   "source": [
    "Eine solche Wellenfunktion bezeichnet man als Konfigurationswechselwirkungs-Wellenfunktion (engl. \"Configuration Interaction\"). Wenn man alle möglichen Konfigurationen betrachtet, spricht man von der sogenannten \"Full-CI\"-Entwicklung, die für eine gegebene Wahl der Einelektron-Basis das exakte Ergebnis liefert.\n",
    "\n",
    "Diese Beobachtungen werden im Folgenden auf $N$-Elektronensysteme verallgemeinert.\n",
    "\n",
    "Die obere Zweielektronen-Determinante können wir formal auch so ausdrücken:\n",
    "\n",
    "$$\n",
    "\\begin{aligned}\n",
    "|\\psi(1,2)\\rangle & =\\frac{1}{\\sqrt{2}}\\left(\\chi_1(1) \\chi_2(2)-\\chi_2(1) \\chi_1(2)\\right) \\\\\n",
    "& =\\frac{1}{\\sqrt{2}}\\left(\\chi_1(1) \\chi_2(2)+(-1) P_{12} \\chi_1(1) \\chi_2(2)\\right) \\\\\n",
    "& =\\frac{1}{\\sqrt{2}} \\sum_{p \\in S_{12}}(-1)^{\\sigma(p)} \\chi_{p(1)}(1) \\chi_{p(2)}(2)\n",
    "\\end{aligned}\n",
    "$$\n",
    "\n",
    "Dabei haben wir den zweiten Term durch die Einführung des Permutationsoperators $P_{12}$ umgeformt. Die Summe kann nun formal als Summe über alle Permutationen der Menge $\\{1,2\\}$ ausgedrückt werden. \n",
    "Jeder Term wird dabei mit dem Faktor $(-1)^{\\sigma(P)}$ multipliziert. Diesen Faktor bezeichnet man als die Parität der Permutation, wobei ${\\sigma(P)}$ die Anzahl der Vertauschungen von Paaren darstellt, die man vornehmen muss, um eine bestimmte Permutation zu generieren. "
   ]
  },
  {
   "cell_type": "markdown",
   "id": "0f538ecd",
   "metadata": {
    "slideshow": {
     "slide_type": "slide"
    }
   },
   "source": [
    "Da es für zwei lndizes aus der Menge $\\{1,2\\}$ nur zwei mögliche Permutationen gibt, gilt:\n",
    "\n",
    "$$\n",
    "\\begin{aligned}\n",
    "& I=\\left(\\begin{array}{ll}\n",
    "1 & 2 \\\\\n",
    "1 & 2\n",
    "\\end{array}\\right) \\Rightarrow \\sigma(I)=0 \\\\\n",
    "& P_{12}=\\left(\\begin{array}{ll}\n",
    "1 & 2 \\\\\n",
    "2 & 1\n",
    "\\end{array}\\right) \\Rightarrow \\sigma\\left(P_{12}\\right)=1\n",
    "\\end{aligned}\n",
    "$$"
   ]
  },
  {
   "cell_type": "markdown",
   "id": "9af37295",
   "metadata": {
    "slideshow": {
     "slide_type": "slide"
    }
   },
   "source": [
    "<h1> Slater-Determinante für ein $N$-Elektronensystem </h1>\n",
    "\n",
    "Die obigen Betrachtungen kann man nun direkt auf $N$ Elektronen verallgemainern. Damit bekommen wir die Definition einer N-Elektron-Determinante, die man als Slater-Determinante bezeichnet:\n",
    "\n",
    "$$\n",
    "\\left|\\psi_{S D}(1,2, \\ldots N)\\right\\rangle=\\frac{1}{\\sqrt{N !}} \\cdot \\sum_{P \\in S_n}(-1)^{\\sigma(P)} \\chi_{P(1)}(1) \\chi_{P(2)}(2) \\cdots \\chi_{P(N)}(N)\n",
    "$$\n",
    "\n",
    "Die Summe erstreckt sich dabei über alle Permutationen der Indizes aus der Menge $\\{1,2, \\ldots, N\\}$. Da es insgesamt $N!$ solche Permutationen gibt, enthält die Summe $N!$ Terme. Unter der Annahme, dass die Einelektron-Basiszustände normiert sind, bekommen wir $\\left(1 / \\sqrt{N!}\\right)$ als Normierungsfaktor."
   ]
  },
  {
   "cell_type": "markdown",
   "id": "fcb17f12",
   "metadata": {
    "slideshow": {
     "slide_type": "slide"
    }
   },
   "source": [
    "<h1> Full-CI-Wellenfunktion eines $N$-Elektronensystems </h1>\n",
    "\n",
    "Analog zum Fall von zwei Elektronen lässt sich die <u> exakte </u> Wellenfunktion eines N-Elektronensystems als Linearkombination aller möglichen Slater-Determinanten entwickeln, die man ausgehend von einer Einelektronbasis konstruieren kann:\n",
    "\n",
    "$$\n",
    "\\left|\\psi_{F C I}(1,2, \\ldots N)\\right\\rangle=\\sum_i \\sum_{j>i} \\ldots C_{i j k \\ldots \\ldots}\\left|\\chi_i(1) \\chi_j(2) \\chi_k(3) \\cdots \\chi_n(N)\\right\\rangle\n",
    "$$\n",
    "\n",
    "Die Anzahl der Konfigurationen ist dabei $\\left(\\begin{array}{c}N_{\\text {Basis }} \\\\ N\\end{array}\\right)$. Dies wächst sehr schnell mit der Anzahl der Basisfunktionen und der Elektronen, so dass man exakte Full-CI-Rechnungen praktisch nur für sehr kleine Systeme praktisch durchführen kann $(N \\sim 10)$.\n",
    "Wir sind also gezwungen, auf Näherungen zurückzugreifen!\n",
    "Was ist der einfachste mögliche Ansatz für die Beschreibung eines wechselwirkenden N-Elektronensystems?\n"
   ]
  },
  {
   "cell_type": "markdown",
   "id": "b311d4e2",
   "metadata": {
    "slideshow": {
     "slide_type": "slide"
    }
   },
   "source": [
    "Den einfachsten möglichen Ansatz für die Wellenfunktion eines $N$-Elektronensystems erhalten wir, indem wir die exakte Full-CI-Wellenfunktion auf eine einzige Determinante reduzieren:\n",
    "\n",
    "$$\n",
    "\\begin{aligned}\n",
    "& \\left|\\psi_{F C I}(1,2, \\cdots N)\\right\\rangle=\\sum_{i, j, k \\ldots} C_{i j k \\cdots \\cdots}\\left|\\chi_i(1) \\chi_j(2) \\cdots \\chi_n(N)\\right\\rangle \\\\\n",
    "& \\left|\\psi_{H F}(1,2, \\cdots, N)\\right\\rangle=\\left|\\chi_1(1) \\chi_2(2) \\ldots \\chi_n(N)\\right\\rangle=\\frac{1}{\\sqrt{N !}}\\left|\\begin{array}{cccc}\n",
    "\\chi_1(1) & \\chi_2(1) & \\cdots & \\chi_n(1) \\\\\n",
    "\\chi_1(2) & \\chi_2(2) & \\cdots & \\chi_n(2) \\\\\n",
    "\\vdots & \\vdots & & \\vdots \\\\\n",
    "\\chi_1(N) & \\chi_2(N) & \\cdots & \\chi_n(N)\n",
    "\\end{array}\\right|\n",
    "\\end{aligned}\n",
    "$$\n",
    "\n",
    "Während die Ergebnisse einer Full-Cl-Rechnung exakt und damit auch unabhängig von der Wahl der Einelektronbasis sind, hängt das Ergebnis bei Verwendung nur einer Determinante von der Basis ab. Das Ziel ist also die ''beste'' Einelektronbasis zu konstruieren! Dies kann man mit Hilfe des Variationsprinzips erreichen. \n",
    "Die optimalen Basisfunktionen bestimmen wir, indem wir die Energie der Slaterdeterminante minimieren. Dabei müssen wir die Orthogonalität der Orbitale als Nebenbedingung berücksichtigen.\n",
    "\n",
    "Die so definierte Näherung wird als Hartree-Fock-Verfahren bezeichnet."
   ]
  },
  {
   "cell_type": "markdown",
   "id": "a5a25dd8",
   "metadata": {
    "slideshow": {
     "slide_type": "slide"
    }
   },
   "source": [
    "<h1> Berechnung der Energie einer Slater-Determinante </h1>\n",
    "\n",
    "Damit wir die Hartree-Fock-Energie in Bezug auf die Variation der Einelektron-Spinorbitale variieren können, müssen wir zunächst in der Lage sein, die Energie einer beliebig besetzten Slater-Determinante allgemein zu berechnen. Die Hartree-Fock-Energie ergibt sich als der Erwartungswert des exakten Hamilton-Operators mit dem Hartree-Fock-Ansatz für die Wellenfunktion.\n",
    "\n",
    "\n",
    "$$\n",
    "E_{H F}=\\left\\langle\\psi_{H F}(1,2, \\ldots N)|\\hat{H}| \\psi_{H F}(1,2, \\ldots N)\\right\\rangle\n",
    "$$\n",
    "\n",
    "Der Hamilton-Operator $\\hat{H}$ eines N-Elektronensystems hat die folgende allgemeine Form:\n",
    "\n",
    "$$\n",
    "\\hat{H}=\\sum_{i=1}^N \\hat{h}(i)+\\sum_{i=1}^N \\sum_{j>i} \\frac{1}{r_{i j}}\n",
    "$$\n",
    "\n",
    "$\\hat{h}(i)$ ist dabei die Abkürzung für den 1-Elektron Operator, der die kinetische Energie eines Elektrons und das externe Einelektron-Potenzial (z. B. Kern-Elektron-Wechselwirkung) enthält:\n",
    " \n",
    "\n",
    "$$\n",
    " \\hat{h}(i)=-\\frac{1}{2} \\nabla_i^2+V_{n e}(i)\n",
    "$$\n",
    "\n",
    "Die HF - Energie kann man also wie folgt ausdrücken:\n",
    "\n",
    "\n",
    "\\begin{aligned}\n",
    "E_{H F} & =\\left\\langle\\psi_{H F}(1,2, \\ldots N)\\left|\\sum_i \\hat{h}(i)+\\sum_i \\sum_{j>i} \\frac{1}{r_{i j}}\\right| \\psi_{H F}(1,2, \\ldots N)\\right\\rangle \\\\\n",
    "& =\\underbrace{\\sum_{i=1}^N\\left\\langle\\psi_{H F}(1,2, \\ldots, N)|h(i)| \\psi_{H F}(1,2, \\ldots N)\\right\\rangle}_{\\text {1el. Terme }}+\\underbrace{\\sum_i\\sum_{j>i} \\left\\langle\\psi_{H F}(1,2, \\ldots, N)\\left|\\frac{1}{r_{i j}}\\right| \\psi_{HF}(1,2, \\ldots N)\\right\\rangle}_{\\text {2el. Terme}}\n",
    "\\end{aligned}\n"
   ]
  },
  {
   "cell_type": "markdown",
   "id": "c7ff2d58",
   "metadata": {
    "slideshow": {
     "slide_type": "slide"
    }
   },
   "source": [
    "Die Einelektron- und Zweielektron-Terme berechnen wir im folgenden einzeln:\n",
    "\n",
    "$$\n",
    "\\begin{aligned}\n",
    "\\sum_{i=1}^N\\left\\langle\\psi_{H F}(1,2, \\ldots N)|h(i)| \\psi_{H F}(1,2, \\ldots N)\\right\\rangle= & \\left\\langle\\psi_{H F}(1,2, \\ldots N)|h(1)| \\psi_{H F}(1,2, \\ldots N)\\right\\rangle \\\\\n",
    "& +\\left\\langle\\psi_{H F}(1,2, \\ldots N)|h(2)| \\psi_{H F}(1,2, \\ldots N)\\right\\rangle \\\\\n",
    "& +\\cdots \\\\\n",
    "& +\\left\\langle\\psi_{H F}(1,2, \\ldots N)|h(N)| \\psi_{H F}(1,2, \\ldots N)\\right\\rangle\n",
    "\\end{aligned}\n",
    "$$\n",
    "\n",
    "Wir können nun in allen Termen mit $i>1$ die jeweiligen Indizes so umbenennen, dass:\n",
    "\n",
    "$$\n",
    "\\begin{aligned}\n",
    "& 1 \\rightarrow i \\\\\n",
    "& i \\rightarrow 1\n",
    "\\end{aligned}\n",
    "$$\n",
    "\n",
    "Damit kann man zeigen, dass die einzelnen Terme alle untereinander gleich sind. Speziell sind alle Terme in der Summe mit $i>1$ exakt gleich wie der erste Term mit $i=1$. "
   ]
  },
  {
   "cell_type": "markdown",
   "id": "c95c0778",
   "metadata": {
    "slideshow": {
     "slide_type": "slide"
    }
   },
   "source": [
    "Der Einelektron-Beitrag zur Energie sieht also wie folgt aus: \n",
    "\n",
    "$$\\sum_{i=1}^N\\left\\langle\\psi_{H F}(1,2, \\ldots N)|h(i)| \\psi_{H F}(1,2, \\ldots N)\\right\\rangle =  N\\left\\langle\\psi_{H F}(1,2, \\cdots N)|h(1)| \\psi_{HF}(1,2, \\cdots N)\\right\\rangle$$\n",
    "\n",
    "\n",
    "\n",
    "Wie sieht der Zweielektronen-Beitrag aus?\n",
    "\n",
    "\n",
    "$$\n",
    "\\begin{aligned}\n",
    "\\sum_i \\sum_{j>i}\\left\\langle\\psi_{H F}(1,2, \\ldots N)\\left|\\frac{1}{r_{12}}\\right| \\psi_{H F}(1,2, \\ldots N)\\right\\rangle & =\\left\\langle\\psi_{H F}(1,2, \\ldots N)\\left|\\frac{1}{r_{12}}\\right| \\psi_{H F}(1,2, \\ldots N)\\right\\rangle \\\\\n",
    "& +\\left\\langle\\psi_{H F}(1,2, \\ldots N)\\left|\\frac{1}{r_{13}}\\right| \\psi_{H F}(1,2, \\ldots N)\\right\\rangle \\\\\n",
    "& +\\cdots \\\\\n",
    "& +\\left\\langle\\psi_{H F}(1,2, \\ldots N)\\left|\\frac{1}{r_{N-1, N}}\\right| \\psi_{H F}(1,2, \\ldots N)\\right\\rangle\n",
    "\\end{aligned}\n",
    "$$\n",
    "\n",
    "Wir können nun den gleichen Trick anwenden, wie bei der Berechnung des Einelektron-Terms. Diesmal benennen wir jedes Paar von Variablen $i, j$ in dem entsprechenden Term $1 / r_{i j}$ in $1$ bzw. $2$ um. Dies hat den gleichen Effekt wie die  Vertauschung von Indizes in der $N$-Elektronen-Wellenfunktion $\\left|\\psi_{HF}\\right\\rangle$. Da aber die Vertauschung immer zweimal vorgenommen wird (im Bra- und im Ket-Teil), führt sie letzendlich zu keinem Vorzeichenwechsel. Wir erhalten also insgesamt, da es $\\frac{N(N-1)}{2}$ Paare von Elektronen gibt:\n",
    "\n",
    "$$\n",
    "\\sum_i \\sum_{j>i}\\left\\langle\\psi_{H F}(1,2, \\ldots N)\\left|\\frac{1}{r_{i j}}\\right| \\psi_{H F}(1,2, \\ldots N)\\right\\rangle=\\frac{N(N-1)}{2}\\left\\langle\\psi_{H F}(1,2, \\ldots, N)\\left|\\frac{1}{r_{12}}\\right| \\psi_{H F}(1,2, \\ldots N)\\right\\rangle\n",
    "$$"
   ]
  },
  {
   "cell_type": "markdown",
   "id": "29625b91",
   "metadata": {
    "slideshow": {
     "slide_type": "slide"
    }
   },
   "source": [
    "Mit diesen Vereinfachungen können wir nun die Hartree-Fock-Energie wie folgt ausdrücken:\n",
    "\n",
    "$$\n",
    "E_{H F}=N\\left\\langle\\psi_{H F}(1,2, \\cdots N)|h(1)| \\psi_{H F}(1,2, \\cdots N)\\right\\rangle+\\frac{N(N-1)}{2}\\left\\langle\\psi_{H F}(1,2, \\cdots N)\\left|\\frac{1}{r_{12}}\\right| \\psi_{H F}(1,2,\\cdots,N)\\right)\n",
    "$$\n",
    "\n",
    "Die einzelnen Beiträge können wir nun explizit berechnen, indem wir die Definition der Slater-Determinante einsetzen. Diese beinhaltet die Summierung über alle Permutationen der Indizes aus der Menge $\\{1,2,\\cdots,N\\}$:\n",
    "\n",
    "$$\n",
    "\\begin{aligned}\n",
    "& \\left\\langle\\psi_{H F}|h(1)| \\psi_{H F}\\right\\rangle=N \\cdot \\frac{1}{N !} \\sum_P \\sum_{P^{\\prime}}(-1)^{\\sigma(P)+\\sigma\\left(P^{\\prime}\\right)}\\left\\langle \\chi_{P(1)}(1) \\chi_{P(2)}(2) \\ldots|h(1)| \\chi_{P^{\\prime}(1)}(1) \\chi_{P^{\\prime}(2)}(2) \\ldots\\right\\rangle \\\\\n",
    "& =\\frac{1}{(N-1) !} \\sum_P \\sum_{P^\\prime}(-1)^{\\sigma(P)+\\sigma\\left(P^{\\prime}\\right)}\\left\\langle \\chi_{P(1)}|h(1)| \\chi_{P^{\\prime}(1)}\\right\\rangle_1\\left\\langle \\chi_{P(2)} \\mid \\chi_{P^{\\prime}(2)}\\right\\rangle_2 \\cdots \\left\\langle \\chi_{P(N)} \\mid \\chi_{P^{\\prime}(N)}\\right\\rangle_N \\\\\n",
    "&\n",
    "\\end{aligned}\n",
    "$$\n",
    "\n",
    "Wegen der Annahme, dass die Spinorbitale orthonormiert sind, bleiben in der oberen Doppelsumne nur solche Terme übrig, bei denen für die Permutationen $P$ und $P'$ folgende Relationen erfüllt sind: \n",
    "$$\n",
    "\\begin{aligned}\n",
    "P^{\\prime}(2) & =P(2) \\\\\n",
    "P^{\\prime}(3) & =P(3) \\\\\n",
    "\\vdots & \\\\\n",
    "P^{\\prime}(N) & =P(N)\n",
    "\\end{aligned}\n",
    "$$\n",
    "\n",
    "Die Werte von $P$ und $P'$ müssen also für alle Indizes von $2$ bis $N$ gleich sein. \n",
    "Daraus folgt aber automatisch, dass auch $ P^{\\prime}(1)=P(1)$. Daraus folgt, dass die Permutationen $P$ und $P'$ gleich sein müssen. "
   ]
  },
  {
   "cell_type": "markdown",
   "id": "8af430f2",
   "metadata": {
    "slideshow": {
     "slide_type": "slide"
    }
   },
   "source": [
    "Die Summen über $P$ und $P^{\\prime}$ reduzieren sich auf die Terme, bei denen $P^{\\prime}=P$. Das gibt uns für den 1el-Beitrag zur Energie:\n",
    "\n",
    "$$\n",
    "\\begin{aligned}\n",
    "N\\left\\langle\\psi_{H F}|h(1)| \\psi_{H F}\\right\\rangle & =\\frac{1}{(N-1) !} \\sum_P(-1)^{2 \\sigma(p)}\\left\\langle \\chi_{P(1)}|h(1)| \\chi_{P(1)}\\right\\rangle \\\\\n",
    "& =\\frac{1}{(N-1) !} \\sum_P\\left\\langle \\chi_{P(1)}|h(1)| \\chi_{P(1)}\\right\\rangle \\\\\n",
    "& =\\frac{1}{(N-1) !}\\left[\\left\\langle \\chi_1|h(1)| \\chi_1\\right\\rangle \\cdot(N-1) !+\\left\\langle \\chi_2|h(1)| \\chi_2\\right\\rangle(N-1) !+\\ldots\\right] \\\\\n",
    "& =\\sum_{i=1}^N\\left\\langle \\chi_i|h| \\chi_i\\right\\rangle\n",
    "\\end{aligned}\n",
    "$$\n",
    "\n",
    "Für den 2el-Term erhalten wir analog:\n",
    "\n",
    "$$\n",
    "\\begin{aligned}\n",
    "\\left\\langle\\psi_{H F}\\left|\\frac{1}{r_{12}}\\right| \\psi_{H F}\\right\\rangle=\\frac{1}{N !} \\sum_P \\sum_{P^{\\prime}}(-1)^{\\sigma(P)+\\sigma(P')} & \\left\\langle \\chi_{P(1)} \\chi_{P(2)}\\left|\\frac{1}{r_{12}}\\right| \\chi_{P^{\\prime}(1)} \\chi_{P^{\\prime}(2)}\\right\\rangle \\left\\langle \\chi_{P(3)} \\mid \\chi_{P^{\\prime}(3)}\\right\\rangle_3 \\cdots \\left\\langle \\chi_{P(N)} \\mid \\chi_{P^{\\prime}(N)}\\right\\rangle_N \n",
    "\\end{aligned}\n",
    "$$"
   ]
  },
  {
   "cell_type": "markdown",
   "id": "3278d64c",
   "metadata": {
    "slideshow": {
     "slide_type": "slide"
    }
   },
   "source": [
    "Wegen der Orthogonalität bleiben wiederum nur die Terme übrig, bei denen die Permutation ab der dritten Stelle übereinstimmen:\n",
    "\n",
    "$$\n",
    "\\begin{aligned}\n",
    "P^{\\prime}(3) & =P(3) \\\\\n",
    "P^{\\prime}(4) & =P(4) \\\\\n",
    "\\vdots & \\\\\n",
    "P^{\\prime}(N) & =P(N)\n",
    "\\end{aligned}\n",
    "$$\n",
    "\n",
    "Dies lässt nun aber zwei Möglichkeiten für $P^{\\prime}(1)$ und $P^{\\prime}(2)$ übrig! Entweder ist\n",
    "\n",
    "$$\n",
    "\\begin{aligned}\n",
    "& P^{\\prime}(1)=P(1) \\\\\n",
    "& P^{\\prime}(2)=P(2) .\n",
    "\\end{aligned}\n",
    "$$\n",
    "\n",
    "In diesem Fall sind die Permutationen $P^{\\prime}$ und $P$ identisch, $P^{\\prime}=P$. Die zweite Möglichkeit ist:\n",
    "\n",
    "$$\n",
    "\\begin{aligned}\n",
    "& P^{\\prime}(1)=P(2) \\\\\n",
    "& P^{\\prime}(2)=P(1)\n",
    "\\end{aligned}\n",
    "$$\n",
    "\n",
    "In diesem Fall unterscheiden sich $P^{\\prime}$ und $P$ nur durch eine zusätzliche Vertauschung des Paares der Indizes 1,2. Für die Permutation gilt also \n",
    "\n",
    "$$\\quad P^{\\prime}=P_{12} P \\Rightarrow \\sigma (P') = \\sigma (P) +1 $$"
   ]
  },
  {
   "cell_type": "markdown",
   "id": "2b938fdd",
   "metadata": {
    "slideshow": {
     "slide_type": "slide"
    }
   },
   "source": [
    "Damit können wir den 2el-Beitrag wie folgt als Summe über alle Permutationen ausdrücken:\n",
    "\n",
    "$$\n",
    "\\begin{aligned}\n",
    "\\left\\langle\\psi_{H F}\\left|\\frac{1}{r_{12}}\\right| \\psi_{H F}\\right\\rangle & =\\frac{1}{N !} \\sum_P\\left[(-1)^{2 \\sigma(p)}\\left\\langle \\chi_{P(1)} \\chi_{P(2)}\\left|\\frac{1}{r_{12}}\\right| \\chi_{P(1)} \\chi_{P(2)}\\right\\rangle+(-1)^{2 \\sigma(p)+1}\\left\\langle \\chi_{P(1)} \\chi_{P(2)}\\left|\\frac{1}{r_{12}}\\right| \\chi_{P(2)} \\chi_{P(1)}\\right \\rangle \\right] \\\\\n",
    "& =\\frac{1}{N !} \\sum_P\\left[\\left\\langle \\chi_{P(1)} \\chi_{P(2)}\\left|\\frac{1}{r_{12}}\\right| \\chi_{P(1)} \\chi_{P(2)}\\right\\rangle-\\left\\langle \\chi_{P(1)} \\chi_{P(2)}\\left|\\frac{1}{r_{12}}\\right| \\chi_{P(2)} \\chi_{P(1)}\\right\\rangle\\right] \\\\\n",
    "\\end{aligned}\n",
    "$$\n",
    "\n",
    "Wenn man nun die Summe über alle Permutationen durchführt, nehmen $P(1)$ und $P(2)$ alle möglichen Paare von Werten an, so dass $(P(1),P(2)) = (1,2),(2,1),(1,3),(3,1),\\cdots $. Für jedes Paar $(P(1),P(2))$ gibt es genau $(N-2)!$ unterschiedliche Permutationen. Damit kann man die obige Summe auch als Summe über alle Paare von Orbitalindizes ausdrücken:\n",
    "\n",
    "$$\n",
    "\\begin{aligned}\n",
    "& \\left\\langle\\psi_{H F}\\left|\\frac{1}{r_{12}}\\right| \\psi_{H F}\\right\\rangle =2\\frac{(N-2) !}{N !} \\sum_i \\sum_{j>i}\\left[\\left\\langle \\chi_i \\chi_j\\left|\\frac{1}{r_{12}}\\right| \\chi_i \\chi_j\\right\\rangle-\\left\\langle \\chi_i \\chi_j\\left|\\frac{1}{r_{12}}\\right| \\chi_j \\chi_i\\right\\rangle\\right.\n",
    "\\end{aligned}\n",
    "$$\n",
    "\n",
    "Wenn wir nun die 1el- und 2el-Terme zusammenfügen, erhalten wir die  Gesamtenergie einer HF-Determinante als:\n",
    "\n",
    "$$\n",
    "\\begin{gathered}\n",
    "E_{H F}=\\sum_{i=1}^N\\left\\langle \\chi_i(1)|h(1)| \\chi_i(1)\\right\\rangle+\\sum_{i=1}^N \\sum_{j>i}\\left[\\left\\langle \\chi_i(1) \\chi_j(2)\\left|\\frac{1}{r_{12}}\\right| \\chi_i(1) \\chi_j(2)\\right\\rangle-\\left\\langle \\chi_i(1) \\chi_j(2)\\left|\\frac{1}{r_{12}}\\right| \\chi_j(1)\\chi_i(2)\\right\\rangle\\right] \\\\\n",
    "\\end{gathered}\n",
    "$$"
   ]
  },
  {
   "cell_type": "markdown",
   "id": "5512cd02",
   "metadata": {
    "slideshow": {
     "slide_type": "slide"
    }
   },
   "source": [
    "Die HF-Energie können wir nun etwas kürzer schreiben, indem wir die Indizes weglassen:\n",
    "\n",
    "$$\n",
    "E_{H F}=\\sum_{i=1}^N\\left\\langle \\chi_i|h| \\chi_i\\right\\rangle+\\sum_i \\sum_{j>i}\\left[\\left\\langle \\chi_i \\chi_j\\left|\\frac{1}{r_{12}}\\right| \\chi_i \\chi_j\\right\\rangle-\\left\\langle \\chi_i \\chi_j\\left|\\frac{1}{r_{12}}\\right| \\chi_j \\chi_i\\right\\rangle\\right.\n",
    "$$\n",
    "\n",
    "Wie bereits erwähnt, hängt $E_{HF}$ von der Wahl der Spinorbitale $\\left\\{\\chi_i\\right\\}$ ab. Wir wollen nun die bestmöglichen Spinorbitale im Sinne des Variationsprinzips ermitteln. Dazu müssen wir die Energie unter der Nebenbedingung, dass die Spin-Orbitale orthonormiert bleiben, minimieren!"
   ]
  },
  {
   "cell_type": "markdown",
   "id": "24301c64",
   "metadata": {
    "slideshow": {
     "slide_type": "slide"
    }
   },
   "source": [
    "<h1> Minimieren der Energie einer HF-Determinante </h1>\n",
    "\n",
    "Zum Minimieren der Energie der HF-Determinante können wir entweder die Methode der Lagrange-Multiplikatoren, die uns ermöglicht, die Nebenbedingungen zu behandeln, verwenden. Alternativ können wir uns von vornherein nur auf solche Orbitalvariationen beschränken, bei denen die Orthonormierung der Spinorbitale erhalten bleibt. Dies führt uns zu sogenannten <u> Orbitalrotationen,</u> die durch unitäre (oder im reellen Fall orthogonale) Transformationen realisiert werden können. \n",
    "\n",
    "Betrachten wir einen Satz von Spinorbitalen $\\left\\{\\left|\\chi_i\\right\\rangle, i=1, \\ldots . M\\right\\}$, können wir daraus einen neuen Satz von orthonormierten Spinorbitalen $\\left\\{\\left|\\tilde{\\chi}_i\\right\\rangle, i=1, \\ldots M\\right\\}$ erzeugen, indem wir eine unitäre Transformation vornehmen:\n",
    "$$\n",
    "\\left|\\tilde{\\chi}_i\\right\\rangle=\\sum_{j=1}^M U_{i j}\\left|\\chi_j\\right\\rangle\n",
    "$$\n",
    "\n",
    "Die Unitarität in diesem Fall bedeutet, dass:\n",
    "\n",
    "$$ \n",
    "U^{\\dagger}U = I \\quad (U^T U = I\\quad \\text{im reellen Fall})\n",
    "$$"
   ]
  },
  {
   "cell_type": "markdown",
   "id": "37f0c22e",
   "metadata": {
    "slideshow": {
     "slide_type": "slide"
    }
   },
   "source": [
    "Des Weiteren beschränken wir uns auf infinitesimale Orbitalrotationen, bei denen sich die Matrix $U$ ''nur wenig'' von der Einheitsmatrix $I$ unterscheidet :\n",
    "\n",
    "$$\n",
    "U \\approx I+A\n",
    "$$\n",
    "\n",
    "$A$ ist die Matrix, die solche infinitesimalen Rotationen beschreibt. Dann gilt bis zur zweiten Ordnung in den Elementen von $A$: \n",
    "\n",
    "$$\n",
    "\\left|\\tilde{\\chi}_i\\right\\rangle=\\left|\\chi_i\\right\\rangle+\\sum_{k=1}^M A_{ik}\\left|\\chi_k\\right\\rangle+\\mathcal{O}\\left(A^2\\right)\n",
    "$$\n",
    "\n",
    "Da die Orbitalrotationen das Skalarprodukt nicht verändern dürfen und damit die Orthonormierung erhalten bleibt, muss für alle Indizes $i$ und $j$ gelten:\n",
    "\n",
    "$$\n",
    "\\left\\langle\\tilde{\\chi}_i \\mid \\tilde{\\chi}_j\\right\\rangle=\\left\\langle \\chi_i \\mid \\chi_j\\right\\rangle=\\delta_{i j}\n",
    "$$\n",
    "\n",
    "Wir setzen nun die obige infinitesimale Rotation ein und erhalten unter Vernachlässigung der Terme zweiter Ordnung: \n",
    "\n",
    "$$\\left\\langle\\tilde{\\chi}_i \\mid \\tilde{\\chi}_j\\right\\rangle= \\left\\langle \\chi_i \\mid \\chi_j\\right\\rangle+\\sum_k A_{i k}^* \\underbrace{\\left\\langle \\chi_k \\mid \\chi_j\\right\\rangle}_{\\delta_{k j}}+\\sum_l A_{j l} \\underbrace{\\left\\langle \\chi_i \\mid \\chi_l\\right\\rangle}_{\\delta_{i l}}$$"
   ]
  },
  {
   "cell_type": "markdown",
   "id": "56ce7437",
   "metadata": {
    "slideshow": {
     "slide_type": "slide"
    }
   },
   "source": [
    "Darans folgt:\n",
    "\n",
    "$$\n",
    "\\left\\langle\\tilde{\\chi}_i \\mid \\tilde{\\chi}_j\\right\\rangle= \\left\\langle \\chi_i \\mid \\chi_j\\right\\rangle+A_{ij}^*+A_{ji} \n",
    "$$\n",
    "\n",
    "\n",
    "und damit die Bedingung:\n",
    "\n",
    "$$\n",
    "A_{i j}^*+A_{j i}=0\n",
    "$$\n",
    "\n",
    "oder\n",
    "\n",
    "$$\n",
    "A_{j i}=-A_{i j}^*\n",
    "$$\n",
    "\n",
    "Wir sehen also, dass Orbital-Rotationen durch eine (beliebige) antihermitesche Matrix $A$ erzeugt werden können. Da wir im Folgenden der Einfachheit halber nur reelle Transformationen betrachten, reduziert sich die obige Bedingung auf\n",
    "\n",
    "$$\n",
    "A_{j i}=-A_{i j}\n",
    "$$\n",
    "\n",
    "Wir stellen fest, dass man eine reelle Orbitalrotation durch eine <u> reelle antisymmetrische Matrix </u> beschreiben kann. Eine solche Matrix wollen wir durch unabhängige Parameter parametrisieren."
   ]
  },
  {
   "cell_type": "markdown",
   "id": "4494a4ea",
   "metadata": {
    "slideshow": {
     "slide_type": "slide"
    }
   },
   "source": [
    "Wegen der Antisymmetrie muss die Orbital-Rotationsmatrix die folgende Form besitzen:\n",
    "\n",
    "$$\n",
    "A=\\left[\\begin{array}{ccccc}\n",
    "0 & \\tau_{12} & \\tau_{13} & \\cdots & \\tau_{1 M} \\\\\n",
    "-\\tau_{12} & 0 & \\tau_{23} & \\cdots & \\tau_{2 M} \\\\\n",
    "-\\tau_{13} & -\\tau_{23} & 0 & & \\\\\n",
    "\\vdots & & \\ddots & \\\\\n",
    "\\vdots & & & \\ddots \\\\\n",
    "-\\tau_{1 M} & & & \\ddots\n",
    "\\end{array}\\right]\n",
    "$$\n",
    "\n",
    "Die Matrix $A$ enthält also $\\frac{M(M-1)}{2}$ unabhängige Parameter und kann auch in der Form :\n",
    "\n",
    "$$\n",
    "A=\\sum_{p=1}^M \\sum_{q>p}^M \\tau_{p q} E_{p q}\n",
    "$$\n",
    "\n",
    "parametrisiert werden. $E_{pq}$ sind dabei Basismatrizen für die Darstellung antisymmetrischer Matrizen, die man als ''Erzeugende der unitären Transformationen'' bezeichnet, und haben die Form:\n",
    "\n",
    "$$E_{pq}=\\left[\\begin{array}{cccccc}0 & 0 & \\cdots & 0 & 0 & 0 \\\\ 0 & 0 & \\cdots & 0 & 1 & 0 \\\\ 0 & 0 & \\cdots & 0 & 0 & 0 \\\\ \\cdots & \\cdots & & & 0 & 0 \\\\ \\cdots & \\cdots & & & \\cdots & 0 \\\\ 0 & 0 & & 0 & 0 & 0 \\\\ 0 & -1 & \\cdots & 0 & 0 & 0 \\\\ 0 & 0 & \\cdots & 0 & 0 & 0\\end{array}\\right]$$\n",
    "\n",
    "Dabei sind alle Matrixelement gleich Null außer $(E_{pq}))_{pq}=1)$ und $(E_{pq}))_{qp}=-1)$."
   ]
  },
  {
   "cell_type": "markdown",
   "id": "c7df13a3",
   "metadata": {
    "slideshow": {
     "slide_type": "slide"
    }
   },
   "source": [
    "Die Matrix $E_{pq}$ kann mittels des Kroneckers-Symbols kompakt ausgedrückt werden:\n",
    "\n",
    "$$\n",
    "\\left(E_{p q}\\right)_{i j}=\\delta_{i p} \\delta_{j q}-\\delta_{i q} \\delta_{j p}\n",
    "$$\n",
    "\n",
    "Damit gilt für $A$ :\n",
    "\n",
    "$$\n",
    "\\begin{aligned}\n",
    "& A_{i j}=\\sum_{p=1}^M \\sum_{q>p} \\tau_{p q}\\left(\\delta_{i p} \\delta_{j q}-\\delta_{i q} \\delta_{j p}\\right) \\\\\n",
    "& A_{i j}=\\left\\{\\begin{array}{cc}\n",
    "\\tau_{i j}, & j>i \\\\\n",
    "0 & j=i \\\\\n",
    "-\\tau_{j i} & j<i\n",
    "\\end{array}\\right. \\\\\n",
    "&\n",
    "\\end{aligned}\n",
    "$$\n",
    "\n",
    "Jede Orbitalrotation kann also durch einen Satz unabhängiger Parameter $\\tau_{i j}$ parametrisiert werden:\n",
    "\n",
    "$$\n",
    "\\begin{aligned}\n",
    "\\left|\\tilde{\\chi}_i\\right\\rangle & =\\left|\\chi_i\\right\\rangle+\\sum_{k=1}^i A_{i k}\\left|\\chi_k\\right\\rangle+\\sum_{k=i+1}^M A_{ik}\\left| \\chi_k\\right\\rangle \\\\\n",
    "& =\\left|\\chi_i\\right\\rangle+\\sum_{k=1}^i\\left(-\\tau_{ki}\\right)\\left|\\chi_k\\right\\rangle+\\sum_{k=i+1}^M \\tau_{i k}\\left|\\chi_k\\right\\rangle\n",
    "\\end{aligned}\n",
    "$$"
   ]
  },
  {
   "cell_type": "markdown",
   "id": "24bffec7",
   "metadata": {
    "slideshow": {
     "slide_type": "slide"
    }
   },
   "source": [
    "<h1> Wie verändert sich eine Slater-Determinante unter Orbital-Rotationen? </h1>\n",
    "\n",
    "Wir haben gesehen, dass man durch Orbitalrotation eine orthonormierte Einelektronbasis in eine andere orthonormierte Einelektronbasis überführen kann. Im Folgenden untersuchen wir, wie sich eine N-Elektronen-Slaterdeterminante infolge einer solchen Basistransformation verändert:\n",
    "\n",
    "$$\n",
    "\\begin{aligned}\n",
    "& \\left|\\chi_i\\right\\rangle \\rightarrow\\left|\\tilde{\\chi}_i\\right\\rangle \\\\\n",
    "& \\left|\\psi_{HF}\\right\\rangle = \\left|\\chi_1 \\chi_2 \\cdots \\chi_N\\right\\rangle \\rightarrow \\left|\\tilde{\\psi}_{HF}\\right\\rangle =  \\left|\\tilde{\\chi}_1 \\tilde{\\chi}_2 \\ldots \\tilde{\\chi}_N\\right\\rangle\n",
    "\\end{aligned}\n",
    "$$\n",
    "\n",
    "In der neuen Determinante ist jede Spalte nun eine Linearkombination der Spinorbitale\n",
    "\n",
    "$$\n",
    "\\left|\\tilde{\\chi}_1 \\ldots \\tilde{\\chi}_i \\ldots \\tilde{\\chi}_N\\right\\rangle=\\left|\\chi_1+\\sum_k^M \\tau_{1 k} \\chi_k, \\ldots, \\chi_i+\\sum_{k=1}^i\\left(-\\tau_{ki}\\right)\\chi_k+\\sum_{k=i+1}^M \\tau_{i k}\\chi_k,\\ldots\\right\\rangle\n",
    "$$\n",
    "\n",
    "Aber Determinanten sind linear in Spalten (und Zeilen). Des Weiteren können wir $k$ beschränken auf $k>N$, da wir ansonsten irgendwo in der Determinante zwei gleiche Spalten hätten. Damit summieren wir nur über virtuelle Orbitale (s.u.).\n",
    "Wir sehen, dass bei der Orbitaltransformation der HF-Determinante Konfigurationen beigemischt werden, bei denen jeweils ein Elektron aus einem besetzten Orbital in ein virtuelles angeregt wird:\n",
    "\n",
    "$$\n",
    "\\left|\\tilde{\\psi}_{H F}\\right\\rangle=\\left|\\psi_{H F}\\right\\rangle+\\sum_o \\sum_v \\tau_{o v}\\left|\\psi_o^v\\right\\rangle\n",
    "$$"
   ]
  },
  {
   "cell_type": "markdown",
   "id": "412d5fb0",
   "metadata": {
    "slideshow": {
     "slide_type": "slide"
    }
   },
   "source": [
    "Wie verändert sich eine Slater-Determinante infolge einer Orbitalrotation?\n",
    "$$\n",
    "\\begin{aligned}\n",
    "& \\left|\\tilde{\\chi}_1 \\tilde{\\chi}_2, \\ldots \\tilde{\\chi}_N\\right\\rangle=\\left|\\chi_1+\\sum_k \\tau_{1 k} \\chi_k, \\chi_2+\\sum_k \\tau_{2 k} \\chi_k, \\ldots, \\chi_N+\\sum_k \\tau_{N k} \\chi_k\\right\\rangle\n",
    "\\end{aligned}\n",
    "$$\n",
    "Wegen der Linearität der Determinante:\n",
    "$$\n",
    "\\left|\\tilde{\\chi}_1 \\tilde{\\chi}_2, \\ldots \\tilde{\\chi}_N\\right\\rangle=\\left|\\chi_1 \\chi_2 \\cdots \\chi_N\\right\\rangle+\\sum_k\\left[\\tau_{1 k}\\left|\\chi_k \\chi_2 \\ldots \\chi_N\\right\\rangle+\\tau_{2 k}\\left|\\chi_1 \\chi_k \\cdots \\chi_N\\right\\rangle+\\cdots \\tau_{N k}\\left|\\chi_1 \\chi_2 \\ldots \\chi_k\\right\\rangle\\right]\n",
    "$$\n",
    "Die Summe über $k$ geht nur über die Orbitalindezes, die in der ursprünglichen Determinante unbesetzt waren. Solche Orbitale bezeichnet man als virtuell. Die Determinanten in der Summe unterscheiden sich von der ursprünglichen Determinante genau in einem Orbital. Dabei wird genau ein Elektron aus einem besetzten Orbital mit dem Index $o$ in ein virtuelles Orbital mit dem Index $v$ angeregt."
   ]
  },
  {
   "cell_type": "markdown",
   "id": "0de72d6b",
   "metadata": {
    "slideshow": {
     "slide_type": "slide"
    }
   },
   "source": [
    "Die Änderung der Slaterdeterminante können wir also als:\n",
    "\n",
    "$$\n",
    "\\left|\\tilde{\\chi}_1 \\tilde{\\chi}_2 \\cdots \\tilde{\\chi}_N\\right\\rangle=\\left|\\chi_1 \\chi_2 \\ldots \\chi_N\\right\\rangle+\\sum_o \\sum_v \\tau_{ov}\\left|\\chi_1 \\chi_2 \\cdots \\chi_{v} \\cdots \\chi_N\\right\\rangle\n",
    "$$\n",
    "\n",
    "ausdrücken, oder in kurzer Form:\n",
    "\n",
    "$$\n",
    "\\left|\\tilde{\\psi}_{H F}\\right\\rangle=\\left|\\psi_{H F}\\right\\rangle+\\sum_o \\sum_v \\tau_{o v}\\left|\\psi_o^v\\right\\rangle\n",
    "$$\n",
    "\n",
    "Dabei haben wir die Abkürzung $\\left|\\psi_o^v\\right\\rangle$ für die einfach angeregte Determinante definiert:\n",
    "\n",
    "$$\n",
    "\\left|\\psi_o^v\\right\\rangle \\equiv\\left|\\chi_1 \\chi_2 \\cdots \\chi_v \\cdots \\chi_N\\right\\rangle\n",
    "$$"
   ]
  },
  {
   "cell_type": "markdown",
   "id": "ebd39994",
   "metadata": {
    "slideshow": {
     "slide_type": "slide"
    }
   },
   "source": [
    "<h1> Wie verändert sich die Hartree-Fock-Energie infolge der Orbitalrotation? </h1>\n",
    "\n",
    "Wir berechnen den Erwartungswert der Energie mit der neuen Slaterdeterminante:\n",
    "\n",
    "$$\n",
    "\\begin{aligned}\n",
    "& \\tilde{E}_{H F}=\\left\\langle\\tilde{\\psi}_{H F}|\\hat{H}| \\tilde{\\psi}_{H F}\\right\\rangle=\\left\\langle\\psi_{H F}|\\hat{H}| \\psi_{H F}\\right\\rangle+\\sum_o \\sum_v \\tau_{o v}\\left\\langle\\psi_{H F}\\left|\\hat{H}\\right| \\psi_o^v\\right\\rangle+\\ldots \\\\\n",
    "& \\tilde{E}_{H F}=E_{H F}+\\sum_o \\sum_v\\tau_{o v}\\left\\langle\\psi_{H F}|\\hat{H}| \\psi_o^v\\right\\rangle\n",
    "\\end{aligned}\n",
    "$$\n",
    "\n",
    "\n",
    "Die <u> optimalen Hartree-Fock-Orbitale </u> sind definiert als die Orbitale, für die die Energie stationär in Bezug auf die Orbitalrotationen ist. Da die Rotationsparameter $\\tau_{ov}$ alle unabhängig voneinander sind, lautet die Optimierungsbedingung:\n",
    "\n",
    "$$\n",
    "\\left\\langle\\psi_{H F}|\\hat{H}| \\psi_o^v\\right\\rangle=0 \\quad \\forall o, \\forall v\n",
    "$$\n",
    "\n",
    "Dies bezeichnet man als Brillouin-Bedingung (oder -Theorem in anderen, äquivalenten Herleitungen der HF-Methode). Die Orbitale in der Slaterdeterminante muss man also so wählen, dass das Matrixelement zwischen der HF-Determinante und allen einfach angeregten Determinanten verschwindet. Nur in diesem Fall wird die HF-Energie stationär in Bezug auf infinitesimale Orbitalrotationen sein. "
   ]
  },
  {
   "cell_type": "markdown",
   "id": "dbe1cd37",
   "metadata": {
    "slideshow": {
     "slide_type": "slide"
    }
   },
   "source": [
    "\n",
    "Das Matrixelement\n",
    "\n",
    "$$\n",
    "\\left\\langle\\psi_{HF}|\\hat{H}| \\psi_o^v\\right\\rangle=\\left\\langle \\chi_1 \\chi_2 \\ldots \\chi_N|\\hat{H}| \\chi_1 \\chi_2 \\cdots \\chi_v \\cdots \\chi_N\\right\\rangle\n",
    "$$\n",
    "\n",
    "kann genauso berechnet werden, wie z.B die Energie einer Determinante berechnet wurde. Unter Verwendung gleicher \"Tricks\" erhalten wir dafür den folgenden Ausdruck:\n",
    "\n",
    "$$\n",
    "\\left\\langle\\psi_{H F}|\\hat{H}| \\psi_o v\\right\\rangle=\\langle o|h| v\\rangle+\\sum_j\\left[\\left\\langle o j\\left|\\frac{1}{r_{12}}\\right| v j\\right\\rangle-\\left\\langle o j\\left|\\frac{1}{r_{12}}\\right| j v\\right\\rangle\\right]\n",
    "$$\n",
    "\n",
    "Für die optimalen Orbitale muss also die folgende Bedingung gelten\n",
    "\n",
    "$$\n",
    "\\langle o|h| v\\rangle+\\sum_j\\left[\\left\\langle o j\\left|\\frac{1}{r_{12}}\\right| v j\\right\\rangle-\\left\\langle o j\\left|\\frac{1}{r_{12}}\\right| j v\\right\\rangle\\right]=0 \\quad \\forall o, \\forall j\n",
    "$$\n",
    "\n",
    "Wann ist diese Bedingung erfüllt?"
   ]
  },
  {
   "cell_type": "markdown",
   "id": "c96a7ce8",
   "metadata": {
    "slideshow": {
     "slide_type": "slide"
    }
   },
   "source": [
    "Um diese Frage zu beantworten, schauen wir uns zunächst den Fall nichtwechselwirkender Elektronen an. In diesem Grenzfall reduziert sich die Bedingung auf:\n",
    "\n",
    "$$\n",
    "\\langle o|h| v\\rangle+\\sum_j\\left[\\left\\langle o j\\left|\\frac{1}{r_{12}}\\right| v j\\right\\rangle-\\left\\langle o j\\left|\\frac{1}{r_{12}}\\right| j v\\right\\rangle\\right]=0 \\Rightarrow\\langle o|h| v\\rangle=0 .\n",
    "$$\n",
    "\n",
    "Diese ''vereinfachte'' Bedingung ist sicher erfüllt, wenn man die Orbitale als Eigenfunktionen des 1el-Operators $h$ wählt. Für diese gilt:\n",
    "\n",
    "$$\n",
    "h|i\\rangle=\\varepsilon_i|i\\rangle \\Rightarrow h|o\\rangle=\\varepsilon_o|o\\rangle, \\quad h|v\\rangle=\\varepsilon_v|v\\rangle\n",
    "$$\n",
    "\n",
    "und damit wegen der Orthogonalität der Eigenfunktionen auch automatisch:\n",
    "\n",
    "$$\n",
    "\\langle o|h| v\\rangle=0 \\text {. }\n",
    "$$\n",
    "\n",
    "Im Folgenden werden wir sehen, dass man diese Betrachtung auch auf wechselwirkende Elektronen verallgemeinern kann, in dem man einen <u> effektiven Einelektronoperator </u> namens Fock-Operator einführt!"
   ]
  },
  {
   "cell_type": "markdown",
   "id": "2996d0af",
   "metadata": {
    "slideshow": {
     "slide_type": "slide"
    }
   },
   "source": [
    "Wir definieren zunächst den sog. Coulomb-Operator:\n",
    "\n",
    "$$\n",
    "\\begin{aligned}\n",
    "& \\hat{J}|v\\rangle \\equiv \\sum_j\\left\\langle j\\left|\\frac{1}{r_{12}}\\right| j\\right\\rangle_2|v\\rangle \n",
    "\\end{aligned}\n",
    "$$\n",
    "\n",
    "und den Austausch-Operator:\n",
    "\n",
    "$$\n",
    "\\begin{aligned}\n",
    "& \\hat{K}|v\\rangle \\equiv \\sum_j\\left\\langle j\\left|\\frac{1}{r_{12}}\\right| v\\right\\rangle_2|j\\rangle\n",
    "\\end{aligned}\n",
    "$$\n",
    "\n",
    "Mit Hilfe dieser Definitionen können wir die Brillouin-Bedingung wie folgt schreiben:\n",
    "\n",
    "$$\n",
    "\\langle o|\\hat{h}+\\hat{J}-\\hat{K}| v\\rangle=0\n",
    "$$\n",
    "\n",
    "Den Operator in diesem Ausdruck bezeichnet man als Fock-Operator:\n",
    "\n",
    "$$\n",
    "\\hat{F}=\\hat{h}+\\hat{J}-\\hat{K}\n",
    "$$\n",
    "\n",
    "Der Fock-Operator ist ein Einelektron-Operator, der für ein wechelwirkendes System von Elektronen  die gleiche Rolle spielt wie $h$ im Falle eines nichtwechselwirkenden Systems!"
   ]
  },
  {
   "cell_type": "markdown",
   "id": "985d334d",
   "metadata": {
    "slideshow": {
     "slide_type": "slide"
    }
   },
   "source": [
    "Die Brillouin-Bedingung lässt sich also auch in der folgenden Form ausdrücken:\n",
    "\n",
    "$$\n",
    "\\langle o|F| v\\rangle=0 \\quad \\forall o, \\forall v\n",
    "$$\n",
    "\n",
    "Diese Bedingung ist aber sicher erfüllt, wenn wir die Orbitale als Eigenfunktionen des Fock-Operators wählen. Dies führt uns direkt zur Hartree-Fock-Gleichung:\n",
    "\n",
    "$$\n",
    "F|i\\rangle=\\varepsilon_i|i\\rangle \n",
    "$$\n",
    "\n",
    "$$\n",
    "(\\hat{h}+\\hat{J}-\\hat{K})|i\\rangle=\\varepsilon_i|i\\rangle\n",
    "$$\n",
    "\n",
    "Die Lösung dieser Hartree-Fock-Gleichung liefert die optimalen Orbitale für die Beschreibung eines wechselwirkenden $N$-Elektronensystems."
   ]
  },
  {
   "cell_type": "markdown",
   "id": "fa79f97a",
   "metadata": {
    "slideshow": {
     "slide_type": "slide"
    }
   },
   "source": [
    "<h1> Hartree-Fock-Gleichung </h1>\n",
    "\n",
    "Das Eigenwertproblem für den Fock-Operator kann in Form einer Differentialgleichung geschrieben werden:\n",
    "\n",
    "$$\\hat{F}\\left|\\chi_i\\right\\rangle=\\varepsilon_i\\left|\\chi_i\\right\\rangle \\Rightarrow-\\frac{1}{2} \\nabla^2 \\chi_i+V_{n e} \\chi_i+\\sum_j\\left[\\int d 2 \\frac{\\left|\\chi_j(2)\\right|^2}{r_{12}}\\right] \\chi_i-\\sum_j\\left[\\int d 2 \\frac{\\chi_j(2) \\chi_i(2)}{r_{12}}\\right] \\chi_j=\\varepsilon_i \\chi_i$$\n",
    "\n",
    "Diese wiederum sieht aus wie die Schrödingergleichung für ein Elektron, das sich in einem \"effektiven\" Potential bewegt. \n",
    "\n",
    "$$\n",
    " -\\frac{1}{2} \\nabla^2 \\chi_i+V_{\\mathrm{eff}} \\chi_i=\\varepsilon_i\n",
    "$$\n",
    "\n",
    "Wir haben somit das Problem $N$ wechselwirkender Elektronen auf die Bewegung <i>eines</i> Elektrons in einem neuen \"effektiven\" Potential reduziert. Das effektive Potential besteht aus dem Potential der Kern-Elektron-Wechselwirkung und zwei weiteren Termen, die die Elektron-Elektron-Wechselwirkung beinhalten. Das wesentliche dabei ist, dass die Elektron-Elektron-Wechselwirkung hier Form eines <u> gemittelten </u> Ein-Elektron-Potentials auftritt, d.h., dass jedes Elektron dem gemittelten Potential aller anderen Elektronen ausgesetzt ist."
   ]
  },
  {
   "cell_type": "markdown",
   "id": "b59baa66",
   "metadata": {
    "slideshow": {
     "slide_type": "slide"
    }
   },
   "source": [
    "<h1> Zur Lösung der Hartree-Fock-Gleichung </h1>\n",
    "\n",
    "Obwohl die HF-Gleichung auf den ersten Blick wie ein lineares Eigenwertproblem aussieht (vergleichbar mit der stationären Schrödingergleichung), handelt es sich dabei eigentlich um ein <u> nichtlineares </u> Eigenwertproblem. Denn der Fock-Operator, der die Orbitale bestimmt, enthält diese bereits in seiner Definition innerhalb der Coulomb- und Austauschterme. Daher erfordert bereits die Formulierung des Problems und die Konstruktion des Fock-Operators die Kenntnis der (unbekannten) Lösungen. Zu diesem Zweck werden die Hartree-Fock-Gleichungen im Allgemeinen durch ein iteratives Verfahren gelöst.\n",
    "\n",
    "Dieses Verfahren wird als \"self-consistent field\" (SCF)-Verfahren bezeichnet. Die Idee des SCF-Verfahrens besteht darin, mit einer anfänglichen Näherung für die Orbitale zu beginnen, die sogar schlecht sein kann. Beispielsweise könnten die anfänglichen Orbitale konstruiert werden, indem nur der Ein-Elektron-Operator ohne die effektive Elektron-Elektron-Wechselwirkung diagonalisiert wird. Solche anfänglichen Orbitale werden dann verwendet, um in der nächsten Iteration einen neuen Fock-Operator zu konstruieren. Der neue Fock-Operator wird wieder diagonalisiert, was zu verbesserten Orbitalen führt. Dieses Verfahren wird dann iterativ wiederholt, bis die Orbitale, die verwendet werden, um den Fock-Operator zu konstruieren, innerhalb einer vorgegebenen numerischen Genauigkeit dieselben werden wie die Orbitale, die durch seine anschließende Diagonalisierung erhalten werden.\n",
    "\n",
    "Die Lösung der HF-Gleichungen erfolgt somit meistens mit Hilfe des Computers..."
   ]
  }
 ],
 "metadata": {
  "celltoolbar": "Slideshow",
  "kernelspec": {
   "display_name": "Python 3 (ipykernel)",
   "language": "python",
   "name": "python3"
  },
  "language_info": {
   "codemirror_mode": {
    "name": "ipython",
    "version": 3
   },
   "file_extension": ".py",
   "mimetype": "text/x-python",
   "name": "python",
   "nbconvert_exporter": "python",
   "pygments_lexer": "ipython3",
   "version": "3.10.9"
  }
 },
 "nbformat": 4,
 "nbformat_minor": 5
}
