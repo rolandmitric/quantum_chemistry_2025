{
 "cells": [
  {
   "cell_type": "markdown",
   "id": "d85be4f0",
   "metadata": {
    "slideshow": {
     "slide_type": "slide"
    }
   },
   "source": [
    "<!DOCTYPE html>\n",
    "<html lang=\"de\">\n",
    "<head>\n",
    "<meta charset=\"UTF-8\">\n",
    "<title>Quantenchemie – Roland Mitric</title>\n",
    "<style>\n",
    "  body {\n",
    "    font-family: \"Helvetica Neue\", Helvetica, Arial, sans-serif;\n",
    "    text-align: center;\n",
    "    background: #f7f9fc;\n",
    "    color: #222;\n",
    "    margin-top: 15%;\n",
    "  }\n",
    "  h1 {\n",
    "    font-size: 3em;\n",
    "    margin-bottom: 0.2em;\n",
    "  }\n",
    "  h2 {\n",
    "    font-weight: normal;\n",
    "    margin: 0.2em;\n",
    "  }\n",
    "</style>\n",
    "</head>\n",
    "<body>\n",
    "  <h1>Quantenchemie</h1>\n",
    "  <h2>Roland Mitric</h2>\n",
    "  <h2>Lehrstuhl für Theoretische Chemie</h2>\n",
    "</body>\n",
    "</html>\n",
    "\n"
   ]
  },
  {
   "cell_type": "markdown",
   "id": "03c46f7e",
   "metadata": {
    "slideshow": {
     "slide_type": "slide"
    }
   },
   "source": [
    "Diese Vorlesung führt in die Grundlagen und Methoden der **Quantenchemie** ein. Sie vermittelt das Verständnis, wie sich chemische Phänomene aus den quantenmechanischen Gesetzen der Mikrowelt ableiten lassen.\n",
    "\n",
    "Die **Quantenchemie**, auch **molekulare Quantenmechanik** genannt, ist ein Teilgebiet der physikalischen Chemie, das die Gesetze der Quantenmechanik auf molekulare Systeme anwendet. Sie bildet die theoretische Grundlage unseres Verständnisses von zentralen chemischen Konzepten wie **molekularer Struktur**, **chemischer Bindung**, **Reaktivität** und **Spektroskopie**.\n",
    "\n",
    "---"
   ]
  },
  {
   "cell_type": "markdown",
   "id": "615471fd",
   "metadata": {
    "slideshow": {
     "slide_type": "slide"
    }
   },
   "source": [
    "Das Hauptziel der Quantenchemie besteht darin, die **physikalischen und chemischen Eigenschaften** von Molekülen und Materialien **aus den quantenmechanischen Grundgleichungen vorherzusagen**. Dazu werden Näherungsverfahren entwickelt, die die sehr komplexen Vielteilchengleichungen der Quantenmechanik mathematisch und numerisch behandelbar machen. Diese Methoden reichen von der Hartree-Fock-Theorie über Dichtefunktionalverfahren bis hin zu hochgenauen Korrelationsmethoden und erlauben es, Strukturen, Energien, Spektren und Reaktionspfade mit hoher Genauigkeit zu berechnen.\n",
    "\n",
    "---"
   ]
  },
  {
   "cell_type": "markdown",
   "id": "3dab6aa4",
   "metadata": {
    "slideshow": {
     "slide_type": "slide"
    }
   },
   "source": [
    "Neben der Beschreibung stationärer Zustände gewinnt auch die **zeitabhängige Quantenchemie** an Bedeutung. Sie ermöglicht die Untersuchung von **elektronischer Dynamik**, **nichtadiabatischen Übergängen** und **lichtinduzierten Reaktionen**, die für Photochemie, Katalyse und Materialwissenschaften von zentraler Relevanz sind.\n",
    "\n",
    "Die Quantenchemie verbindet die fundamentalen Prinzipien der Quantenphysik mit der \n",
    "Welt chemischer Phänomene. Sie eröffnet die Möglichkeit, die Eigenschaften komplexer Moleküle und Materialien bereits am Computer zu verstehen und gezielt vorherzusagen.\n",
    "\n",
    "---"
   ]
  },
  {
   "cell_type": "markdown",
   "id": "e646e1e1",
   "metadata": {
    "slideshow": {
     "slide_type": "slide"
    }
   },
   "source": [
    "<div style=\"display: flex; align-items: flex-start; gap: 1.5rem;\">\n",
    "\n",
    "  <figure style=\"margin: 0;\">\n",
    "    <img src=\"https://upload.wikimedia.org/wikipedia/commons/5/50/Paul_Dirac%2C_1933.jpg\" alt=\"Paul Dirac, 1933\" style=\"width:180px; border-radius:8px; box-shadow: 0 0 6px rgba(0,0,0,0.2);\">\n",
    "    <figcaption style=\"text-align:center; font-size:0.9em; color:#555;\">Paul A. M. Dirac   (1902 – 1984)</figcaption>\n",
    "  </figure>\n",
    "\n",
    "  <blockquote style=\"font-size:1.05em; line-height:1.4; color:#222; margin:0;\">\n",
    "    The underlying physical laws necessary for the mathematical theory of a large part of physics and the <b>whole of chemistry</b> are thus completely known, and the difficulty is only that the exact application of these laws leads to equations much too complicated to be soluble. It therefore becomes desirable that approximate practical methods of applying quantum mechanics should be developed, which can lead to an explanation of the main features of complex atomic systems without too much computation.\n",
    "    <br><br>\n",
    "    <span style=\"font-size:0.9em; color:#555;\">— P. A. M. Dirac, *Proceedings of the Royal Society A* (1929)</span>\n",
    "  </blockquote>\n",
    "\n",
    "</div>\n",
    "\n",
    "<p style=\"font-size:0.8em; color:#777; margin-top:0.8rem;\">\n",
    "Image source: <a href=\"https://commons.wikimedia.org/wiki/File:Paul_Dirac,_1933.jpg\">Wikimedia Commons</a>, public domain.\n",
    "</p>\n"
   ]
  }
 ],
 "metadata": {
  "celltoolbar": "Slideshow",
  "kernelspec": {
   "display_name": "Python 3 (ipykernel)",
   "language": "python",
   "name": "python3"
  },
  "language_info": {
   "codemirror_mode": {
    "name": "ipython",
    "version": 3
   },
   "file_extension": ".py",
   "mimetype": "text/x-python",
   "name": "python",
   "nbconvert_exporter": "python",
   "pygments_lexer": "ipython3",
   "version": "3.10.9"
  }
 },
 "nbformat": 4,
 "nbformat_minor": 5
}
