{
 "cells": [
  {
   "cell_type": "markdown",
   "id": "4ee73e1a",
   "metadata": {
    "slideshow": {
     "slide_type": "slide"
    }
   },
   "source": [
    "# Introduction"
   ]
  },
  {
   "cell_type": "markdown",
   "id": "03c46f7e",
   "metadata": {
    "slideshow": {
     "slide_type": "slide"
    }
   },
   "source": [
    "Diese Vorlesung führt in die Grundlagen und Methoden der **Quantenchemie** ein. \n",
    "\n",
    "Die **Quantenchemie**, auch **molekulare Quantenmechanik** genannt, ist ein Teilgebiet der physikalischen Chemie, das die Quantenmechanik auf molekulare Systeme anwendet. Sie bildet die theoretische Grundlage unseres Verständnisses von zentralen chemischen Konzepten wie **molekularer Struktur**, **chemischer Bindung**, **Reaktivität** und **Spektroskopie**.\n"
   ]
  },
  {
   "cell_type": "markdown",
   "id": "615471fd",
   "metadata": {
    "slideshow": {
     "slide_type": "slide"
    }
   },
   "source": [
    "Das **Hauptziel der Quantenchemie** besteht darin, die **physikalischen und chemischen Eigenschaften** von Molekülen und Materialien **aus den quantenmechanischen Grundgleichungen vorherzusagen**. Dazu werden Näherungsverfahren entwickelt, die die sehr komplexen Vielteilchengleichungen der Quantenmechanik mathematisch und numerisch behandelbar machen. Diese Methoden reichen von der Hartree-Fock-Theorie (HF) über Dichtefunktionalverfahrenn(DFT) bis hin zu hochgenauen Korrelationsmethoden (CI) und erlauben es, Strukturen, Energien, Spektren und Reaktionspfade mit hoher Genauigkeit zu berechnen."
   ]
  },
  {
   "cell_type": "markdown",
   "id": "3dab6aa4",
   "metadata": {
    "slideshow": {
     "slide_type": "slide"
    }
   },
   "source": [
    "Neben der Beschreibung stationärer Zustände gewinnt auch die **zeitabhängige Quantenchemie** an Bedeutung. Sie ermöglicht die Untersuchung von **elektronischer Dynamik**, **nichtadiabatischen Übergängen** und **lichtinduzierten Reaktionen**, die für Photochemie, Katalyse und Materialwissenschaften von zentraler Relevanz sind.\n",
    "\n",
    "Die Quantenchemie verbindet also die fundamentalen Prinzipien der Quantenphysik mit der \n",
    "Welt chemischer Phänomene. Sie eröffnet die Möglichkeit, die Eigenschaften komplexer Moleküle und Materialien bereits am Computer zu verstehen und gezielt vorherzusagen."
   ]
  },
  {
   "cell_type": "markdown",
   "id": "e646e1e1",
   "metadata": {
    "slideshow": {
     "slide_type": "slide"
    }
   },
   "source": [
    "<div style=\"display: flex; align-items: flex-start; gap: 1.5rem;\">\n",
    "\n",
    "  <figure style=\"margin: 0;\">\n",
    "<img src=\"https://upload.wikimedia.org/wikipedia/commons/5/50/Paul_Dirac%2C_1933.jpg\"\n",
    "     alt=\"Paul Dirac, 1933\"\n",
    "     style=\"width:540px; border-radius:8px; box-shadow:0 0 6px rgba(0,0,0,0.2);\">\n",
    "    <figcaption style=\"text-align:center; font-size:0.9em; color:#555;\">Paul A. M. Dirac   (1902 – 1984)</figcaption>\n",
    "  </figure>\n",
    "\n",
    "  <blockquote style=\"font-size:1.05em; line-height:1.4; color:#222; margin:0;\">\n",
    "    The underlying physical laws necessary for the mathematical theory of a large part of physics and the <b>whole of chemistry</b> are thus completely known, and the difficulty is only that the exact application of these laws leads to equations much too complicated to be soluble. It therefore becomes desirable that approximate practical methods of applying quantum mechanics should be developed, which can lead to an explanation of the main features of complex atomic systems without too much computation.\n",
    "    <br><br>\n",
    "    <span style=\"font-size:0.9em; color:#555;\">— P. A. M. Dirac (1929)</span>\n",
    "  </blockquote>\n",
    "\n",
    "</div>\n",
    "\n",
    "<p style=\"font-size:0.8em; color:#777; margin-top:0.8rem;\">\n",
    "Image source: <a href=\"https://commons.wikimedia.org/wiki/File:Paul_Dirac,_1933.jpg\">Wikimedia Commons</a>, public domain.\n",
    "</p>\n"
   ]
  },
  {
   "cell_type": "markdown",
   "id": "0c35fd23",
   "metadata": {},
   "source": [
    "## Vom der Quantenmechanik zur molekularen Schrödingergleichung\n",
    "\n",
    "Das obere berühmte Zitat von Dirac markiert den Ausgangspunkt und die Geburstsstunde der Quantenchemie. Unsere Aufgabe besteht nun darin zu verstehen, wie sich aus den bekannten Prinzipien der Quantenmechanik die Struktur, Reaktivität und andere Eigenschaften von Molekülen ableiten lässt.\n",
    "\n",
    "Im Zentrum der Quantenchemie steht die (stationäre) **Schrödingergleichung**, die uns Energie und stationäre Zustände eines molekularen Systems liefert. Diese hat die Form eines Eigenwertproblems:\n",
    "\n",
    "$$\n",
    "\\hat H \\Psi = E \\Psi .\n",
    "$$\n",
    "\n",
    "Hier ist $\\hat H$ der **Hamiltonoperator** und $\\Psi$ die **Wellenfunktion**, die **alle**  Informationen über das System enthält.\n",
    "\n",
    "Für ein allgemeines Molekül, das eine bestimmte Anzahl von Elektronen und Kernen beinhaltet lautet der nichtrelativistische Hamiltonoperator (in atomaren Einheiten):\n",
    "\n",
    "$$\n",
    "\\hat H = \n",
    "-\\sum_i \\frac{1}{2}\\nabla_i^2 \n",
    "- \\sum_A \\frac{1}{2M_A}\\nabla_A^2\n",
    "- \\sum_{iA}\\frac{Z_A}{r_{iA}}\n",
    "+ \\sum_{i<j}\\frac{1}{r_{ij}}\n",
    "+ \\sum_{A<B}\\frac{Z_A Z_B}{R_{AB}} .\n",
    "$$\n",
    "\n",
    "Die einzelnen Terme beschreiben (in dieser Reihenfolge) die **kinetische Energie der Elektronen**, die **kinetische Energie der Kerne**, die **Anziehung zwischen Elektronen und Kernen**, die **Elektron–Elektron-Abstoßung** sowie die **Kern–Kern-Abstoßung**.\n",
    "\n",
    "Obwohl diese Gleichung einfach aussieht, ist ihre exakte Lösung bereits für das einfachste Moleküle (z. B. H$_2^+$ oder H$_2$) nicht mehr analytisch möglich.  \n",
    "Die zentrale Herausforderung der Quantenchemie besteht daher in der Entwicklung von **Näherungen**: Wir müssen Ansätze für die Wellenfunktionen konstruieren, die die wesentlichen physikalischen Effekte erfassen, aber noch berechenbar bleiben.\n",
    "\n",
    "Als erste Näherungsmethode zur Lösung der Schrödingergleichung entwickeln wir im Folgenden das sogenannte **Variationsprinzip**.  Aus diesem Prinzip lassen sich viele praktischen Methoden der Elektronenstrukturtheorie vom Hartree-Fock-Verfahren bis zu modernen korrelierten Ansätzen als systematische Verfeinerungen ableiten.\n"
   ]
  }
 ],
 "metadata": {
  "celltoolbar": "Slideshow",
  "kernelspec": {
   "display_name": "Python 3 (ipykernel)",
   "language": "python",
   "name": "python3"
  },
  "language_info": {
   "codemirror_mode": {
    "name": "ipython",
    "version": 3
   },
   "file_extension": ".py",
   "mimetype": "text/x-python",
   "name": "python",
   "nbconvert_exporter": "python",
   "pygments_lexer": "ipython3",
   "version": "3.10.9"
  }
 },
 "nbformat": 4,
 "nbformat_minor": 5
}
