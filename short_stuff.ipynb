{
 "cells": [
  {
   "cell_type": "code",
   "execution_count": 8,
   "id": "1e1722ee",
   "metadata": {},
   "outputs": [],
   "source": [
    "import sympy as sp\n",
    "from sympy import oo"
   ]
  },
  {
   "cell_type": "code",
   "execution_count": 17,
   "id": "03023207",
   "metadata": {},
   "outputs": [],
   "source": [
    "x= sp.symbols('x', real = True)\n",
    "alpha,beta = sp.symbols('alpha beta', real = True, positive = True)\n",
    "hbar,m = sp.symbols('hbar m', real = True, positive = True)"
   ]
  },
  {
   "cell_type": "code",
   "execution_count": 18,
   "id": "28eaf14c",
   "metadata": {},
   "outputs": [],
   "source": [
    "psi = sp.exp(-beta*x**2)\n",
    "N = 1/ sp.sqrt(sp.integrate(psi**2,(x,-oo,+oo)))"
   ]
  },
  {
   "cell_type": "code",
   "execution_count": 19,
   "id": "43461609",
   "metadata": {},
   "outputs": [],
   "source": [
    "psi = N * psi"
   ]
  },
  {
   "cell_type": "code",
   "execution_count": 22,
   "id": "c584efb4",
   "metadata": {},
   "outputs": [],
   "source": [
    "E = -hbar**2/(2*m)*sp.integrate(psi*psi.diff(x,2),\n",
    "                               (x,-oo,+oo)) + alpha*sp.integrate(x**4*psi**2,(x,-oo,+oo))"
   ]
  },
  {
   "cell_type": "code",
   "execution_count": 24,
   "id": "eff3a768",
   "metadata": {},
   "outputs": [
    {
     "data": {
      "text/latex": [
       "$\\displaystyle \\frac{3 \\alpha}{16 \\beta^{2}} + \\frac{\\beta \\hbar^{2}}{2 m}$"
      ],
      "text/plain": [
       "3*alpha/(16*beta**2) + beta*hbar**2/(2*m)"
      ]
     },
     "execution_count": 24,
     "metadata": {},
     "output_type": "execute_result"
    }
   ],
   "source": [
    "E"
   ]
  },
  {
   "cell_type": "code",
   "execution_count": 27,
   "id": "153d6545",
   "metadata": {},
   "outputs": [],
   "source": [
    "r1,r2 = sp.symbols('r1 r2', real = True, positive = True)\n",
    "Z = sp.symbols('Z', real = True, positive = True)\n",
    "psi1 = sp.exp(-2*Z*r1)\n",
    "psi2 = sp.exp(-2*Z*r2)"
   ]
  },
  {
   "cell_type": "code",
   "execution_count": 43,
   "id": "7626e711",
   "metadata": {},
   "outputs": [],
   "source": [
    "J = 16*sp.pi**2*(\n",
    "    sp.integrate(r1*r2**2*psi1*psi2, (r2, 0, r1), (r1, 0, sp.oo))\n",
    "  + sp.integrate(r1**2*r2*psi1*psi2, (r2, r1, sp.oo), (r1, 0, sp.oo))\n",
    ")\n"
   ]
  },
  {
   "cell_type": "code",
   "execution_count": 44,
   "id": "bc7db04f",
   "metadata": {},
   "outputs": [
    {
     "data": {
      "text/latex": [
       "$\\displaystyle \\frac{5 \\pi^{2}}{8 Z^{5}}$"
      ],
      "text/plain": [
       "5*pi**2/(8*Z**5)"
      ]
     },
     "execution_count": 44,
     "metadata": {},
     "output_type": "execute_result"
    }
   ],
   "source": [
    "J.simplify()\n"
   ]
  },
  {
   "cell_type": "markdown",
   "id": "7a5de48b",
   "metadata": {},
   "source": [
    "# Kinetic energy density in Hylleraas coordinates"
   ]
  },
  {
   "cell_type": "code",
   "execution_count": 199,
   "id": "52e889df",
   "metadata": {},
   "outputs": [
    {
     "data": {
      "text/latex": [
       "$\\displaystyle \\left[\\begin{matrix}\\frac{x_{1}}{\\sqrt{x_{1}^{2} + y_{1}^{2} + z_{1}^{2}}} & \\frac{y_{1}}{\\sqrt{x_{1}^{2} + y_{1}^{2} + z_{1}^{2}}} & \\frac{z_{1}}{\\sqrt{x_{1}^{2} + y_{1}^{2} + z_{1}^{2}}} & \\frac{x_{2}}{\\sqrt{x_{2}^{2} + y_{2}^{2} + z_{2}^{2}}} & \\frac{y_{2}}{\\sqrt{x_{2}^{2} + y_{2}^{2} + z_{2}^{2}}} & \\frac{z_{2}}{\\sqrt{x_{2}^{2} + y_{2}^{2} + z_{2}^{2}}}\\\\\\frac{x_{1}}{\\sqrt{x_{1}^{2} + y_{1}^{2} + z_{1}^{2}}} & \\frac{y_{1}}{\\sqrt{x_{1}^{2} + y_{1}^{2} + z_{1}^{2}}} & \\frac{z_{1}}{\\sqrt{x_{1}^{2} + y_{1}^{2} + z_{1}^{2}}} & - \\frac{x_{2}}{\\sqrt{x_{2}^{2} + y_{2}^{2} + z_{2}^{2}}} & - \\frac{y_{2}}{\\sqrt{x_{2}^{2} + y_{2}^{2} + z_{2}^{2}}} & - \\frac{z_{2}}{\\sqrt{x_{2}^{2} + y_{2}^{2} + z_{2}^{2}}}\\\\\\frac{x_{1} - x_{2}}{\\sqrt{\\left(- x_{1} + x_{2}\\right)^{2} + \\left(- y_{1} + y_{2}\\right)^{2} + \\left(- z_{1} + z_{2}\\right)^{2}}} & \\frac{y_{1} - y_{2}}{\\sqrt{\\left(- x_{1} + x_{2}\\right)^{2} + \\left(- y_{1} + y_{2}\\right)^{2} + \\left(- z_{1} + z_{2}\\right)^{2}}} & \\frac{z_{1} - z_{2}}{\\sqrt{\\left(- x_{1} + x_{2}\\right)^{2} + \\left(- y_{1} + y_{2}\\right)^{2} + \\left(- z_{1} + z_{2}\\right)^{2}}} & \\frac{- x_{1} + x_{2}}{\\sqrt{\\left(- x_{1} + x_{2}\\right)^{2} + \\left(- y_{1} + y_{2}\\right)^{2} + \\left(- z_{1} + z_{2}\\right)^{2}}} & \\frac{- y_{1} + y_{2}}{\\sqrt{\\left(- x_{1} + x_{2}\\right)^{2} + \\left(- y_{1} + y_{2}\\right)^{2} + \\left(- z_{1} + z_{2}\\right)^{2}}} & \\frac{- z_{1} + z_{2}}{\\sqrt{\\left(- x_{1} + x_{2}\\right)^{2} + \\left(- y_{1} + y_{2}\\right)^{2} + \\left(- z_{1} + z_{2}\\right)^{2}}}\\end{matrix}\\right]$"
      ],
      "text/plain": [
       "Matrix([\n",
       "[                               x1/sqrt(x1**2 + y1**2 + z1**2),                                y1/sqrt(x1**2 + y1**2 + z1**2),                                z1/sqrt(x1**2 + y1**2 + z1**2),                                 x2/sqrt(x2**2 + y2**2 + z2**2),                                 y2/sqrt(x2**2 + y2**2 + z2**2),                                 z2/sqrt(x2**2 + y2**2 + z2**2)],\n",
       "[                               x1/sqrt(x1**2 + y1**2 + z1**2),                                y1/sqrt(x1**2 + y1**2 + z1**2),                                z1/sqrt(x1**2 + y1**2 + z1**2),                                -x2/sqrt(x2**2 + y2**2 + z2**2),                                -y2/sqrt(x2**2 + y2**2 + z2**2),                                -z2/sqrt(x2**2 + y2**2 + z2**2)],\n",
       "[(x1 - x2)/sqrt((-x1 + x2)**2 + (-y1 + y2)**2 + (-z1 + z2)**2), (y1 - y2)/sqrt((-x1 + x2)**2 + (-y1 + y2)**2 + (-z1 + z2)**2), (z1 - z2)/sqrt((-x1 + x2)**2 + (-y1 + y2)**2 + (-z1 + z2)**2), (-x1 + x2)/sqrt((-x1 + x2)**2 + (-y1 + y2)**2 + (-z1 + z2)**2), (-y1 + y2)/sqrt((-x1 + x2)**2 + (-y1 + y2)**2 + (-z1 + z2)**2), (-z1 + z2)/sqrt((-x1 + x2)**2 + (-y1 + y2)**2 + (-z1 + z2)**2)]])"
      ]
     },
     "execution_count": 199,
     "metadata": {},
     "output_type": "execute_result"
    }
   ],
   "source": [
    "import sympy as sp\n",
    "\n",
    "x1, y1, z1, x2, y2, z2 = sp.symbols('x1 y1 z1 x2 y2 z2', real=True)\n",
    "r1v = sp.Matrix([x1, y1, z1])\n",
    "r2v = sp.Matrix([x2, y2, z2])\n",
    "\n",
    "r1  = sp.sqrt(r1v.dot(r1v))\n",
    "r2  = sp.sqrt(r2v.dot(r2v))\n",
    "s = r1 + r2\n",
    "t = r1 - r2\n",
    "u   = sp.sqrt((r2v - r1v).dot(r2v - r1v))\n",
    "\n",
    "new_var = sp.Matrix([s, t, u])                 # (r1, r2, u)\n",
    "old_var = sp.Matrix([x1, y1, z1, x2, y2, z2])\n",
    "\n",
    "J = new_var.jacobian(old_var)\n",
    "J"
   ]
  },
  {
   "cell_type": "code",
   "execution_count": 203,
   "id": "3d4a39f8",
   "metadata": {},
   "outputs": [],
   "source": [
    "D_s, D_t, D_u = sp.symbols('D_s D_t D_u', real=True)\n",
    "D_stu = sp.Matrix([D_s, D_t, D_u])\n",
    "D_xyz = J.T @ D_stu"
   ]
  },
  {
   "cell_type": "code",
   "execution_count": 208,
   "id": "6a7b77d1",
   "metadata": {},
   "outputs": [],
   "source": [
    "D2 = D_xyz.T @ D_xyz"
   ]
  },
  {
   "cell_type": "code",
   "execution_count": 209,
   "id": "44711433",
   "metadata": {},
   "outputs": [
    {
     "data": {
      "text/latex": [
       "$\\displaystyle \\left(\\frac{D_{s} x_{1}}{\\sqrt{x_{1}^{2} + y_{1}^{2} + z_{1}^{2}}} + \\frac{D_{t} x_{1}}{\\sqrt{x_{1}^{2} + y_{1}^{2} + z_{1}^{2}}} + \\frac{D_{u} \\left(x_{1} - x_{2}\\right)}{\\sqrt{\\left(- x_{1} + x_{2}\\right)^{2} + \\left(- y_{1} + y_{2}\\right)^{2} + \\left(- z_{1} + z_{2}\\right)^{2}}}\\right)^{2} + \\left(\\frac{D_{s} x_{2}}{\\sqrt{x_{2}^{2} + y_{2}^{2} + z_{2}^{2}}} - \\frac{D_{t} x_{2}}{\\sqrt{x_{2}^{2} + y_{2}^{2} + z_{2}^{2}}} + \\frac{D_{u} \\left(- x_{1} + x_{2}\\right)}{\\sqrt{\\left(- x_{1} + x_{2}\\right)^{2} + \\left(- y_{1} + y_{2}\\right)^{2} + \\left(- z_{1} + z_{2}\\right)^{2}}}\\right)^{2} + \\left(\\frac{D_{s} y_{1}}{\\sqrt{x_{1}^{2} + y_{1}^{2} + z_{1}^{2}}} + \\frac{D_{t} y_{1}}{\\sqrt{x_{1}^{2} + y_{1}^{2} + z_{1}^{2}}} + \\frac{D_{u} \\left(y_{1} - y_{2}\\right)}{\\sqrt{\\left(- x_{1} + x_{2}\\right)^{2} + \\left(- y_{1} + y_{2}\\right)^{2} + \\left(- z_{1} + z_{2}\\right)^{2}}}\\right)^{2} + \\left(\\frac{D_{s} y_{2}}{\\sqrt{x_{2}^{2} + y_{2}^{2} + z_{2}^{2}}} - \\frac{D_{t} y_{2}}{\\sqrt{x_{2}^{2} + y_{2}^{2} + z_{2}^{2}}} + \\frac{D_{u} \\left(- y_{1} + y_{2}\\right)}{\\sqrt{\\left(- x_{1} + x_{2}\\right)^{2} + \\left(- y_{1} + y_{2}\\right)^{2} + \\left(- z_{1} + z_{2}\\right)^{2}}}\\right)^{2} + \\left(\\frac{D_{s} z_{1}}{\\sqrt{x_{1}^{2} + y_{1}^{2} + z_{1}^{2}}} + \\frac{D_{t} z_{1}}{\\sqrt{x_{1}^{2} + y_{1}^{2} + z_{1}^{2}}} + \\frac{D_{u} \\left(z_{1} - z_{2}\\right)}{\\sqrt{\\left(- x_{1} + x_{2}\\right)^{2} + \\left(- y_{1} + y_{2}\\right)^{2} + \\left(- z_{1} + z_{2}\\right)^{2}}}\\right)^{2} + \\left(\\frac{D_{s} z_{2}}{\\sqrt{x_{2}^{2} + y_{2}^{2} + z_{2}^{2}}} - \\frac{D_{t} z_{2}}{\\sqrt{x_{2}^{2} + y_{2}^{2} + z_{2}^{2}}} + \\frac{D_{u} \\left(- z_{1} + z_{2}\\right)}{\\sqrt{\\left(- x_{1} + x_{2}\\right)^{2} + \\left(- y_{1} + y_{2}\\right)^{2} + \\left(- z_{1} + z_{2}\\right)^{2}}}\\right)^{2}$"
      ],
      "text/plain": [
       "(D_s*x1/sqrt(x1**2 + y1**2 + z1**2) + D_t*x1/sqrt(x1**2 + y1**2 + z1**2) + D_u*(x1 - x2)/sqrt((-x1 + x2)**2 + (-y1 + y2)**2 + (-z1 + z2)**2))**2 + (D_s*x2/sqrt(x2**2 + y2**2 + z2**2) - D_t*x2/sqrt(x2**2 + y2**2 + z2**2) + D_u*(-x1 + x2)/sqrt((-x1 + x2)**2 + (-y1 + y2)**2 + (-z1 + z2)**2))**2 + (D_s*y1/sqrt(x1**2 + y1**2 + z1**2) + D_t*y1/sqrt(x1**2 + y1**2 + z1**2) + D_u*(y1 - y2)/sqrt((-x1 + x2)**2 + (-y1 + y2)**2 + (-z1 + z2)**2))**2 + (D_s*y2/sqrt(x2**2 + y2**2 + z2**2) - D_t*y2/sqrt(x2**2 + y2**2 + z2**2) + D_u*(-y1 + y2)/sqrt((-x1 + x2)**2 + (-y1 + y2)**2 + (-z1 + z2)**2))**2 + (D_s*z1/sqrt(x1**2 + y1**2 + z1**2) + D_t*z1/sqrt(x1**2 + y1**2 + z1**2) + D_u*(z1 - z2)/sqrt((-x1 + x2)**2 + (-y1 + y2)**2 + (-z1 + z2)**2))**2 + (D_s*z2/sqrt(x2**2 + y2**2 + z2**2) - D_t*z2/sqrt(x2**2 + y2**2 + z2**2) + D_u*(-z1 + z2)/sqrt((-x1 + x2)**2 + (-y1 + y2)**2 + (-z1 + z2)**2))**2"
      ]
     },
     "execution_count": 209,
     "metadata": {},
     "output_type": "execute_result"
    }
   ],
   "source": [
    "D2[0]"
   ]
  },
  {
   "cell_type": "code",
   "execution_count": 212,
   "id": "37cc72b4",
   "metadata": {},
   "outputs": [],
   "source": [
    "subsdict = {r1**2, sp.symbols('r1^2'),\n",
    "            r2**2, sp.symbols('r2^2'),\n",
    "            r12**2,sp.symbols('r12^2') }"
   ]
  },
  {
   "cell_type": "code",
   "execution_count": 213,
   "id": "42a155fa",
   "metadata": {},
   "outputs": [
    {
     "ename": "TypeError",
     "evalue": "'Symbol' object is not subscriptable",
     "output_type": "error",
     "traceback": [
      "\u001b[0;31m---------------------------------------------------------------------------\u001b[0m",
      "\u001b[0;31mTypeError\u001b[0m                                 Traceback (most recent call last)",
      "Cell \u001b[0;32mIn[213], line 1\u001b[0m\n\u001b[0;32m----> 1\u001b[0m D2 \u001b[38;5;241m=\u001b[39m \u001b[43mD2\u001b[49m\u001b[38;5;241;43m.\u001b[39;49m\u001b[43msubs\u001b[49m\u001b[43m(\u001b[49m\u001b[43msubsdict\u001b[49m\u001b[43m)\u001b[49m\n",
      "File \u001b[0;32m~/anaconda3/lib/python3.10/site-packages/sympy/matrices/common.py:2426\u001b[0m, in \u001b[0;36mMatrixOperations.subs\u001b[0;34m(self, *args, **kwargs)\u001b[0m\n\u001b[1;32m   2423\u001b[0m \u001b[38;5;28;01mif\u001b[39;00m \u001b[38;5;28mlen\u001b[39m(args) \u001b[38;5;241m==\u001b[39m \u001b[38;5;241m1\u001b[39m \u001b[38;5;129;01mand\u001b[39;00m  \u001b[38;5;129;01mnot\u001b[39;00m \u001b[38;5;28misinstance\u001b[39m(args[\u001b[38;5;241m0\u001b[39m], (\u001b[38;5;28mdict\u001b[39m, \u001b[38;5;28mset\u001b[39m)) \u001b[38;5;129;01mand\u001b[39;00m \u001b[38;5;28miter\u001b[39m(args[\u001b[38;5;241m0\u001b[39m]) \u001b[38;5;129;01mand\u001b[39;00m \u001b[38;5;129;01mnot\u001b[39;00m is_sequence(args[\u001b[38;5;241m0\u001b[39m]):\n\u001b[1;32m   2424\u001b[0m     args \u001b[38;5;241m=\u001b[39m (\u001b[38;5;28mlist\u001b[39m(args[\u001b[38;5;241m0\u001b[39m]),)\n\u001b[0;32m-> 2426\u001b[0m \u001b[38;5;28;01mreturn\u001b[39;00m \u001b[38;5;28;43mself\u001b[39;49m\u001b[38;5;241;43m.\u001b[39;49m\u001b[43mapplyfunc\u001b[49m\u001b[43m(\u001b[49m\u001b[38;5;28;43;01mlambda\u001b[39;49;00m\u001b[43m \u001b[49m\u001b[43mx\u001b[49m\u001b[43m:\u001b[49m\u001b[43m \u001b[49m\u001b[43mx\u001b[49m\u001b[38;5;241;43m.\u001b[39;49m\u001b[43msubs\u001b[49m\u001b[43m(\u001b[49m\u001b[38;5;241;43m*\u001b[39;49m\u001b[43margs\u001b[49m\u001b[43m,\u001b[49m\u001b[43m \u001b[49m\u001b[38;5;241;43m*\u001b[39;49m\u001b[38;5;241;43m*\u001b[39;49m\u001b[43mkwargs\u001b[49m\u001b[43m)\u001b[49m\u001b[43m)\u001b[49m\n",
      "File \u001b[0;32m~/anaconda3/lib/python3.10/site-packages/sympy/matrices/common.py:2058\u001b[0m, in \u001b[0;36mMatrixOperations.applyfunc\u001b[0;34m(self, f)\u001b[0m\n\u001b[1;32m   2055\u001b[0m \u001b[38;5;28;01mif\u001b[39;00m \u001b[38;5;129;01mnot\u001b[39;00m \u001b[38;5;28mcallable\u001b[39m(f):\n\u001b[1;32m   2056\u001b[0m     \u001b[38;5;28;01mraise\u001b[39;00m \u001b[38;5;167;01mTypeError\u001b[39;00m(\u001b[38;5;124m\"\u001b[39m\u001b[38;5;124m`f` must be callable.\u001b[39m\u001b[38;5;124m\"\u001b[39m)\n\u001b[0;32m-> 2058\u001b[0m \u001b[38;5;28;01mreturn\u001b[39;00m \u001b[38;5;28;43mself\u001b[39;49m\u001b[38;5;241;43m.\u001b[39;49m\u001b[43m_eval_applyfunc\u001b[49m\u001b[43m(\u001b[49m\u001b[43mf\u001b[49m\u001b[43m)\u001b[49m\n",
      "File \u001b[0;32m~/anaconda3/lib/python3.10/site-packages/sympy/matrices/common.py:2000\u001b[0m, in \u001b[0;36mMatrixOperations._eval_applyfunc\u001b[0;34m(self, f)\u001b[0m\n\u001b[1;32m   1999\u001b[0m \u001b[38;5;28;01mdef\u001b[39;00m\u001b[38;5;250m \u001b[39m\u001b[38;5;21m_eval_applyfunc\u001b[39m(\u001b[38;5;28mself\u001b[39m, f):\n\u001b[0;32m-> 2000\u001b[0m     out \u001b[38;5;241m=\u001b[39m \u001b[38;5;28mself\u001b[39m\u001b[38;5;241m.\u001b[39m_new(\u001b[38;5;28mself\u001b[39m\u001b[38;5;241m.\u001b[39mrows, \u001b[38;5;28mself\u001b[39m\u001b[38;5;241m.\u001b[39mcols, [f(x) \u001b[38;5;28;01mfor\u001b[39;00m x \u001b[38;5;129;01min\u001b[39;00m \u001b[38;5;28mself\u001b[39m])\n\u001b[1;32m   2001\u001b[0m     \u001b[38;5;28;01mreturn\u001b[39;00m out\n",
      "File \u001b[0;32m~/anaconda3/lib/python3.10/site-packages/sympy/matrices/common.py:2000\u001b[0m, in \u001b[0;36m<listcomp>\u001b[0;34m(.0)\u001b[0m\n\u001b[1;32m   1999\u001b[0m \u001b[38;5;28;01mdef\u001b[39;00m\u001b[38;5;250m \u001b[39m\u001b[38;5;21m_eval_applyfunc\u001b[39m(\u001b[38;5;28mself\u001b[39m, f):\n\u001b[0;32m-> 2000\u001b[0m     out \u001b[38;5;241m=\u001b[39m \u001b[38;5;28mself\u001b[39m\u001b[38;5;241m.\u001b[39m_new(\u001b[38;5;28mself\u001b[39m\u001b[38;5;241m.\u001b[39mrows, \u001b[38;5;28mself\u001b[39m\u001b[38;5;241m.\u001b[39mcols, [\u001b[43mf\u001b[49m\u001b[43m(\u001b[49m\u001b[43mx\u001b[49m\u001b[43m)\u001b[49m \u001b[38;5;28;01mfor\u001b[39;00m x \u001b[38;5;129;01min\u001b[39;00m \u001b[38;5;28mself\u001b[39m])\n\u001b[1;32m   2001\u001b[0m     \u001b[38;5;28;01mreturn\u001b[39;00m out\n",
      "File \u001b[0;32m~/anaconda3/lib/python3.10/site-packages/sympy/matrices/common.py:2426\u001b[0m, in \u001b[0;36mMatrixOperations.subs.<locals>.<lambda>\u001b[0;34m(x)\u001b[0m\n\u001b[1;32m   2423\u001b[0m \u001b[38;5;28;01mif\u001b[39;00m \u001b[38;5;28mlen\u001b[39m(args) \u001b[38;5;241m==\u001b[39m \u001b[38;5;241m1\u001b[39m \u001b[38;5;129;01mand\u001b[39;00m  \u001b[38;5;129;01mnot\u001b[39;00m \u001b[38;5;28misinstance\u001b[39m(args[\u001b[38;5;241m0\u001b[39m], (\u001b[38;5;28mdict\u001b[39m, \u001b[38;5;28mset\u001b[39m)) \u001b[38;5;129;01mand\u001b[39;00m \u001b[38;5;28miter\u001b[39m(args[\u001b[38;5;241m0\u001b[39m]) \u001b[38;5;129;01mand\u001b[39;00m \u001b[38;5;129;01mnot\u001b[39;00m is_sequence(args[\u001b[38;5;241m0\u001b[39m]):\n\u001b[1;32m   2424\u001b[0m     args \u001b[38;5;241m=\u001b[39m (\u001b[38;5;28mlist\u001b[39m(args[\u001b[38;5;241m0\u001b[39m]),)\n\u001b[0;32m-> 2426\u001b[0m \u001b[38;5;28;01mreturn\u001b[39;00m \u001b[38;5;28mself\u001b[39m\u001b[38;5;241m.\u001b[39mapplyfunc(\u001b[38;5;28;01mlambda\u001b[39;00m x: \u001b[43mx\u001b[49m\u001b[38;5;241;43m.\u001b[39;49m\u001b[43msubs\u001b[49m\u001b[43m(\u001b[49m\u001b[38;5;241;43m*\u001b[39;49m\u001b[43margs\u001b[49m\u001b[43m,\u001b[49m\u001b[43m \u001b[49m\u001b[38;5;241;43m*\u001b[39;49m\u001b[38;5;241;43m*\u001b[39;49m\u001b[43mkwargs\u001b[49m\u001b[43m)\u001b[49m)\n",
      "File \u001b[0;32m~/anaconda3/lib/python3.10/site-packages/sympy/core/basic.py:940\u001b[0m, in \u001b[0;36mBasic.subs\u001b[0;34m(self, *args, **kwargs)\u001b[0m\n\u001b[1;32m    938\u001b[0m sequence \u001b[38;5;241m=\u001b[39m \u001b[38;5;28mlist\u001b[39m(sequence)\n\u001b[1;32m    939\u001b[0m \u001b[38;5;28;01mfor\u001b[39;00m i, s \u001b[38;5;129;01min\u001b[39;00m \u001b[38;5;28menumerate\u001b[39m(sequence):\n\u001b[0;32m--> 940\u001b[0m     \u001b[38;5;28;01mif\u001b[39;00m \u001b[38;5;28misinstance\u001b[39m(\u001b[43ms\u001b[49m\u001b[43m[\u001b[49m\u001b[38;5;241;43m0\u001b[39;49m\u001b[43m]\u001b[49m, \u001b[38;5;28mstr\u001b[39m):\n\u001b[1;32m    941\u001b[0m         \u001b[38;5;66;03m# when old is a string we prefer Symbol\u001b[39;00m\n\u001b[1;32m    942\u001b[0m         s \u001b[38;5;241m=\u001b[39m Symbol(s[\u001b[38;5;241m0\u001b[39m]), s[\u001b[38;5;241m1\u001b[39m]\n\u001b[1;32m    943\u001b[0m     \u001b[38;5;28;01mtry\u001b[39;00m:\n",
      "\u001b[0;31mTypeError\u001b[0m: 'Symbol' object is not subscriptable"
     ]
    }
   ],
   "source": [
    "D2 = D2.subs(subsdict)"
   ]
  },
  {
   "cell_type": "code",
   "execution_count": null,
   "id": "b69dd933",
   "metadata": {},
   "outputs": [],
   "source": []
  }
 ],
 "metadata": {
  "kernelspec": {
   "display_name": "Python 3 (ipykernel)",
   "language": "python",
   "name": "python3"
  },
  "language_info": {
   "codemirror_mode": {
    "name": "ipython",
    "version": 3
   },
   "file_extension": ".py",
   "mimetype": "text/x-python",
   "name": "python",
   "nbconvert_exporter": "python",
   "pygments_lexer": "ipython3",
   "version": "3.10.9"
  }
 },
 "nbformat": 4,
 "nbformat_minor": 5
}
