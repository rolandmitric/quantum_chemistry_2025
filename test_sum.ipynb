{
 "cells": [
  {
   "cell_type": "code",
   "execution_count": 9,
   "id": "2890cb2f",
   "metadata": {},
   "outputs": [],
   "source": [
    "import sympy as sp\n",
    "from sympy import oo\n",
    "r1, r2, Z = sp.symbols('r1 r2 Z', positive=True, real=True)\n",
    "\n",
    "def laplacian_radial(psi, r):\n",
    "    return psi.diff(r, 2) + (2/r)*psi.diff(r)\n",
    "\n",
    "def T(psi):\n",
    "    return -sp.S.Half * (laplacian_radial(psi, r1) + laplacian_radial(psi, r2))\n",
    "\n",
    "def V_ne(psi):\n",
    "    return -(Z/r1 + Z/r2) * psi\n",
    "\n",
    "def H0(psi):\n",
    "    return T(psi) + V_ne(psi)\n",
    "\n",
    "psi0 = sp.exp(-Z*r1) *  sp.exp(-Z*r2)\n",
    "\n",
    "def integrate_6d(f):\n",
    "    integrand = (4*sp.pi)**2 * r1**2 * r2**2 * f\n",
    "    I_r2 = sp.integrate(integrand, (r2, 0, sp.oo))\n",
    "    I_r1 = sp.integrate(I_r2, (r1, 0, sp.oo))\n",
    "    return sp.simplify(I_r1)\n",
    "\n",
    "def energy(psi, H):\n",
    "    num = integrate_6d(psi * H(psi))\n",
    "    den = integrate_6d(psi * psi)\n",
    "    return sp.simplify(num/den)\n",
    "\n",
    "E_Z = energy(psi0, H0)            "
   ]
  },
  {
   "cell_type": "code",
   "execution_count": 8,
   "id": "ad81428e",
   "metadata": {},
   "outputs": [
    {
     "data": {
      "text/latex": [
       "$\\displaystyle \\text{NaN}$"
      ],
      "text/plain": [
       "nan"
      ]
     },
     "execution_count": 8,
     "metadata": {},
     "output_type": "execute_result"
    }
   ],
   "source": [
    "E_Z"
   ]
  },
  {
   "cell_type": "code",
   "execution_count": null,
   "id": "7fdd531b",
   "metadata": {},
   "outputs": [],
   "source": []
  }
 ],
 "metadata": {
  "kernelspec": {
   "display_name": "Python 3 (ipykernel)",
   "language": "python",
   "name": "python3"
  },
  "language_info": {
   "codemirror_mode": {
    "name": "ipython",
    "version": 3
   },
   "file_extension": ".py",
   "mimetype": "text/x-python",
   "name": "python",
   "nbconvert_exporter": "python",
   "pygments_lexer": "ipython3",
   "version": "3.10.9"
  }
 },
 "nbformat": 4,
 "nbformat_minor": 5
}
